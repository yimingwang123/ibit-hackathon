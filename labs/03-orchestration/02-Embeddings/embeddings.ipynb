{
 "cells": [
  {
   "attachments": {},
   "cell_type": "markdown",
   "metadata": {},
   "source": [
    "# 02 Embeddings\n",
    "\n",
    "In this lab, we'll explore how we can bring our own data into the models used by Azure OpenAI.\n",
    "\n",
    "We'll start as usual by initiating a connection to the Azure OpenAI service.\n",
    "\n",
    "**NOTE**: As with previous labs, we'll use the values from the `.env` file in the root of this repository."
   ]
  },
  {
   "cell_type": "code",
   "execution_count": 2,
   "metadata": {},
   "outputs": [
    {
     "name": "stdout",
     "output_type": "stream",
     "text": [
      "Found Azure OpenAI Endpoint: https://ai-admin6169ai032713463879.cognitiveservices.azure.com\n"
     ]
    }
   ],
   "source": [
    "import os\n",
    "from langchain.llms import AzureOpenAI\n",
    "from langchain_openai import AzureChatOpenAI\n",
    "from langchain.schema import HumanMessage\n",
    "from dotenv import load_dotenv\n",
    "\n",
    "# Load environment variables\n",
    "if load_dotenv():\n",
    "    print(\"Found Azure OpenAI Endpoint: \" + os.getenv(\"AZURE_OPENAI_ENDPOINT\"))\n",
    "else: \n",
    "    print(\"No file .env found\")\n",
    "\n",
    "# Create an instance of Azure OpenAI\n",
    "llm = AzureChatOpenAI(\n",
    "    azure_deployment = os.getenv(\"AZURE_OPENAI_COMPLETION_DEPLOYMENT_NAME\")\n",
    ")"
   ]
  },
  {
   "attachments": {},
   "cell_type": "markdown",
   "metadata": {},
   "source": [
    "Let's begin by asking the AI a simple question."
   ]
  },
  {
   "cell_type": "code",
   "execution_count": 3,
   "metadata": {},
   "outputs": [
    {
     "name": "stdout",
     "output_type": "stream",
     "text": [
      "As of my last update in October 2023, the latest installment in the Deadpool film series is \"Deadpool 3.\" While specific plot details are often kept under wraps to preserve surprises for audiences, it's known that the movie continues to follow the antics of the wisecracking mercenary Wade Wilson, also known as Deadpool, played by Ryan Reynolds. The film is expected to maintain the franchise's signature blend of humor, action, and meta-commentary.\n",
      "\n",
      "\"Deadpool 3\" is particularly noteworthy because it marks the character’s integration into the Marvel Cinematic Universe (MCU) following Disney’s acquisition of 21st Century Fox, which previously owned the film rights to X-Men-related characters. Fans are eagerly anticipating how Deadpool's unique style will mesh with the broader MCU.\n",
      "\n",
      "The release date for \"Deadpool 3\" was set for May 3, 2024. However, release schedules can change, so I recommend checking the latest updates from official sources or movie news outlets for the most current information.\n"
     ]
    }
   ],
   "source": [
    "r = llm.invoke(\"Tell me about the latest Deadpool movie. When was it released? What is it about?\")\n",
    "\n",
    "# Print the response\n",
    "print(r.content)"
   ]
  },
  {
   "attachments": {},
   "cell_type": "markdown",
   "metadata": {},
   "source": [
    "What do you notice about the response?\n",
    "\n",
    "The latest \"Deadpool\" movie is called \"Deadpool and Wolverine\". Depending on the model and version you are using, it may tell you that one of the previous movies is the latest, or it may be aware of the new movie but think it hasn't been released yet.\n",
    "\n",
    "OpenAI models are trained on a large set of data, but that happened at a specific point in time depending on the model. So, many of the models have no information about events that took place in very recent months or years.\n",
    "\n",
    "To help the AI out, we can provide additional information. This is the same process you would follow if you want the AI to work with your own company data. The AI won't know about information that isn't publicly available, so if you want the AI to work with that information, then you'll need to get that information into the model.\n",
    "\n",
    "The thing is, you can't actually do that. The models are pre-trained, so the only way to get more information in is to retrain the model, which is an expensive and time consuming process.\n",
    "\n",
    "However, there *are* ways to get the AI models to work with new data. The most popular of these methods is to use *embeddings*, which we'll explore in the next sections."
   ]
  },
  {
   "attachments": {},
   "cell_type": "markdown",
   "metadata": {},
   "source": [
    "## Bring Your Own Data\n",
    "\n",
    "Langchain provides a number of useful tools, which include tools to simplify the process of working with external documents. Below, we'll use the `DirectoryLoader` which can read multiple files from a directory and the `UnstructuredMarkdownLoader` which can process files in Markdown format. We'll use these to process a bunch of markdown formatted files that contain details of movies that were released more recently."
   ]
  },
  {
   "cell_type": "code",
   "execution_count": 4,
   "metadata": {},
   "outputs": [
    {
     "name": "stderr",
     "output_type": "stream",
     "text": [
      "100%|██████████| 17/17 [00:04<00:00,  3.73it/s]\n"
     ]
    }
   ],
   "source": [
    "from langchain.document_loaders import DirectoryLoader, UnstructuredMarkdownLoader\n",
    "\n",
    "data_dir = \"data/movies\"\n",
    "\n",
    "documents = DirectoryLoader(path=data_dir, glob=\"*.md\", show_progress=True, loader_cls=UnstructuredMarkdownLoader).load()"
   ]
  },
  {
   "attachments": {},
   "cell_type": "markdown",
   "metadata": {},
   "source": [
    "We now have a `documents` object which contains all of the information from our markdown documents about movies.\n",
    "\n",
    "We can use the `question_answering` chain to provide the AI with access to our documents and then ask the same question about Deadpool movies again."
   ]
  },
  {
   "cell_type": "code",
   "execution_count": 5,
   "metadata": {},
   "outputs": [
    {
     "name": "stderr",
     "output_type": "stream",
     "text": [
      "/tmp/ipykernel_83608/820549949.py:5: LangChainDeprecationWarning: This class is deprecated. See the following migration guides for replacements based on `chain_type`:\n",
      "stuff: https://python.langchain.com/docs/versions/migrating_chains/stuff_docs_chain\n",
      "map_reduce: https://python.langchain.com/docs/versions/migrating_chains/map_reduce_chain\n",
      "refine: https://python.langchain.com/docs/versions/migrating_chains/refine_chain\n",
      "map_rerank: https://python.langchain.com/docs/versions/migrating_chains/map_rerank_docs_chain\n",
      "\n",
      "See also guides on retrieval and question-answering here: https://python.langchain.com/docs/how_to/#qa-with-rag\n",
      "  chain = load_qa_chain(llm)\n"
     ]
    },
    {
     "name": "stdout",
     "output_type": "stream",
     "text": [
      "The latest Deadpool movie is titled \"Deadpool & Wolverine.\" It was released on July 24, 2024. The film features Wade Wilson, also known as Deadpool, who finds himself back in action after leaving behind his days as a morally flexible mercenary. This time, he teams up with Wolverine to face an existential threat to his homeworld. The movie incorporates action, comedy, and science fiction elements, and is known for its humorous and meta approach, including breaking the fourth wall and referencing offscreen changes and universe developments.\n"
     ]
    }
   ],
   "source": [
    "# Question answering chain\n",
    "from langchain.chains.question_answering import load_qa_chain\n",
    "\n",
    "# Prepare the chain and the query\n",
    "chain = load_qa_chain(llm)\n",
    "query = \"Tell me about the latest Deadpool movie. When was it released? What is it about?\"\n",
    "\n",
    "result = chain.invoke({'input_documents': documents, 'question': query})\n",
    "\n",
    "print (result['output_text'])"
   ]
  },
  {
   "attachments": {},
   "cell_type": "markdown",
   "metadata": {},
   "source": [
    "Great! The model now knows the correct details for the latest Deadpool movie.\n",
    "\n",
    "However, there's something lurking! Let's take a look at what happened behind the scenes.\n",
    "\n",
    "We'll do two things here. First we'll add the `verbose=True` parameter to the chain, and we'll wrap the chain execution in a callback, which will allow us to capture the number of tokens consumed."
   ]
  },
  {
   "cell_type": "code",
   "execution_count": 6,
   "metadata": {},
   "outputs": [
    {
     "name": "stdout",
     "output_type": "stream",
     "text": [
      "\n",
      "\n",
      "\u001b[1m> Entering new StuffDocumentsChain chain...\u001b[0m\n",
      "\n",
      "\n",
      "\u001b[1m> Entering new LLMChain chain...\u001b[0m\n",
      "Prompt after formatting:\n",
      "\u001b[32;1m\u001b[1;3mSystem: Use the following pieces of context to answer the user's question. \n",
      "If you don't know the answer, just say that you don't know, don't try to make up an answer.\n",
      "----------------\n",
      "iNumber Number: Jozi Gold\n",
      "\n",
      "Overview\n",
      "\n",
      "When an undercover cop is tasked with investigating a historic gold heist in Johannesburg, he’s forced to choose between his conscience and the law.\n",
      "\n",
      "Details\n",
      "\n",
      "Release Date: 2023-06-23\n",
      "\n",
      "Genres: Crime, Action, Thriller\n",
      "\n",
      "Popularity: 719.085\n",
      "\n",
      "Vote Average: 6.3\n",
      "\n",
      "Keywords:\n",
      "\n",
      "Extraction 2\n",
      "\n",
      "Overview\n",
      "\n",
      "Tasked with extracting a family who is at the mercy of a Georgian gangster, Tyler Rake infiltrates one of the world's deadliest prisons in order to save them. But when the extraction gets hot, and the gangster dies in the heat of battle, his equally ruthless brother tracks down Rake and his team to Vienna, in order to get revenge.\n",
      "\n",
      "Details\n",
      "\n",
      "Release Date: 2023-06-09\n",
      "\n",
      "Genres: Action, Thriller\n",
      "\n",
      "Popularity: 1422.453\n",
      "\n",
      "Vote Average: 7.6\n",
      "\n",
      "Keywords: mercenary, sequel, rescue mission, long take, based on graphic novel\n",
      "\n",
      "The Flash\n",
      "\n",
      "Overview\n",
      "\n",
      "When his attempt to save his family inadvertently alters the future, Barry Allen becomes trapped in a reality in which General Zod has returned and there are no Super Heroes to turn to. In order to save the world that he is in and return to the future that he knows, Barry's only hope is to race for his life. But will making the ultimate sacrifice be enough to reset the universe?\n",
      "\n",
      "Details\n",
      "\n",
      "Release Date: 2023-06-13\n",
      "\n",
      "Genres: Science Fiction, Action, Adventure\n",
      "\n",
      "Popularity: 786.283\n",
      "\n",
      "Vote Average: 6.7\n",
      "\n",
      "Keywords: secret identity, hero, superhero, based on comic, superhuman, super power, aftercreditsstinger, butterfly effect, dc extended universe (dceu), superhuman abilities, loss of mother\n",
      "\n",
      "Guy Ritchie's The Covenant\n",
      "\n",
      "Overview\n",
      "\n",
      "During the war in Afghanistan, a local interpreter risks his own life to carry an injured sergeant across miles of grueling terrain.\n",
      "\n",
      "Details\n",
      "\n",
      "Release Date: 2023-04-19\n",
      "\n",
      "Genres: War, Action, Thriller\n",
      "\n",
      "Popularity: 544.105\n",
      "\n",
      "Vote Average: 7.8\n",
      "\n",
      "Keywords: ambush, interpreter, afghanistan, afghanistan war (2001- ), rescue, war\n",
      "\n",
      "Creed III\n",
      "\n",
      "Overview\n",
      "\n",
      "After dominating the boxing world, Adonis Creed has been thriving in both his career and family life. When a childhood friend and former boxing prodigy, Damian Anderson, resurfaces after serving a long sentence in prison, he is eager to prove that he deserves his shot in the ring. The face-off between former friends is more than just a fight. To settle the score, Adonis must put his future on the line to battle Damian — a fighter who has nothing to lose.\n",
      "\n",
      "Details\n",
      "\n",
      "Release Date: 2023-03-01\n",
      "\n",
      "Genres: Drama, Action\n",
      "\n",
      "Popularity: 433.823\n",
      "\n",
      "Vote Average: 7.2\n",
      "\n",
      "Keywords: philadelphia, pennsylvania, husband wife relationship, deaf, sports, sequel, orphan, former best friend, ex-con, childhood friends, juvenile detention center, boxing, prodigy\n",
      "\n",
      "Deadpool & Wolverine\n",
      "\n",
      "Overview\n",
      "\n",
      "A listless Wade Wilson toils away in civilian life with his days as the morally flexible mercenary, Deadpool, behind him. But when his homeworld faces an existential threat, Wade must reluctantly suit-up again with an even more reluctant Wolverine.\n",
      "\n",
      "Details\n",
      "\n",
      "Release Date: 2024-07-24\n",
      "\n",
      "Genres: Action, Comedy, Science Fiction\n",
      "\n",
      "Popularity: 2617.082\n",
      "\n",
      "Vote Average: 7.728\n",
      "\n",
      "Keywords: hero, superhero, anti hero, mutant, breaking the fourth wall, mutants, superhero teamup\n",
      "\n",
      "Reviews\n",
      "\n",
      "Review by shammahrashad\n",
      "\n",
      "Rating: 6.0\n",
      "\n",
      "Theres not much of a plot and the villains weren't that great. It was a good laugh though and amazing cameos and fight scenes.\n",
      "\n",
      "Review by r96sk\n",
      "\n",
      "Rating: 9.0\n",
      "\n",
      "Its story may not be the strongest, but the comedy makes 'Deadpool & Wolverine' an excellent watch!\n",
      "\n",
      "There are some top notch gags in there, particularly to do with the recent offscreen changes for Wade Wilson's alter ego. As you'd expect with Ryan Reynolds in this role, the jokes are plentiful and there is barely any time to react to one before another appears. That can sometimes not work as well as intended, e.g. 'Deadpool 2', but here the humour is executed perfectly.\n",
      "\n",
      "Reynolds himself is quality, it is a quintessential Ryan Reynolds as Deadpool performance. It's real neat to see Hugh Jackman back as Wolverine, he does play second fiddle to the other titular character but still more than holds his own, as you'd expect. Emma Corrin, meanwhile, enters with a great showing.\n",
      "\n",
      "As noted at the top, I do think the plot couldn't been superior - but not in a negative way. What is portrayed is still entertaining to watch, it's just not necessarily on the same level as the comedic elements. A fun watch, all the same. Do I like it more than the 2016 original? I think so, would only be minorly so though.\n",
      "\n",
      "Review by Chris Sawin\n",
      "\n",
      "Rating: 8.0\n",
      "\n",
      "Deadpool & Wolverine is the best there has been since Guardians of the Galaxy Vol. 3. It’s two hours of comic book-driven fan service and delivers entertaining surprises, nostalgic throwbacks, memorable action sequences, and worthwhile performances.\n",
      "\n",
      "Full review: https://bit.ly/WadeLogan\n",
      "\n",
      "Review by Brent Marchant\n",
      "\n",
      "Rating: 6.0\n",
      "\n",
      "In moviemaking, sadly, there can be a problem with going to the well too many times, and this latest installment in one of filmdom’s better cinematic franchises verges on proving just that. This offering’s predecessors (2016, 2018) significantly distinguished themselves from the kind of fare typically found in the superhero genre with their outrageously bawdy humor, hilarious sight gags and relentlessly maverick attitude. This time out, however, director Shawn Levy’s latest effort is a decidedly hit or miss affair, with an often-incoherent script that feels like it was cobbled together from a collection of leftover parts, some of which work and some of which don’t. I suppose that’s not entirely surprising from a screenplay that was penned by four different writers, making me wonder how much consensus was in place in compiling the finished product. Moreover, this film appears to be intended to fold the Deadpool franchise into the X-Men franchise, an intriguing idea that, regrettably, is handled rather clumsily. And, if all that weren’t bad enough, this release gives short shrift to the colorful cast of supporting players that made the Deadpool films so funny, original and enjoyable, relegating them to little more than cameos in favor of walk-ons by a host of other characters (some of them remarkably obscure, I might add) in an attempt to help cement the franchise cross-pollination going on here. It makes for awkward storytelling at times, especially for viewers who might not be familiar with these lesser-known figures, some of which are drawn from source material unrelated to its big screen offerings. To the picture’s credit, it features yet another stellar turn by Ryan Reynolds as the off-color protagonist, as well as its share of hilarious bits (without a doubt the franchise’s historically strongest suit), including a number of unabashed, razor-sharp asides referencing off-screen developments related to the studios that produced these films and the actors who have appeared in them. These strengths notwithstanding, however, this is a production that has sadly watered down the elements that best made this franchise work in favor of an overarching programming agenda that simply doesn’t serve this film or the series particularly well. The creators would have served themselves and viewers better by sticking with what works and the basics of good storytelling than trying to force an issue for the sake of future productions that may or may not work over the long term. This has been a noticeable downfall in the quality of many of the most recent releases, and I’d truly hate to see this franchise befall a similar fate.\n",
      "\n",
      "Review by Sean\n",
      "\n",
      "Rating: 10.0\n",
      "\n",
      "Such a fun watch, maybe one of the best experiences I've had in a theater. I couldn't have asked for a better ending to 24 year old franchise.\n",
      "\n",
      "Review by CinemaSerf\n",
      "\n",
      "Rating: 7.0\n",
      "\n",
      "Well the \"Deadpool\" concept is now well and truly immersed in the multi-verse and I really did fear for good old \"Dead\". More of the same? Well, no actually. Ryan Reynolds has reverted more to the occasionally quite vulgar humour of the first film (2016) and allowed this trequel to focus more on the personality of this irreverent, immortal, superhero as he tries to resurrect the recently departed \"Wolverine/Logan\" (Hugh Jackman) so he can save his timeline from erasure. To do that, and thwart the comically menacing \"Paradox\" (Matthew Macfadyen), he has to face down \"Cassandra Nova\" (Emma Corrin) - who happens to be the long estranged twin sister of \"Xavier\" who presides over the void. That's a \"Mad Max\" style desert style territory where all the undesirables have been put by \"Paradox\" and his organisation over the years. Initially, there's no love lost between our two heroes. The cocky man in red lycra does not impress his new, booze-soaked and guilt-ridden buddy, but quickly they manage to align their priorities and then - well yes, you can guess the rest. Indeed, there's nothing remotely unpredictable about any of this, but what it does do is shout loudly and proudly that it knows it. It's not trying to reinvent the wheel, it's succeeding in pointing out that all of these multi-verse films that simply adjust the space/time continuum to provide a new setting for the same old stories ad characters has to stop before we (the audience) bore further of their repetitive combat cycles and nondescript plot lines. Maybe Reynolds does over-egg the smuttiness a little but there are still plenty of wry comments about the industry, product placement and the plethora of films (and actors) that have preceded it delivering same old same old. It's not forgotten to entertain us too - there are loads of action scenes and there's an amiable chemistry between two actors who are clearly on the same, suitably sarcastic, page throughout a two hours that also features a some fun cameos from the likes of Messrs. Evans, Snipes, Cavill, Favreau and Tatum to keep it moving along with an effervescence of spirit. It's a big screen essential, there's a lot of effort gone into the production that won't work so well on the telly, and I enjoyed it.\n",
      "\n",
      "Review by TheSceneSnobs\n",
      "\n",
      "Rating: 8.0\n",
      "\n",
      "Deadpool and Wolverine is a movie that I truly believe has been needed for a while. After years of lackluster installments, this film is a breath of fresh air. Ryan Reynolds, Hugh Jackman, and director Shawn Levy approached this project with care and a deep understanding of what fans want. The film feels like it was crafted by fans for fans, particularly those who have been frustrated by the recent phases.\n",
      "\n",
      "Reynolds and Levy brought on a team of writers with a strong background in comedy and storytelling. This decision pays off, as the film’s humor and narrative are both sharp and engaging. For example, the meta vibe of Deadpool, familiar from the previous two films, is ramped up significantly. The movie spares no one, making jokes about everything from Hugh Jackman’s recent divorce to Ryan Reynolds' career. However, it’s the universe that receives the most pointed and critical jokes, which will resonate with long-time fans.\n",
      "\n",
      "The chemistry between Reynolds and Jackman is electric, bringing new life to both characters. Their dynamic is both hilarious and heartfelt, making for a compelling narrative. For instance, scenes where Deadpool and Wolverine banter while taking down enemies are filled with wit and energy, showcasing their unique bond. This camaraderie extends to the film’s supporting cast, with well-timed cameos and clever nods to previous movies.\n",
      "\n",
      "The film's self-awareness and willingness to poke fun at its own franchise are refreshing. This level of meta-commentary sets the film apart from typical superhero fare.\n",
      "\n",
      "Despite its comedic approach, the film doesn’t skimp on emotional depth. The storyline is carried by genuine heart, particularly in how it addresses themes of redemption and friendship. The climax is especially impactful, ranking among the greats in the franchise.\n",
      "\n",
      "This isn't just a good sequel; it's a game-changer. The film successfully integrates Deadpool into the broader universe while maintaining his unique tone and style. It sets the stage for future installments, promising exciting developments ahead. The way the film navigates these transitions feels seamless, ensuring that Deadpool’s irreverent humor doesn’t clash with the established tone.\n",
      "\n",
      "Overall, Deadpool and Wolverine is a standout entry, offering a perfect blend of humor, action, and heart. Ryan Reynolds and Hugh Jackman deliver top-notch performances, supported by a smart script and deft direction from Shawn Levy. This film not only redeems past missteps in the franchise but also paves the way for a promising future. It’s a must-watch for any fan, filled with laughter, thrills, and touching moments that elevate it above many of its predecessors.\n",
      "\n",
      "Review by GenerationofSwine\n",
      "\n",
      "Rating: 10.0\n",
      "\n",
      "It feels a bit rushed... but then it was rushed. It feels a bit neutered, but it's now Disney and they did muzzle it.\n",
      "\n",
      "The thing is though... it's not woke, which is why you have articles criticizing it for \"Not Being Gay Enough\" and in 2024, that very literally translates to: \"They focused on a story and characters rather than a political agenda and we're mad about it.\" Which, in turn, translates to \"Actually entertaining.\"\n",
      "\n",
      "It's amazing how articles complaining about a movie not being Gay enough can guarantee you that the movie is going to be good.\n",
      "\n",
      "Only.... it's meh. I mean, when you compare it to most of the movies this year it's pretty epic. When you compare it to most of the post 2016 movies this is one of the greatest things ever made... but when you compare it to the other Deadpool movies it's rushed.\n",
      "\n",
      "But... who cares, it literally doesn't have a point other than entertaining you, and that is really all that matters and all that I ask for.\n",
      "\n",
      "Is it a cash grab? Yes, and I will GLADLY give them my money for another movie that just wants to entertain. And if they make another movie that wants to entertain and not push an agenda, I will gladly give them MORE of my money... because at the end of the day, entertainment has been in a decade long drought brought to you by political lecturing and nerd domains have been intentionally attacking fans rather than making movies, like this, that make fans want to give them their money.\n",
      "\n",
      "So when a movie like this comes along, it is a wonderful thing.\n",
      "\n",
      "Review by JPV852\n",
      "\n",
      "Rating: 7.0\n",
      "\n",
      "Satisfying and 100% fan-service. Hugh Jackman still is awesome as Wolverine and gives it his all, along with Ryan Reynolds, both showing passion for the characters. That said, much like Deadpool 2, I'm not sure if I have much desire to revisit anytime soon. 3.5/5\n",
      "\n",
      "Review by Pringo\n",
      "\n",
      "Rating: 10.0\n",
      "\n",
      "I just watched Deadpool & Wolverine, and wow, it was an absolute blast! Ryan Reynolds and Hugh Jackman have incredible chemistry that makes the whole movie work. Deadpool's irreverent humor and Wolverine's gruff seriousness balance each other perfectly. The film is packed with hilarious jokes, epic action sequences, and so many Easter eggs that comic book fans will be thrilled.\n",
      "\n",
      "The opening sequence had me hooked right away, with a mix of intense fighting and Deadpool's signature humor. The constant fourth-wall breaks were spot-on and kept the laughs coming. It's a fantastic tribute to both characters and their histories, with plenty of nods to past films and comics.\n",
      "\n",
      "If you're a fan of either character, this movie is a must-see. It's not just a fun ride; it's a love letter to the fans. The pacing is perfect, and the two hours flew by. Whether you're a casual viewer or a hardcore fan, Deadpool & Wolverine delivers on all fronts. Don't miss it!\n",
      "\n",
      "Review by DonGable\n",
      "\n",
      "Rating: 4.0\n",
      "\n",
      "For devout fans only.\n",
      "\n",
      "Here is a test for franchise films: Remove the IP and characters to see if the story, character development, etc. stands on its own without using the IP as a crutch. If you remove the IP in this case, you have absolutely nothing.\n",
      "\n",
      "If you've seen a lot of previous films in this universe, you will be treated with an abundance of fan service. Admittedly, I have not watched a lot of these films. I have, however, watched the first two Deadpool entries. I enjoyed them at the time, especially the first one.\n",
      "\n",
      "In this third entry, you will find a lot of cameos which are absolutely pointless, except for people to chug memberberries, as they do absolutely nothing with these characters. It doesn't even properly show the backstory of Wolverine. This film is an almost non-stop barrage of bickering and snarky jokes, but it's never given any time at all to breathe. The few moments where it actually tries to convey emotion, it never truly lands, as all it wants to do is tell jokes. Did I laugh here and there? Sure. But I can count it on one hand.\n",
      "\n",
      "The villain and plot quite forgettable, and you never truly feel that something's at stake, as the threat is mainly conveyed as a progress bar on a screen...\n",
      "\n",
      "Even though some people might enjoy Deadpool taking potshots, Disney knows exactly what they're doing, and they will be laughing all the way to the bank. Corporate brand maintenance is all it is.\n",
      "\n",
      "Review by aGoryLouie\n",
      "\n",
      "Rating: 8.0\n",
      "\n",
      "the definition of fun\n",
      "\n",
      "Review by davidrobitaille\n",
      "\n",
      "Rating: 10.0\n",
      "\n",
      "I went to see Deadpool & Wolverine last evening and boy did it feel refreshing to see Ryan Reynolds making all of these funny jokes on screen as Deadpool. There were a lot of mentions of comic books, jokes about production companies & about production crew/cast (extras, etc). As someone who's passionate about this industry and is very active in the business, this film is a big success in my opinion. I loved that we got to see Jon Favreau as Happy Hogan in the intro of the film, just sad we didn't get a little Tony Stark (RDJ) appearance, but hey, it's not his movie after all (RIP Iron Man).\n",
      "\n",
      "Review by tmdb51616167\n",
      "\n",
      "Rating: 9.0\n",
      "\n",
      "Finally, the moment I have been eagerly waiting for has arrived - the new film featuring Deadpool and Wolverine! I am thrilled to share my thoughts on this without revealing any spoilers, so brace yourself for a fairly tame review to keep the surprise intact for everyone.\n",
      "\n",
      "They are back in its element with this movie, as it takes a playful jab at itself. Deadpool boldly declares that the Multiverse is a mess and proposes putting an end to it - a refreshing take on the superhero genre.\n",
      "\n",
      "The dance sequence is a hilarious throwback to the 90s, adding a touch of nostalgia and charm to the film. And yes, there is plenty of colorful language, including an abundance of the infamous F word - but then again, what else would you expect from Deadpool?\n",
      "\n",
      "Prepare to be amazed by some incredible cameos that will leave you jumping out of your seat with excitement, especially if you have a soft spot for certain characters from the past. This movie is an absolute thrill ride that pays homage to the Fox universe and its beloved characters.\n",
      "\n",
      "Without giving too much away, there is a surprising appearance by a fan-favorite character who never made it to the superhero league, and the moment is truly jaw-dropping. The storyline may seem chaotic, but that's all part of the Deadpool charm.\n",
      "\n",
      "While the villain could have been utilized more effectively given their power, the relationship between Deadpool and Wolverine is beautifully portrayed. The film does a commendable job of explaining the backstory and the humor is on point, with Deadpool's witty jabs and references adding to the entertainment.\n",
      "\n",
      "If you're a fan of Deadpool and his legacy, this movie is a must-watch that will blow your mind. Just be warned, there is a fair amount of profanity, so consider this if you're planning to bring along younger viewers.\n",
      "\n",
      "Overall, this movie was a blast and one of the most enjoyable experiences in recent memory. From the creative storytelling to the hilarious antics, it's a wild ride that you won't want to miss. And don't forget to stick around for the mid-credits and end-credits scenes for an extra dose of fun and closure to the film. Enjoy the laugh-filled ride!\n",
      "\n",
      "Review by albuainain\n",
      "\n",
      "Rating: 7.0\n",
      "\n",
      "Not funny as Deadpool 1 & 2, I was expecting something smashing due to the reviews I have read and people hype in social media. The fight scenes saved the movie.\n",
      "\n",
      "Review by immortal101\n",
      "\n",
      "Rating: None\n",
      "\n",
      "I personally enjoyed it. It was a fresh splash of the recent flops of movies. The plot was a little disorganized, but overall great film. The nostalgia and love letter to Foxfilms was a nice touch.\n",
      "\n",
      "Indiana Jones and the Dial of Destiny\n",
      "\n",
      "Overview\n",
      "\n",
      "Finding himself in a new era, approaching retirement, Indy wrestles with fitting into a world that seems to have outgrown him. But as the tentacles of an all-too-familiar evil return in the form of an old rival, Indy must don his hat and pick up his whip once more to make sure an ancient and powerful artifact doesn't fall into the wrong hands.\n",
      "\n",
      "Details\n",
      "\n",
      "Release Date: 2023-06-28\n",
      "\n",
      "Genres: Adventure, Action, Fantasy\n",
      "\n",
      "Popularity: 740.388\n",
      "\n",
      "Vote Average: 6.5\n",
      "\n",
      "Keywords: feminism, sequel, flashback, prologue, knife fight, archaeologist, adventurer, 1960s, relic hunter\n",
      "\n",
      "Knights of the Zodiac\n",
      "\n",
      "Overview\n",
      "\n",
      "When a headstrong street orphan, Seiya, in search of his abducted sister unwittingly taps into hidden powers, he discovers he might be the only person alive who can protect a reincarnated goddess, sent to watch over humanity. Can he let his past go and embrace his destiny to become a Knight of the Zodiac?\n",
      "\n",
      "Details\n",
      "\n",
      "Release Date: 2023-04-27\n",
      "\n",
      "Genres: Fantasy, Action, Adventure\n",
      "\n",
      "Popularity: 3355.755\n",
      "\n",
      "Vote Average: 6.5\n",
      "\n",
      "Keywords: superhero, based on manga, live action anime\n",
      "\n",
      "Fast X\n",
      "\n",
      "Overview\n",
      "\n",
      "Over many missions and against impossible odds, Dom Toretto and his family have outsmarted, out-nerved and outdriven every foe in their path. Now, they confront the most lethal opponent they've ever faced: A terrifying threat emerging from the shadows of the past who's fueled by blood revenge, and who is determined to shatter this family and destroy everything—and everyone—that Dom loves, forever.\n",
      "\n",
      "Details\n",
      "\n",
      "Release Date: 2023-05-17\n",
      "\n",
      "Genres: Action, Crime, Thriller\n",
      "\n",
      "Popularity: 3283.417\n",
      "\n",
      "Vote Average: 7.3\n",
      "\n",
      "Keywords: sequel, revenge, racing, family, cars\n",
      "\n",
      "Ambush\n",
      "\n",
      "Overview\n",
      "\n",
      "When a small outpost is ambushed, a US Army squad must take the battle below ground on a high-stakes mission in a new type of warfare the likes of which they have never seen.\n",
      "\n",
      "Details\n",
      "\n",
      "Release Date: 2023-02-24\n",
      "\n",
      "Genres: Action, War, Thriller\n",
      "\n",
      "Popularity: 386.559\n",
      "\n",
      "Vote Average: 5.8\n",
      "\n",
      "Keywords:\n",
      "\n",
      "Los bastardos\n",
      "\n",
      "Overview\n",
      "\n",
      "Details\n",
      "\n",
      "Release Date: 2023-03-30\n",
      "\n",
      "Genres: Action, Thriller, Crime, Drama\n",
      "\n",
      "Popularity: 431.075\n",
      "\n",
      "Vote Average: 6.1\n",
      "\n",
      "Keywords:\n",
      "\n",
      "Sisu\n",
      "\n",
      "Overview\n",
      "\n",
      "Deep in the wilderness of Lapland, Aatami Korpi is searching for gold but after he stumbles upon Nazi patrol, a breathtaking and gold-hungry chase through the destroyed and mined Lapland wilderness begins.\n",
      "\n",
      "Details\n",
      "\n",
      "Release Date: 2023-01-27\n",
      "\n",
      "Genres: Action, War\n",
      "\n",
      "Popularity: 520.792\n",
      "\n",
      "Vote Average: 7.5\n",
      "\n",
      "Keywords: world war ii, nordic mythology, lapland, finnish mythology\n",
      "\n",
      "Transformers: Rise of the Beasts\n",
      "\n",
      "Overview\n",
      "\n",
      "When a new threat capable of destroying the entire planet emerges, Optimus Prime and the Autobots must team up with a powerful faction known as the Maximals. With the fate of humanity hanging in the balance, humans Noah and Elena will do whatever it takes to help the Transformers as they engage in the ultimate battle to save Earth.\n",
      "\n",
      "Details\n",
      "\n",
      "Release Date: 2023-06-06\n",
      "\n",
      "Genres: Action, Adventure, Science Fiction\n",
      "\n",
      "Popularity: 1301.343\n",
      "\n",
      "Vote Average: 7.3\n",
      "\n",
      "Keywords: peru, alien, end of the world, based on cartoon, based on toy, robot, duringcreditsstinger, 1990s, brother brother relationship\n",
      "\n",
      "Confidential Informant\n",
      "\n",
      "Overview\n",
      "\n",
      "During a crack epidemic two narcotics agents hunting for a cop killer. Hoping for leads, Moran and Thorton pay off a junkie informant. To provide for his wife and son, Moran involves the stool pigeon in a deadly scheme. This causes the partners to come under the scrutiny of a suspicious internal affairs agent.\n",
      "\n",
      "Details\n",
      "\n",
      "Release Date: 2023-06-27\n",
      "\n",
      "Genres: Mystery, Thriller, Action\n",
      "\n",
      "Popularity: 408.062\n",
      "\n",
      "Vote Average: 6.4\n",
      "\n",
      "Keywords: gritty, crime\n",
      "\n",
      "John Wick: Chapter 4\n",
      "\n",
      "Overview\n",
      "\n",
      "With the price on his head ever increasing, John Wick uncovers a path to defeating The High Table. But before he can earn his freedom, Wick must face off against a new enemy with powerful alliances across the globe and forces that turn old friends into foes.\n",
      "\n",
      "Details\n",
      "\n",
      "Release Date: 2023-03-22\n",
      "\n",
      "Genres: Action, Thriller, Crime\n",
      "\n",
      "Popularity: 1437.077\n",
      "\n",
      "Vote Average: 7.9\n",
      "\n",
      "Keywords: new york city, martial arts, hitman, sequel, organized crime, osaka, japan, aftercreditsstinger, hunted, professional assassin, neo-noir, berlin\n",
      "\n",
      "The Wrath of Becky\n",
      "\n",
      "Overview\n",
      "\n",
      "Two years after she escaped a violent attack on her family, 16-year-old Becky attempts to rebuild her life in the care of an older woman -- a kindred spirit named Elena. However, when a violent group known as the Noble Men break into their home, attack them and take their beloved dog, Becky must return to her old ways to protect herself and her loved ones.\n",
      "\n",
      "Details\n",
      "\n",
      "Release Date: 2023-05-26\n",
      "\n",
      "Genres: Action, Horror, Thriller\n",
      "\n",
      "Popularity: 759.396\n",
      "\n",
      "Vote Average: 6.8\n",
      "\n",
      "Keywords: machete, sequel, revenge, murder, gore, diner, dog, blood, terrorists\n",
      "\n",
      "Black Clover: Sword of the Wizard King\n",
      "\n",
      "Overview\n",
      "\n",
      "As a lionhearted boy who can’t wield magic strives for the title of Wizard King, four banished Wizard Kings of yore return to crush the Clover Kingdom.\n",
      "\n",
      "Details\n",
      "\n",
      "Release Date: 2023-06-16\n",
      "\n",
      "Genres: Animation, Fantasy, Action, Adventure\n",
      "\n",
      "Popularity: 336.12\n",
      "\n",
      "Vote Average: 8.4\n",
      "\n",
      "Keywords: magic, demon, wizard, shounen, anime\n",
      "Human: Tell me about the latest Deadpool movie. When was it released? What is it about?\u001b[0m\n",
      "\n",
      "\u001b[1m> Finished chain.\u001b[0m\n",
      "\n",
      "\u001b[1m> Finished chain.\u001b[0m\n",
      "Total tokens used: 5885\n"
     ]
    }
   ],
   "source": [
    "# Support for callbacks\n",
    "from langchain.callbacks import get_openai_callback\n",
    "\n",
    "# Prepare the chain and the query\n",
    "chain = load_qa_chain(llm, verbose=True)\n",
    "query = \"Tell me about the latest Deadpool movie. When was it released? What is it about?\"\n",
    "\n",
    "# Run the chain, using the callback to capture the number of tokens used\n",
    "with get_openai_callback() as callback:\n",
    "    chain.invoke({'input_documents': documents, 'question': query})\n",
    "    total_tokens = callback.total_tokens\n",
    "\n",
    "print(f\"Total tokens used: {total_tokens}\")"
   ]
  },
  {
   "attachments": {},
   "cell_type": "markdown",
   "metadata": {},
   "source": [
    "In the output from the last code section, you should see a lot of information. At the end, you should see a count of the number of tokens used. You might be surprised to see that the query uses anywhere from 2,500 to 6,000 tokens, depending on the model used. That's a lot of tokens!\n",
    "\n",
    "With the verbose option enabled, the rest of the output shows the prompt that was constructed for the query. If you scroll back through the output, you'll see that the prompt included **all** of the information from our documents, so this is why the query used so many tokens.\n",
    "\n",
    "As we've discussed previously, AI models have a maximum number of tokens you can use and a charging model based on the number of tokens consumed. In this example, the documents are relatively small in size and there's only 20 of them, but if we wanted to work with larger documents and more of them, then this method would quickly become expensive and eventually we'd hit the token limit."
   ]
  },
  {
   "attachments": {},
   "cell_type": "markdown",
   "metadata": {},
   "source": [
    "## Embeddings\n",
    "\n",
    "The solution to working with large amounts of external information is to use *embeddings*. OpenAI provide embedding models which allow human readable information to be analysed for meaning and intent. The output from an embedding model is data in a numeric format, known as *vectors*. These allow computers to group pieces of similar information together. The vectors are then kept in a *vector store*. When you want to ask a question, an embedding model is again used to convert the query text into vectors and the vector data that represents your query can then be searched in the vector store. Any similar vectors that are found in the database are likely to be a good response to your query.\n",
    "\n",
    "To prevent overloading a prompt with a large number of tokens, instead of sending all of our documents to the AI, we can perform a vector search first to narrow down to a set of interesting results, and then use that smaller subset of information as part of a prompt."
   ]
  },
  {
   "attachments": {},
   "cell_type": "markdown",
   "metadata": {},
   "source": [
    "Let's walk through the process of using embeddings to give the AI some details about our movies. We'll start by initiating an instance of an embeddings model. You'll notice this is similar to when we initialise one of our model deployments to run a query, but in this case we specify an embedding model. Typically the embedding model used has been `text-embedding-ada-002`, but there are newer alternatives available now."
   ]
  },
  {
   "cell_type": "code",
   "execution_count": 7,
   "metadata": {},
   "outputs": [],
   "source": [
    "from langchain_openai import AzureOpenAIEmbeddings\n",
    "\n",
    "embeddings_model = AzureOpenAIEmbeddings(    \n",
    "    azure_deployment = os.getenv(\"AZURE_OPENAI_EMBEDDING_DEPLOYMENT_NAME\"),\n",
    "    openai_api_version = os.getenv(\"OPENAI_EMBEDDING_API_VERSION\"),\n",
    "    model= os.getenv(\"AZURE_OPENAI_EMBEDDING_MODEL\")\n",
    ")"
   ]
  },
  {
   "attachments": {},
   "cell_type": "markdown",
   "metadata": {},
   "source": [
    "Now that we've initialised a model to create embeddings, let's go ahead and embed some documents.\n",
    "\n",
    "As we did in the previous example, we'll use Langchain's built-in loaders to read the documents from a directory."
   ]
  },
  {
   "cell_type": "code",
   "execution_count": 8,
   "metadata": {},
   "outputs": [
    {
     "name": "stderr",
     "output_type": "stream",
     "text": [
      "100%|██████████| 17/17 [00:00<00:00, 111.55it/s]\n"
     ]
    }
   ],
   "source": [
    "documents = DirectoryLoader(path=data_dir, glob=\"*.md\", show_progress=True, loader_cls=UnstructuredMarkdownLoader).load()"
   ]
  },
  {
   "attachments": {},
   "cell_type": "markdown",
   "metadata": {},
   "source": [
    "The next step is to use a *splitter*. A splitter enables us to break up larger documents into chunks, so that we don't risk hitting the token limit when submitting our data to the embedding model."
   ]
  },
  {
   "cell_type": "code",
   "execution_count": 9,
   "metadata": {},
   "outputs": [
    {
     "name": "stderr",
     "output_type": "stream",
     "text": [
      "Created a chunk of size 2658, which is longer than the specified 1000\n",
      "Created a chunk of size 2255, which is longer than the specified 1000\n"
     ]
    }
   ],
   "source": [
    "from langchain.text_splitter import CharacterTextSplitter\n",
    "text_splitter = CharacterTextSplitter(chunk_size=1000, chunk_overlap=0)\n",
    "document_chunks = text_splitter.split_documents(documents)"
   ]
  },
  {
   "attachments": {},
   "cell_type": "markdown",
   "metadata": {},
   "source": [
    "The next stage is to convert the chunks of split documents into vectors which we do by passing the data through an embedding model. The resultant vectors are then stored in a vector database. In this example, we're using the **Qdrant** (pronounced 'quadrant') database. We initialise it using the `location=\":memory:\"` option, so that the database will be stored in memory rather than persisted to disk."
   ]
  },
  {
   "cell_type": "code",
   "execution_count": 10,
   "metadata": {},
   "outputs": [
    {
     "ename": "NotFoundError",
     "evalue": "Error code: 404 - {'error': {'code': '404', 'message': 'Resource not found'}}",
     "output_type": "error",
     "traceback": [
      "\u001b[0;31m---------------------------------------------------------------------------\u001b[0m",
      "\u001b[0;31mNotFoundError\u001b[0m                             Traceback (most recent call last)",
      "Cell \u001b[0;32mIn[10], line 3\u001b[0m\n\u001b[1;32m      1\u001b[0m \u001b[38;5;28;01mfrom\u001b[39;00m\u001b[38;5;250m \u001b[39m\u001b[38;5;21;01mlangchain\u001b[39;00m\u001b[38;5;21;01m.\u001b[39;00m\u001b[38;5;21;01mvectorstores\u001b[39;00m\u001b[38;5;250m \u001b[39m\u001b[38;5;28;01mimport\u001b[39;00m Qdrant\n\u001b[0;32m----> 3\u001b[0m qdrant \u001b[38;5;241m=\u001b[39m \u001b[43mQdrant\u001b[49m\u001b[38;5;241;43m.\u001b[39;49m\u001b[43mfrom_documents\u001b[49m\u001b[43m(\u001b[49m\n\u001b[1;32m      4\u001b[0m \u001b[43m    \u001b[49m\u001b[43mdocument_chunks\u001b[49m\u001b[43m,\u001b[49m\n\u001b[1;32m      5\u001b[0m \u001b[43m    \u001b[49m\u001b[43membeddings_model\u001b[49m\u001b[43m,\u001b[49m\n\u001b[1;32m      6\u001b[0m \u001b[43m    \u001b[49m\u001b[43mlocation\u001b[49m\u001b[38;5;241;43m=\u001b[39;49m\u001b[38;5;124;43m\"\u001b[39;49m\u001b[38;5;124;43m:memory:\u001b[39;49m\u001b[38;5;124;43m\"\u001b[39;49m\u001b[43m,\u001b[49m\n\u001b[1;32m      7\u001b[0m \u001b[43m    \u001b[49m\u001b[43mcollection_name\u001b[49m\u001b[38;5;241;43m=\u001b[39;49m\u001b[38;5;124;43m\"\u001b[39;49m\u001b[38;5;124;43mmovies\u001b[39;49m\u001b[38;5;124;43m\"\u001b[39;49m\u001b[43m,\u001b[49m\n\u001b[1;32m      8\u001b[0m \u001b[43m)\u001b[49m\n",
      "File \u001b[0;32m~/miniconda3/envs/ibit-hackathon/lib/python3.13/site-packages/langchain_core/vectorstores/base.py:843\u001b[0m, in \u001b[0;36mVectorStore.from_documents\u001b[0;34m(cls, documents, embedding, **kwargs)\u001b[0m\n\u001b[1;32m    840\u001b[0m     \u001b[38;5;28;01mif\u001b[39;00m \u001b[38;5;28many\u001b[39m(ids):\n\u001b[1;32m    841\u001b[0m         kwargs[\u001b[38;5;124m\"\u001b[39m\u001b[38;5;124mids\u001b[39m\u001b[38;5;124m\"\u001b[39m] \u001b[38;5;241m=\u001b[39m ids\n\u001b[0;32m--> 843\u001b[0m \u001b[38;5;28;01mreturn\u001b[39;00m \u001b[38;5;28;43mcls\u001b[39;49m\u001b[38;5;241;43m.\u001b[39;49m\u001b[43mfrom_texts\u001b[49m\u001b[43m(\u001b[49m\u001b[43mtexts\u001b[49m\u001b[43m,\u001b[49m\u001b[43m \u001b[49m\u001b[43membedding\u001b[49m\u001b[43m,\u001b[49m\u001b[43m \u001b[49m\u001b[43mmetadatas\u001b[49m\u001b[38;5;241;43m=\u001b[39;49m\u001b[43mmetadatas\u001b[49m\u001b[43m,\u001b[49m\u001b[43m \u001b[49m\u001b[38;5;241;43m*\u001b[39;49m\u001b[38;5;241;43m*\u001b[39;49m\u001b[43mkwargs\u001b[49m\u001b[43m)\u001b[49m\n",
      "File \u001b[0;32m~/miniconda3/envs/ibit-hackathon/lib/python3.13/site-packages/langchain_community/vectorstores/qdrant.py:1337\u001b[0m, in \u001b[0;36mQdrant.from_texts\u001b[0;34m(cls, texts, embedding, metadatas, ids, location, url, port, grpc_port, prefer_grpc, https, api_key, prefix, timeout, host, path, collection_name, distance_func, content_payload_key, metadata_payload_key, vector_name, batch_size, shard_number, replication_factor, write_consistency_factor, on_disk_payload, hnsw_config, optimizers_config, wal_config, quantization_config, init_from, on_disk, force_recreate, **kwargs)\u001b[0m\n\u001b[1;32m   1197\u001b[0m \u001b[38;5;129m@classmethod\u001b[39m\n\u001b[1;32m   1198\u001b[0m \u001b[38;5;28;01mdef\u001b[39;00m\u001b[38;5;250m \u001b[39m\u001b[38;5;21mfrom_texts\u001b[39m(\n\u001b[1;32m   1199\u001b[0m     \u001b[38;5;28mcls\u001b[39m: Type[Qdrant],\n\u001b[0;32m   (...)\u001b[0m\n\u001b[1;32m   1232\u001b[0m     \u001b[38;5;241m*\u001b[39m\u001b[38;5;241m*\u001b[39mkwargs: Any,\n\u001b[1;32m   1233\u001b[0m ) \u001b[38;5;241m-\u001b[39m\u001b[38;5;241m>\u001b[39m Qdrant:\n\u001b[1;32m   1234\u001b[0m \u001b[38;5;250m    \u001b[39m\u001b[38;5;124;03m\"\"\"Construct Qdrant wrapper from a list of texts.\u001b[39;00m\n\u001b[1;32m   1235\u001b[0m \n\u001b[1;32m   1236\u001b[0m \u001b[38;5;124;03m    Args:\u001b[39;00m\n\u001b[0;32m   (...)\u001b[0m\n\u001b[1;32m   1335\u001b[0m \u001b[38;5;124;03m            qdrant = Qdrant.from_texts(texts, embeddings, \"localhost\")\u001b[39;00m\n\u001b[1;32m   1336\u001b[0m \u001b[38;5;124;03m    \"\"\"\u001b[39;00m\n\u001b[0;32m-> 1337\u001b[0m     qdrant \u001b[38;5;241m=\u001b[39m \u001b[38;5;28;43mcls\u001b[39;49m\u001b[38;5;241;43m.\u001b[39;49m\u001b[43mconstruct_instance\u001b[49m\u001b[43m(\u001b[49m\n\u001b[1;32m   1338\u001b[0m \u001b[43m        \u001b[49m\u001b[43mtexts\u001b[49m\u001b[43m,\u001b[49m\n\u001b[1;32m   1339\u001b[0m \u001b[43m        \u001b[49m\u001b[43membedding\u001b[49m\u001b[43m,\u001b[49m\n\u001b[1;32m   1340\u001b[0m \u001b[43m        \u001b[49m\u001b[43mlocation\u001b[49m\u001b[43m,\u001b[49m\n\u001b[1;32m   1341\u001b[0m \u001b[43m        \u001b[49m\u001b[43murl\u001b[49m\u001b[43m,\u001b[49m\n\u001b[1;32m   1342\u001b[0m \u001b[43m        \u001b[49m\u001b[43mport\u001b[49m\u001b[43m,\u001b[49m\n\u001b[1;32m   1343\u001b[0m \u001b[43m        \u001b[49m\u001b[43mgrpc_port\u001b[49m\u001b[43m,\u001b[49m\n\u001b[1;32m   1344\u001b[0m \u001b[43m        \u001b[49m\u001b[43mprefer_grpc\u001b[49m\u001b[43m,\u001b[49m\n\u001b[1;32m   1345\u001b[0m \u001b[43m        \u001b[49m\u001b[43mhttps\u001b[49m\u001b[43m,\u001b[49m\n\u001b[1;32m   1346\u001b[0m \u001b[43m        \u001b[49m\u001b[43mapi_key\u001b[49m\u001b[43m,\u001b[49m\n\u001b[1;32m   1347\u001b[0m \u001b[43m        \u001b[49m\u001b[43mprefix\u001b[49m\u001b[43m,\u001b[49m\n\u001b[1;32m   1348\u001b[0m \u001b[43m        \u001b[49m\u001b[43mtimeout\u001b[49m\u001b[43m,\u001b[49m\n\u001b[1;32m   1349\u001b[0m \u001b[43m        \u001b[49m\u001b[43mhost\u001b[49m\u001b[43m,\u001b[49m\n\u001b[1;32m   1350\u001b[0m \u001b[43m        \u001b[49m\u001b[43mpath\u001b[49m\u001b[43m,\u001b[49m\n\u001b[1;32m   1351\u001b[0m \u001b[43m        \u001b[49m\u001b[43mcollection_name\u001b[49m\u001b[43m,\u001b[49m\n\u001b[1;32m   1352\u001b[0m \u001b[43m        \u001b[49m\u001b[43mdistance_func\u001b[49m\u001b[43m,\u001b[49m\n\u001b[1;32m   1353\u001b[0m \u001b[43m        \u001b[49m\u001b[43mcontent_payload_key\u001b[49m\u001b[43m,\u001b[49m\n\u001b[1;32m   1354\u001b[0m \u001b[43m        \u001b[49m\u001b[43mmetadata_payload_key\u001b[49m\u001b[43m,\u001b[49m\n\u001b[1;32m   1355\u001b[0m \u001b[43m        \u001b[49m\u001b[43mvector_name\u001b[49m\u001b[43m,\u001b[49m\n\u001b[1;32m   1356\u001b[0m \u001b[43m        \u001b[49m\u001b[43mshard_number\u001b[49m\u001b[43m,\u001b[49m\n\u001b[1;32m   1357\u001b[0m \u001b[43m        \u001b[49m\u001b[43mreplication_factor\u001b[49m\u001b[43m,\u001b[49m\n\u001b[1;32m   1358\u001b[0m \u001b[43m        \u001b[49m\u001b[43mwrite_consistency_factor\u001b[49m\u001b[43m,\u001b[49m\n\u001b[1;32m   1359\u001b[0m \u001b[43m        \u001b[49m\u001b[43mon_disk_payload\u001b[49m\u001b[43m,\u001b[49m\n\u001b[1;32m   1360\u001b[0m \u001b[43m        \u001b[49m\u001b[43mhnsw_config\u001b[49m\u001b[43m,\u001b[49m\n\u001b[1;32m   1361\u001b[0m \u001b[43m        \u001b[49m\u001b[43moptimizers_config\u001b[49m\u001b[43m,\u001b[49m\n\u001b[1;32m   1362\u001b[0m \u001b[43m        \u001b[49m\u001b[43mwal_config\u001b[49m\u001b[43m,\u001b[49m\n\u001b[1;32m   1363\u001b[0m \u001b[43m        \u001b[49m\u001b[43mquantization_config\u001b[49m\u001b[43m,\u001b[49m\n\u001b[1;32m   1364\u001b[0m \u001b[43m        \u001b[49m\u001b[43minit_from\u001b[49m\u001b[43m,\u001b[49m\n\u001b[1;32m   1365\u001b[0m \u001b[43m        \u001b[49m\u001b[43mon_disk\u001b[49m\u001b[43m,\u001b[49m\n\u001b[1;32m   1366\u001b[0m \u001b[43m        \u001b[49m\u001b[43mforce_recreate\u001b[49m\u001b[43m,\u001b[49m\n\u001b[1;32m   1367\u001b[0m \u001b[43m        \u001b[49m\u001b[38;5;241;43m*\u001b[39;49m\u001b[38;5;241;43m*\u001b[39;49m\u001b[43mkwargs\u001b[49m\u001b[43m,\u001b[49m\n\u001b[1;32m   1368\u001b[0m \u001b[43m    \u001b[49m\u001b[43m)\u001b[49m\n\u001b[1;32m   1369\u001b[0m     qdrant\u001b[38;5;241m.\u001b[39madd_texts(texts, metadatas, ids, batch_size)\n\u001b[1;32m   1370\u001b[0m     \u001b[38;5;28;01mreturn\u001b[39;00m qdrant\n",
      "File \u001b[0;32m~/miniconda3/envs/ibit-hackathon/lib/python3.13/site-packages/langchain_community/vectorstores/qdrant.py:1639\u001b[0m, in \u001b[0;36mQdrant.construct_instance\u001b[0;34m(cls, texts, embedding, location, url, port, grpc_port, prefer_grpc, https, api_key, prefix, timeout, host, path, collection_name, distance_func, content_payload_key, metadata_payload_key, vector_name, shard_number, replication_factor, write_consistency_factor, on_disk_payload, hnsw_config, optimizers_config, wal_config, quantization_config, init_from, on_disk, force_recreate, **kwargs)\u001b[0m\n\u001b[1;32m   1636\u001b[0m \u001b[38;5;28;01mfrom\u001b[39;00m\u001b[38;5;250m \u001b[39m\u001b[38;5;21;01mqdrant_client\u001b[39;00m\u001b[38;5;21;01m.\u001b[39;00m\u001b[38;5;21;01mhttp\u001b[39;00m\u001b[38;5;21;01m.\u001b[39;00m\u001b[38;5;21;01mexceptions\u001b[39;00m\u001b[38;5;250m \u001b[39m\u001b[38;5;28;01mimport\u001b[39;00m UnexpectedResponse\n\u001b[1;32m   1638\u001b[0m \u001b[38;5;66;03m# Just do a single quick embedding to get vector size\u001b[39;00m\n\u001b[0;32m-> 1639\u001b[0m partial_embeddings \u001b[38;5;241m=\u001b[39m \u001b[43membedding\u001b[49m\u001b[38;5;241;43m.\u001b[39;49m\u001b[43membed_documents\u001b[49m\u001b[43m(\u001b[49m\u001b[43mtexts\u001b[49m\u001b[43m[\u001b[49m\u001b[43m:\u001b[49m\u001b[38;5;241;43m1\u001b[39;49m\u001b[43m]\u001b[49m\u001b[43m)\u001b[49m\n\u001b[1;32m   1640\u001b[0m vector_size \u001b[38;5;241m=\u001b[39m \u001b[38;5;28mlen\u001b[39m(partial_embeddings[\u001b[38;5;241m0\u001b[39m])\n\u001b[1;32m   1641\u001b[0m collection_name \u001b[38;5;241m=\u001b[39m collection_name \u001b[38;5;129;01mor\u001b[39;00m uuid\u001b[38;5;241m.\u001b[39muuid4()\u001b[38;5;241m.\u001b[39mhex\n",
      "File \u001b[0;32m~/miniconda3/envs/ibit-hackathon/lib/python3.13/site-packages/langchain_openai/embeddings/base.py:588\u001b[0m, in \u001b[0;36mOpenAIEmbeddings.embed_documents\u001b[0;34m(self, texts, chunk_size)\u001b[0m\n\u001b[1;32m    585\u001b[0m \u001b[38;5;66;03m# NOTE: to keep things simple, we assume the list may contain texts longer\u001b[39;00m\n\u001b[1;32m    586\u001b[0m \u001b[38;5;66;03m#       than the maximum context and use length-safe embedding function.\u001b[39;00m\n\u001b[1;32m    587\u001b[0m engine \u001b[38;5;241m=\u001b[39m cast(\u001b[38;5;28mstr\u001b[39m, \u001b[38;5;28mself\u001b[39m\u001b[38;5;241m.\u001b[39mdeployment)\n\u001b[0;32m--> 588\u001b[0m \u001b[38;5;28;01mreturn\u001b[39;00m \u001b[38;5;28;43mself\u001b[39;49m\u001b[38;5;241;43m.\u001b[39;49m\u001b[43m_get_len_safe_embeddings\u001b[49m\u001b[43m(\u001b[49m\u001b[43mtexts\u001b[49m\u001b[43m,\u001b[49m\u001b[43m \u001b[49m\u001b[43mengine\u001b[49m\u001b[38;5;241;43m=\u001b[39;49m\u001b[43mengine\u001b[49m\u001b[43m)\u001b[49m\n",
      "File \u001b[0;32m~/miniconda3/envs/ibit-hackathon/lib/python3.13/site-packages/langchain_openai/embeddings/base.py:483\u001b[0m, in \u001b[0;36mOpenAIEmbeddings._get_len_safe_embeddings\u001b[0;34m(self, texts, engine, chunk_size)\u001b[0m\n\u001b[1;32m    481\u001b[0m batched_embeddings: List[List[\u001b[38;5;28mfloat\u001b[39m]] \u001b[38;5;241m=\u001b[39m []\n\u001b[1;32m    482\u001b[0m \u001b[38;5;28;01mfor\u001b[39;00m i \u001b[38;5;129;01min\u001b[39;00m _iter:\n\u001b[0;32m--> 483\u001b[0m     response \u001b[38;5;241m=\u001b[39m \u001b[38;5;28;43mself\u001b[39;49m\u001b[38;5;241;43m.\u001b[39;49m\u001b[43mclient\u001b[49m\u001b[38;5;241;43m.\u001b[39;49m\u001b[43mcreate\u001b[49m\u001b[43m(\u001b[49m\n\u001b[1;32m    484\u001b[0m \u001b[43m        \u001b[49m\u001b[38;5;28;43minput\u001b[39;49m\u001b[38;5;241;43m=\u001b[39;49m\u001b[43mtokens\u001b[49m\u001b[43m[\u001b[49m\u001b[43mi\u001b[49m\u001b[43m \u001b[49m\u001b[43m:\u001b[49m\u001b[43m \u001b[49m\u001b[43mi\u001b[49m\u001b[43m \u001b[49m\u001b[38;5;241;43m+\u001b[39;49m\u001b[43m \u001b[49m\u001b[43m_chunk_size\u001b[49m\u001b[43m]\u001b[49m\u001b[43m,\u001b[49m\u001b[43m \u001b[49m\u001b[38;5;241;43m*\u001b[39;49m\u001b[38;5;241;43m*\u001b[39;49m\u001b[38;5;28;43mself\u001b[39;49m\u001b[38;5;241;43m.\u001b[39;49m\u001b[43m_invocation_params\u001b[49m\n\u001b[1;32m    485\u001b[0m \u001b[43m    \u001b[49m\u001b[43m)\u001b[49m\n\u001b[1;32m    486\u001b[0m     \u001b[38;5;28;01mif\u001b[39;00m \u001b[38;5;129;01mnot\u001b[39;00m \u001b[38;5;28misinstance\u001b[39m(response, \u001b[38;5;28mdict\u001b[39m):\n\u001b[1;32m    487\u001b[0m         response \u001b[38;5;241m=\u001b[39m response\u001b[38;5;241m.\u001b[39mmodel_dump()\n",
      "File \u001b[0;32m~/miniconda3/envs/ibit-hackathon/lib/python3.13/site-packages/openai/resources/embeddings.py:125\u001b[0m, in \u001b[0;36mEmbeddings.create\u001b[0;34m(self, input, model, dimensions, encoding_format, user, extra_headers, extra_query, extra_body, timeout)\u001b[0m\n\u001b[1;32m    119\u001b[0m         embedding\u001b[38;5;241m.\u001b[39membedding \u001b[38;5;241m=\u001b[39m np\u001b[38;5;241m.\u001b[39mfrombuffer(  \u001b[38;5;66;03m# type: ignore[no-untyped-call]\u001b[39;00m\n\u001b[1;32m    120\u001b[0m             base64\u001b[38;5;241m.\u001b[39mb64decode(data), dtype\u001b[38;5;241m=\u001b[39m\u001b[38;5;124m\"\u001b[39m\u001b[38;5;124mfloat32\u001b[39m\u001b[38;5;124m\"\u001b[39m\n\u001b[1;32m    121\u001b[0m         )\u001b[38;5;241m.\u001b[39mtolist()\n\u001b[1;32m    123\u001b[0m     \u001b[38;5;28;01mreturn\u001b[39;00m obj\n\u001b[0;32m--> 125\u001b[0m \u001b[38;5;28;01mreturn\u001b[39;00m \u001b[38;5;28;43mself\u001b[39;49m\u001b[38;5;241;43m.\u001b[39;49m\u001b[43m_post\u001b[49m\u001b[43m(\u001b[49m\n\u001b[1;32m    126\u001b[0m \u001b[43m    \u001b[49m\u001b[38;5;124;43m\"\u001b[39;49m\u001b[38;5;124;43m/embeddings\u001b[39;49m\u001b[38;5;124;43m\"\u001b[39;49m\u001b[43m,\u001b[49m\n\u001b[1;32m    127\u001b[0m \u001b[43m    \u001b[49m\u001b[43mbody\u001b[49m\u001b[38;5;241;43m=\u001b[39;49m\u001b[43mmaybe_transform\u001b[49m\u001b[43m(\u001b[49m\u001b[43mparams\u001b[49m\u001b[43m,\u001b[49m\u001b[43m \u001b[49m\u001b[43membedding_create_params\u001b[49m\u001b[38;5;241;43m.\u001b[39;49m\u001b[43mEmbeddingCreateParams\u001b[49m\u001b[43m)\u001b[49m\u001b[43m,\u001b[49m\n\u001b[1;32m    128\u001b[0m \u001b[43m    \u001b[49m\u001b[43moptions\u001b[49m\u001b[38;5;241;43m=\u001b[39;49m\u001b[43mmake_request_options\u001b[49m\u001b[43m(\u001b[49m\n\u001b[1;32m    129\u001b[0m \u001b[43m        \u001b[49m\u001b[43mextra_headers\u001b[49m\u001b[38;5;241;43m=\u001b[39;49m\u001b[43mextra_headers\u001b[49m\u001b[43m,\u001b[49m\n\u001b[1;32m    130\u001b[0m \u001b[43m        \u001b[49m\u001b[43mextra_query\u001b[49m\u001b[38;5;241;43m=\u001b[39;49m\u001b[43mextra_query\u001b[49m\u001b[43m,\u001b[49m\n\u001b[1;32m    131\u001b[0m \u001b[43m        \u001b[49m\u001b[43mextra_body\u001b[49m\u001b[38;5;241;43m=\u001b[39;49m\u001b[43mextra_body\u001b[49m\u001b[43m,\u001b[49m\n\u001b[1;32m    132\u001b[0m \u001b[43m        \u001b[49m\u001b[43mtimeout\u001b[49m\u001b[38;5;241;43m=\u001b[39;49m\u001b[43mtimeout\u001b[49m\u001b[43m,\u001b[49m\n\u001b[1;32m    133\u001b[0m \u001b[43m        \u001b[49m\u001b[43mpost_parser\u001b[49m\u001b[38;5;241;43m=\u001b[39;49m\u001b[43mparser\u001b[49m\u001b[43m,\u001b[49m\n\u001b[1;32m    134\u001b[0m \u001b[43m    \u001b[49m\u001b[43m)\u001b[49m\u001b[43m,\u001b[49m\n\u001b[1;32m    135\u001b[0m \u001b[43m    \u001b[49m\u001b[43mcast_to\u001b[49m\u001b[38;5;241;43m=\u001b[39;49m\u001b[43mCreateEmbeddingResponse\u001b[49m\u001b[43m,\u001b[49m\n\u001b[1;32m    136\u001b[0m \u001b[43m\u001b[49m\u001b[43m)\u001b[49m\n",
      "File \u001b[0;32m~/miniconda3/envs/ibit-hackathon/lib/python3.13/site-packages/openai/_base_client.py:1283\u001b[0m, in \u001b[0;36mSyncAPIClient.post\u001b[0;34m(self, path, cast_to, body, options, files, stream, stream_cls)\u001b[0m\n\u001b[1;32m   1269\u001b[0m \u001b[38;5;28;01mdef\u001b[39;00m\u001b[38;5;250m \u001b[39m\u001b[38;5;21mpost\u001b[39m(\n\u001b[1;32m   1270\u001b[0m     \u001b[38;5;28mself\u001b[39m,\n\u001b[1;32m   1271\u001b[0m     path: \u001b[38;5;28mstr\u001b[39m,\n\u001b[0;32m   (...)\u001b[0m\n\u001b[1;32m   1278\u001b[0m     stream_cls: \u001b[38;5;28mtype\u001b[39m[_StreamT] \u001b[38;5;241m|\u001b[39m \u001b[38;5;28;01mNone\u001b[39;00m \u001b[38;5;241m=\u001b[39m \u001b[38;5;28;01mNone\u001b[39;00m,\n\u001b[1;32m   1279\u001b[0m ) \u001b[38;5;241m-\u001b[39m\u001b[38;5;241m>\u001b[39m ResponseT \u001b[38;5;241m|\u001b[39m _StreamT:\n\u001b[1;32m   1280\u001b[0m     opts \u001b[38;5;241m=\u001b[39m FinalRequestOptions\u001b[38;5;241m.\u001b[39mconstruct(\n\u001b[1;32m   1281\u001b[0m         method\u001b[38;5;241m=\u001b[39m\u001b[38;5;124m\"\u001b[39m\u001b[38;5;124mpost\u001b[39m\u001b[38;5;124m\"\u001b[39m, url\u001b[38;5;241m=\u001b[39mpath, json_data\u001b[38;5;241m=\u001b[39mbody, files\u001b[38;5;241m=\u001b[39mto_httpx_files(files), \u001b[38;5;241m*\u001b[39m\u001b[38;5;241m*\u001b[39moptions\n\u001b[1;32m   1282\u001b[0m     )\n\u001b[0;32m-> 1283\u001b[0m     \u001b[38;5;28;01mreturn\u001b[39;00m cast(ResponseT, \u001b[38;5;28;43mself\u001b[39;49m\u001b[38;5;241;43m.\u001b[39;49m\u001b[43mrequest\u001b[49m\u001b[43m(\u001b[49m\u001b[43mcast_to\u001b[49m\u001b[43m,\u001b[49m\u001b[43m \u001b[49m\u001b[43mopts\u001b[49m\u001b[43m,\u001b[49m\u001b[43m \u001b[49m\u001b[43mstream\u001b[49m\u001b[38;5;241;43m=\u001b[39;49m\u001b[43mstream\u001b[49m\u001b[43m,\u001b[49m\u001b[43m \u001b[49m\u001b[43mstream_cls\u001b[49m\u001b[38;5;241;43m=\u001b[39;49m\u001b[43mstream_cls\u001b[49m\u001b[43m)\u001b[49m)\n",
      "File \u001b[0;32m~/miniconda3/envs/ibit-hackathon/lib/python3.13/site-packages/openai/_base_client.py:960\u001b[0m, in \u001b[0;36mSyncAPIClient.request\u001b[0;34m(self, cast_to, options, remaining_retries, stream, stream_cls)\u001b[0m\n\u001b[1;32m    957\u001b[0m \u001b[38;5;28;01melse\u001b[39;00m:\n\u001b[1;32m    958\u001b[0m     retries_taken \u001b[38;5;241m=\u001b[39m \u001b[38;5;241m0\u001b[39m\n\u001b[0;32m--> 960\u001b[0m \u001b[38;5;28;01mreturn\u001b[39;00m \u001b[38;5;28;43mself\u001b[39;49m\u001b[38;5;241;43m.\u001b[39;49m\u001b[43m_request\u001b[49m\u001b[43m(\u001b[49m\n\u001b[1;32m    961\u001b[0m \u001b[43m    \u001b[49m\u001b[43mcast_to\u001b[49m\u001b[38;5;241;43m=\u001b[39;49m\u001b[43mcast_to\u001b[49m\u001b[43m,\u001b[49m\n\u001b[1;32m    962\u001b[0m \u001b[43m    \u001b[49m\u001b[43moptions\u001b[49m\u001b[38;5;241;43m=\u001b[39;49m\u001b[43moptions\u001b[49m\u001b[43m,\u001b[49m\n\u001b[1;32m    963\u001b[0m \u001b[43m    \u001b[49m\u001b[43mstream\u001b[49m\u001b[38;5;241;43m=\u001b[39;49m\u001b[43mstream\u001b[49m\u001b[43m,\u001b[49m\n\u001b[1;32m    964\u001b[0m \u001b[43m    \u001b[49m\u001b[43mstream_cls\u001b[49m\u001b[38;5;241;43m=\u001b[39;49m\u001b[43mstream_cls\u001b[49m\u001b[43m,\u001b[49m\n\u001b[1;32m    965\u001b[0m \u001b[43m    \u001b[49m\u001b[43mretries_taken\u001b[49m\u001b[38;5;241;43m=\u001b[39;49m\u001b[43mretries_taken\u001b[49m\u001b[43m,\u001b[49m\n\u001b[1;32m    966\u001b[0m \u001b[43m\u001b[49m\u001b[43m)\u001b[49m\n",
      "File \u001b[0;32m~/miniconda3/envs/ibit-hackathon/lib/python3.13/site-packages/openai/_base_client.py:1064\u001b[0m, in \u001b[0;36mSyncAPIClient._request\u001b[0;34m(self, cast_to, options, retries_taken, stream, stream_cls)\u001b[0m\n\u001b[1;32m   1061\u001b[0m         err\u001b[38;5;241m.\u001b[39mresponse\u001b[38;5;241m.\u001b[39mread()\n\u001b[1;32m   1063\u001b[0m     log\u001b[38;5;241m.\u001b[39mdebug(\u001b[38;5;124m\"\u001b[39m\u001b[38;5;124mRe-raising status error\u001b[39m\u001b[38;5;124m\"\u001b[39m)\n\u001b[0;32m-> 1064\u001b[0m     \u001b[38;5;28;01mraise\u001b[39;00m \u001b[38;5;28mself\u001b[39m\u001b[38;5;241m.\u001b[39m_make_status_error_from_response(err\u001b[38;5;241m.\u001b[39mresponse) \u001b[38;5;28;01mfrom\u001b[39;00m\u001b[38;5;250m \u001b[39m\u001b[38;5;28;01mNone\u001b[39;00m\n\u001b[1;32m   1066\u001b[0m \u001b[38;5;28;01mreturn\u001b[39;00m \u001b[38;5;28mself\u001b[39m\u001b[38;5;241m.\u001b[39m_process_response(\n\u001b[1;32m   1067\u001b[0m     cast_to\u001b[38;5;241m=\u001b[39mcast_to,\n\u001b[1;32m   1068\u001b[0m     options\u001b[38;5;241m=\u001b[39moptions,\n\u001b[0;32m   (...)\u001b[0m\n\u001b[1;32m   1072\u001b[0m     retries_taken\u001b[38;5;241m=\u001b[39mretries_taken,\n\u001b[1;32m   1073\u001b[0m )\n",
      "\u001b[0;31mNotFoundError\u001b[0m: Error code: 404 - {'error': {'code': '404', 'message': 'Resource not found'}}"
     ]
    }
   ],
   "source": [
    "from langchain.vectorstores import Qdrant\n",
    "\n",
    "qdrant = Qdrant.from_documents(\n",
    "    document_chunks,\n",
    "    embeddings_model,\n",
    "    location=\":memory:\",\n",
    "    collection_name=\"movies\",\n",
    ")"
   ]
  },
  {
   "attachments": {},
   "cell_type": "markdown",
   "metadata": {},
   "source": [
    "The above code segment handles the process of initialising the Qdrant database, passing our documents through the embedding model and storing the resulting vectors in the database.\n",
    "\n",
    "Next, we define a *retriever*. In Langchain, retrievers are an interface that allow results to be returned from vector stores. So, we establish a retriever for our Qdrant database."
   ]
  },
  {
   "cell_type": "code",
   "execution_count": null,
   "metadata": {},
   "outputs": [],
   "source": [
    "retriever = qdrant.as_retriever()"
   ]
  },
  {
   "attachments": {},
   "cell_type": "markdown",
   "metadata": {},
   "source": [
    "Next we define a `RetrievalQA` chain. This handles the process of answering a question by performing the search on the vector store, then taking the results of that search and passing them to our AI model."
   ]
  },
  {
   "cell_type": "code",
   "execution_count": null,
   "metadata": {},
   "outputs": [],
   "source": [
    "from langchain.chains import RetrievalQA\n",
    "qa = RetrievalQA.from_chain_type(llm=llm, chain_type=\"stuff\", retriever=retriever)"
   ]
  },
  {
   "attachments": {},
   "cell_type": "markdown",
   "metadata": {},
   "source": [
    "Now, we'll run our query again. However, we'll make one small change.\n",
    "\n",
    "You may be thinking that it's not surprising that the AI now knows about the latest Deadpool movie, because we told it about the latest Deadpool movie! So, let's try and show that the AI is actually doing some work here, after all it is a reasoning engine.\n",
    "\n",
    "If you're not a fan of these movies, Deadpool originates from Marvel comic books. And the collection of movies that originate from Marvel comic books are said to be part of the Marvel Cinematic Universe, sometimes referred to as the MCU. We haven't mentioned Marvel or MCU in the data we've provided, so if we modify the query slightly and ask the AI about the MCU instead of specifically about Deadpool, it should be able to use reasoning to figure out what we mean."
   ]
  },
  {
   "cell_type": "code",
   "execution_count": 11,
   "metadata": {},
   "outputs": [
    {
     "ename": "NameError",
     "evalue": "name 'qa' is not defined",
     "output_type": "error",
     "traceback": [
      "\u001b[0;31m---------------------------------------------------------------------------\u001b[0m",
      "\u001b[0;31mNameError\u001b[0m                                 Traceback (most recent call last)",
      "Cell \u001b[0;32mIn[11], line 2\u001b[0m\n\u001b[1;32m      1\u001b[0m query \u001b[38;5;241m=\u001b[39m \u001b[38;5;124m\"\u001b[39m\u001b[38;5;124mTell me about the latest MCU movie. When was it released? What is it about?\u001b[39m\u001b[38;5;124m\"\u001b[39m\n\u001b[0;32m----> 2\u001b[0m result \u001b[38;5;241m=\u001b[39m \u001b[43mqa\u001b[49m\u001b[38;5;241m.\u001b[39minvoke(query)\n\u001b[1;32m      3\u001b[0m \u001b[38;5;28mprint\u001b[39m(result[\u001b[38;5;124m'\u001b[39m\u001b[38;5;124mresult\u001b[39m\u001b[38;5;124m'\u001b[39m])\n",
      "\u001b[0;31mNameError\u001b[0m: name 'qa' is not defined"
     ]
    }
   ],
   "source": [
    "query = \"Tell me about the latest MCU movie. When was it released? What is it about?\"\n",
    "result = qa.invoke(query)\n",
    "print(result['result'])"
   ]
  },
  {
   "attachments": {},
   "cell_type": "markdown",
   "metadata": {},
   "source": [
    "If all went well, the AI should have responded that the latest MCU movie is Deadpool & Wolverine which was released in July 2024.\n",
    "\n",
    "So, we're getting the response we expected, but let's check in on one of the reasons why we've done all of this. Has the number of tokens used been reduced?  Let's use the same technique as before and employ a callback to find out."
   ]
  },
  {
   "cell_type": "code",
   "execution_count": null,
   "metadata": {},
   "outputs": [],
   "source": [
    "with get_openai_callback() as callback:\n",
    "    qa.invoke(query)\n",
    "    total_tokens = callback.total_tokens\n",
    "\n",
    "print(f\"Total tokens used: {total_tokens}\")"
   ]
  },
  {
   "attachments": {},
   "cell_type": "markdown",
   "metadata": {},
   "source": [
    "The exact number of tokens used may vary, but it should be clear that this query now uses far fewer tokens than our original query, typically around 2,000 fewer."
   ]
  },
  {
   "attachments": {},
   "cell_type": "markdown",
   "metadata": {},
   "source": [
    "AI Orchestrators like Langchain and Semantic Kernel can help simplify the process of embedding, vectorization and search. In the preceding section, we stepped through the process of document splitting, embedding, vectorisation, storing vectors in a database and creating a retriever. In the next section, we use Langchain's document loader as we did previously to load and process our Markdown formatted documents, but this time we use a `VectorstoreIndexCreator` which you can see only requires a couple of parameters - the embedding model that we want to use and the source data (`loader`) to use. However, behind the scenes, the `VectorstoreIndexCreator` is carrying out all of the steps we did previously."
   ]
  },
  {
   "cell_type": "code",
   "execution_count": null,
   "metadata": {},
   "outputs": [],
   "source": [
    "from langchain.indexes import VectorstoreIndexCreator\n",
    "\n",
    "loader = DirectoryLoader(path=data_dir, glob=\"*.md\", show_progress=True, loader_cls=UnstructuredMarkdownLoader)\n",
    "\n",
    "index = VectorstoreIndexCreator(\n",
    "    embedding=embeddings_model\n",
    "    ).from_loaders([loader])"
   ]
  },
  {
   "attachments": {},
   "cell_type": "markdown",
   "metadata": {},
   "source": [
    "Now, to run a query against our data, we just need to specify the prompt and then call the index we've created above and pass in the model (`llm`) we want to use and the question we want to ask."
   ]
  },
  {
   "cell_type": "code",
   "execution_count": null,
   "metadata": {},
   "outputs": [],
   "source": [
    "query = \"Tell me about the latest Deadpool movie. When was it released? What is it about?\"\n",
    "index.query(llm=llm, question=query)"
   ]
  },
  {
   "attachments": {},
   "cell_type": "markdown",
   "metadata": {},
   "source": [
    "You can see this is a really simple way to implement embeddings and vectors as part of an AI application. It's great for getting up and running quickly.\n",
    "\n",
    "We can use the callback method again to confirm that we're still seeing a reduced number of tokens being consumed."
   ]
  },
  {
   "cell_type": "code",
   "execution_count": null,
   "metadata": {},
   "outputs": [],
   "source": [
    "# Run the chain, using the callback to capture the number of tokens used\n",
    "with get_openai_callback() as callback:\n",
    "    index.query(llm=llm, question=query)\n",
    "    total_tokens = callback.total_tokens\n",
    "\n",
    "print(f\"Total tokens used: {total_tokens}\")"
   ]
  },
  {
   "cell_type": "markdown",
   "metadata": {},
   "source": [
    "## Next Section\n",
    "\n",
    "Choose one or more of the following Vector Store and AI Orchestration options:\n",
    "\n",
    "📣 [Implement Retrieval Augmented Generation with Qdrant as vector store](../03-VectorStore/qdrant.ipynb)\n",
    "\n",
    "📣 [Implement Retrieval Augmented Generation with Azure CosmosDB as vector store and as semantic cache](../03-VectorStore/mongo.ipynb)\n",
    "\n",
    "📣 [Implement Retrieval Augmented Generation with Azure AI Search as vector store with semantic ranking](../03-VectorStore/aisearch.ipynb)"
   ]
  }
 ],
 "metadata": {
  "kernelspec": {
   "display_name": "ibit-hackathon",
   "language": "python",
   "name": "python3"
  },
  "language_info": {
   "codemirror_mode": {
    "name": "ipython",
    "version": 3
   },
   "file_extension": ".py",
   "mimetype": "text/x-python",
   "name": "python",
   "nbconvert_exporter": "python",
   "pygments_lexer": "ipython3",
   "version": "3.13.2"
  },
  "orig_nbformat": 4
 },
 "nbformat": 4,
 "nbformat_minor": 2
}
