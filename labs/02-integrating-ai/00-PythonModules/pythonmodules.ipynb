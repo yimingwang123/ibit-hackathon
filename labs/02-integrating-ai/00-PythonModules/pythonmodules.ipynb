{
 "cells": [
  {
   "cell_type": "markdown",
   "metadata": {},
   "source": [
    "# Übung 00\n",
    "# Vorbereitung Ihrer Umgebung\n",
    "\n",
    "Um die Labore in diesem Repository nutzen zu können, sind einige Python-Module erforderlich. Die Namen der benötigten Module sind in der Datei requirements.txt aufgeführt, die sich im Stammverzeichnis dieses Repositories befindet.\n",
    "\n",
    "Stellen Sie sicher, dass Sie eine aktuelle Version von Python und pip installiert haben, um Kompatibilitätsprobleme zu vermeiden. Falls Sie in einer virtuellen Umgebung (Virtual Environment) arbeiten, aktivieren Sie diese vor der Installation der Pakete mit:"
   ]
  },
  {
   "cell_type": "code",
   "execution_count": null,
   "metadata": {},
   "outputs": [],
   "source": [
    "# Beispiel für eine virtuelle Umgebung unter Linux/macOS\n",
    "%source venv/bin/activate\n",
    "%conda activate venv\n",
    "\n",
    "# Beispiel für eine virtuelle Umgebung unter Windows\n",
    "%venv\\Scripts\\activate"
   ]
  },
  {
   "cell_type": "markdown",
   "metadata": {},
   "source": [
    "Führen Sie den folgenden Befehl in Ihrem Terminal oder Ihrer Befehlszeile aus, um alle erforderlichen Pakete zu installieren:"
   ]
  },
  {
   "cell_type": "code",
   "execution_count": null,
   "metadata": {},
   "outputs": [],
   "source": [
    "%pip install -r ../../../requirements.txt"
   ]
  },
  {
   "cell_type": "markdown",
   "metadata": {},
   "source": [
    "Nach der Installation können Sie mit den Hackathon-Übungen beginnen."
   ]
  },
  {
   "cell_type": "markdown",
   "metadata": {},
   "source": [
    "## Das Nächste Kapitel\n",
    "\n",
    "📣 [Azure OpenAI API](../01-AzureOpenAIAPI/azureopenaiapi.ipynb)"
   ]
  }
 ],
 "metadata": {
  "kernelspec": {
   "display_name": ".venv",
   "language": "python",
   "name": "python3"
  },
  "language_info": {
   "codemirror_mode": {
    "name": "ipython",
    "version": 3
   },
   "file_extension": ".py",
   "mimetype": "text/x-python",
   "name": "python",
   "nbconvert_exporter": "python",
   "pygments_lexer": "ipython3",
   "version": "3.10.14"
  },
  "orig_nbformat": 4
 },
 "nbformat": 4,
 "nbformat_minor": 2
}
