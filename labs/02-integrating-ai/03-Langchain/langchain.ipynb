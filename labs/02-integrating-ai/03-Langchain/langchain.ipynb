{
 "cells": [
  {
   "attachments": {},
   "cell_type": "markdown",
   "metadata": {},
   "source": [
    "# 03 - Langchain\n",
    "\n",
    "In this lab, we will introduce [Langchain](https://python.langchain.com/docs/get_started/introduction), a framework for developing applications powered by language models.\n",
    "\n",
    "Langchain supports Python and Javascript / Typescript. For this lab, we will use Python."
   ]
  },
  {
   "attachments": {},
   "cell_type": "markdown",
   "metadata": {},
   "source": [
    "We'll start by importing the `AzureOpenAI` specific components from the `langchain` package, including models and schemas for interacting with the API."
   ]
  },
  {
   "cell_type": "code",
   "execution_count": 1,
   "metadata": {},
   "outputs": [],
   "source": [
    "from langchain_openai import AzureChatOpenAI"
   ]
  },
  {
   "attachments": {},
   "cell_type": "markdown",
   "metadata": {},
   "source": [
    "As with all the other labs, we'll need to provide our API key and endpoint details, so we'll load them from our `.env` file."
   ]
  },
  {
   "cell_type": "code",
   "execution_count": 2,
   "metadata": {},
   "outputs": [
    {
     "name": "stdout",
     "output_type": "stream",
     "text": [
      "Found Azure OpenAI Endpoint: https://ai-admin6169ai032713463879.cognitiveservices.azure.com\n"
     ]
    }
   ],
   "source": [
    "import os\n",
    "import openai\n",
    "from dotenv import load_dotenv\n",
    "\n",
    "if load_dotenv():\n",
    "    print(\"Found Azure OpenAI Endpoint: \" + os.getenv(\"AZURE_OPENAI_ENDPOINT\"))\n",
    "else: \n",
    "    print(\"No file .env found\")"
   ]
  },
  {
   "attachments": {},
   "cell_type": "markdown",
   "metadata": {},
   "source": [
    "Next, we'll configure Langchain by providing the Azure OpenAI deployment name. Langchain will automatically retrieve details for the Azure OpenAI endpoint and version from the environment variables we've set above."
   ]
  },
  {
   "cell_type": "code",
   "execution_count": 3,
   "metadata": {},
   "outputs": [],
   "source": [
    "# Create an instance of Azure OpenAI\n",
    "llm = AzureChatOpenAI(\n",
    "    azure_deployment = os.getenv(\"AZURE_OPENAI_COMPLETION_DEPLOYMENT_NAME\")\n",
    ")"
   ]
  },
  {
   "attachments": {},
   "cell_type": "markdown",
   "metadata": {},
   "source": [
    "## Send a prompt to Azure OpenAI using Langchain\n",
    "\n",
    "We're now ready to send a request to Azure OpenAI. To do this, we invoke the `llm` instance we created above and pass in the prompt."
   ]
  },
  {
   "cell_type": "code",
   "execution_count": 4,
   "metadata": {},
   "outputs": [
    {
     "name": "stdout",
     "output_type": "stream",
     "text": [
      "A Raspberry Pi is a versatile, low-cost, credit-card sized computer that can be used for a myriad of projects. Here are some ideas for what you could create:\n",
      "\n",
      "1. **Media Center**: Use software like Kodi or Plex to set up a media center for streaming music and video to your TV.\n",
      "\n",
      "2. **Retro Gaming Console**: Install RetroPie to emulate classic gaming systems like NES, SNES, Sega Genesis, and more.\n",
      "\n",
      "3. **Home Automation System**: Use Home Assistant or openHAB to control smart home devices such as lights, thermostats, and security systems.\n",
      "\n",
      "4. **Web Server**: Host your own website or a local development server using Apache or Nginx.\n",
      "\n",
      "5. **Network Attached Storage (NAS)**: Set up a NAS for file storage and sharing across your home network.\n",
      "\n",
      "6. **Remote Control Car/Robot**: Use the Pi's GPIO pins to control motors and build a remote-controlled car or robot.\n",
      "\n",
      "7. **Weather Station**: Connect sensors to create a weather station that monitors temperature, humidity, and pressure.\n",
      "\n",
      "8. **Security Camera System**: Use software like MotionEyeOS to create a security camera system with video recording capabilities.\n",
      "\n",
      "9. **AI and Machine Learning Projects**: Utilize TensorFlow or PyTorch for small-scale machine learning applications.\n",
      "\n",
      "10. **VPN Server**: Set up a personal VPN for secure internet browsing.\n",
      "\n",
      "11. **Digital Picture Frame**: Display photos from a USB drive or the cloud on an LCD screen.\n",
      "\n",
      "12. **Smart Mirror**: Create a smart mirror that can display time, weather, news, and more.\n",
      "\n",
      "13. **Handheld Computer**: Build a portable computer or laptop using a small display and battery pack.\n",
      "\n",
      "14. **Air Quality Monitor**: Use sensors to monitor indoor air quality, including CO2 and particulate matter levels.\n",
      "\n",
      "15. **IoT Projects**: Connect various sensors and devices to bring data to the cloud or create automated interactions.\n",
      "\n",
      "16. **Minecraft Server**: Host a private Minecraft server for multiplayer gaming with friends.\n",
      "\n",
      "17. **Digital Audio Workstation (DAW)**: Set up a basic digital audio workstation for music creation and recording.\n",
      "\n",
      "18. **Pi-hole Ad Blocker**: Install Pi-hole to block advertisements and tracking across all devices on your home network.\n",
      "\n",
      "19. **Drone Controller**: Use a Raspberry Pi to control a drone, integrating with cameras and navigation systems.\n",
      "\n",
      "20. **Educational Tool**: Use it as a platform for learning programming, electronics, and robotics with children and educational kits.\n",
      "\n",
      "These projects can range from beginner to advanced in terms of difficulty, so you can choose one that matches your skill level and interests. Additionally, the Raspberry Pi community is very active, providing numerous tutorials and support for almost any project you can imagine.\n"
     ]
    }
   ],
   "source": [
    "r = llm.invoke(\"What things could I make with a Raspberry Pi?\")\n",
    "\n",
    "# Print the response\n",
    "print(r.content)"
   ]
  },
  {
   "cell_type": "markdown",
   "metadata": {},
   "source": [
    "Compared to using the OpenAI Python library as we did in the previous lab, Langchain further simplified the process of interacting with the LLM by reducing it to a `llm.invoke` call."
   ]
  },
  {
   "attachments": {},
   "cell_type": "markdown",
   "metadata": {},
   "source": [
    "## Using templates and chains\n",
    "\n",
    "We've seen that we can use Langchain to interact with the LLM and it's a little easier to work with than the OpenAI Python library. However, that's just the start of how Langchain makes it easier to work with LLM's. Most OpenAI models are designed to be interacted with using a Chat style interface, where you provide a persona or system prompt which helps the LLM understand the context of the conversation. This will then be sent to the LLM along with the user's request.\n",
    "\n",
    "So that you don't have to setup the persona / system prompt every time you want to interact with the LLM, Langchain provides the concept of Templates. Templates are a way to define the persona and system prompt once and then reuse them across multiple interactions."
   ]
  },
  {
   "cell_type": "code",
   "execution_count": 5,
   "metadata": {},
   "outputs": [],
   "source": [
    "from langchain_core.prompts import ChatPromptTemplate\n",
    "prompt = ChatPromptTemplate.from_messages([\n",
    "    (\"system\", \"You are a chatbot that helps people generate ideas for their next project. You can help them brainstorm ideas, come up with a plan, or even help them with their project.\"),\n",
    "    (\"user\", \"{input}\")\n",
    "])"
   ]
  },
  {
   "cell_type": "markdown",
   "metadata": {},
   "source": [
    "Above we've defined a \"system\" message which will tell the LLM how we're expecting it to respond, and an `{input}` placeholder for the user's prompt.\n",
    "\n",
    "Next, we define a chain. A chain allows us to define a sequence of operations that we want to perform. In this case, we're defining a simple chain that will take the prompt we've defined above and send it to the LLM."
   ]
  },
  {
   "cell_type": "code",
   "execution_count": 6,
   "metadata": {},
   "outputs": [],
   "source": [
    "chain = prompt | llm"
   ]
  },
  {
   "cell_type": "markdown",
   "metadata": {},
   "source": [
    "Now, we can invoke the chain in a similar fashion to how to invoked the LLM earlier. This time, we're passing in the user's input as a parameter to the chain, which will replace the `{input}` placeholder in the prompt."
   ]
  },
  {
   "cell_type": "code",
   "execution_count": 7,
   "metadata": {},
   "outputs": [
    {
     "data": {
      "text/plain": [
       "AIMessage(content=\"Absolutely! The Raspberry Pi is a wonderfully versatile platform with many possibilities. Here are several ideas to get you started:\\n\\n1. **Smart Home Hub**: Create a central hub to control and automate smart home devices using software like Home Assistant or openHAB.\\n\\n2. **Media Center**: Set up a home media server with Kodi or Plex to stream movies, music, and photos to devices around your house.\\n\\n3. **Retro Gaming Console**: Build a vintage gaming machine using RetroPie to play classic games from consoles like NES, SNES, and Game Boy.\\n\\n4. **Weather Station**: Connect sensors to your Raspberry Pi to monitor and report local weather conditions such as temperature, humidity, and pressure.\\n\\n5. **Network-Attached Storage (NAS)**: Turn your Raspberry Pi into a NAS device to store and backup files accessible over your home network.\\n\\n6. **Pi-Hole Ad Blocker**: Install Pi-Hole to block ads and trackers network-wide by filtering DNS requests.\\n\\n7. **Personal Web Server**: Host your website or a blog from home on a Raspberry Pi with a LAMP or LEMP stack.\\n\\n8. **AI Assistant**: Create a voice-controlled virtual assistant using projects like Mycroft or Jasper.\\n\\n9. **Pi-Cluster**: Experiment with distributed computing by building a small cluster of Raspberry Pi's to learn more about parallel computing.\\n\\n10. **Smart Mirror**: Build a smart mirror that can display weather forecasts, calendars, and news with the help of a two-way mirror and a monitor.\\n\\n11. **Security Camera System**: Use the Raspberry Pi's camera module to set up a simple home security system with motion detection.\\n\\n12. **Time-Lapse Photography**: Create a time-lapse camera using the Raspberry Pi camera module for capturing scenic changes over time.\\n\\n13. **Environmental Monitoring**: Use sensors to monitor soil moisture or air quality, perfect for gardening or air quality projects.\\n\\n14. **Robot**: Build and program a simple robot, making use of the GPIO pins for motors and sensors to navigate or follow commands.\\n\\n15. **VPN Server**: Set up a VPN to securely connect to your home network using OpenVPN or WireGuard.\\n\\nOnce you choose an idea that interests you, I can help you break it down into steps and suggest resources to get you started.\", additional_kwargs={'refusal': None}, response_metadata={'token_usage': {'completion_tokens': 473, 'prompt_tokens': 70, 'total_tokens': 543, 'completion_tokens_details': {'accepted_prediction_tokens': 0, 'audio_tokens': 0, 'reasoning_tokens': 0, 'rejected_prediction_tokens': 0}, 'prompt_tokens_details': {'audio_tokens': 0, 'cached_tokens': 0}}, 'model_name': 'gpt-4o-2024-08-06', 'system_fingerprint': 'fp_f3927aa00d', 'prompt_filter_results': [{'prompt_index': 0, 'content_filter_results': {'hate': {'filtered': False, 'severity': 'safe'}, 'jailbreak': {'filtered': False, 'detected': False}, 'self_harm': {'filtered': False, 'severity': 'safe'}, 'sexual': {'filtered': False, 'severity': 'safe'}, 'violence': {'filtered': False, 'severity': 'safe'}}}], 'finish_reason': 'stop', 'logprobs': None, 'content_filter_results': {'hate': {'filtered': False, 'severity': 'safe'}, 'protected_material_code': {'filtered': False, 'detected': False}, 'protected_material_text': {'filtered': False, 'detected': False}, 'self_harm': {'filtered': False, 'severity': 'safe'}, 'sexual': {'filtered': False, 'severity': 'safe'}, 'violence': {'filtered': False, 'severity': 'safe'}}}, id='run-60804695-2675-403d-8e85-501052e39cae-0', usage_metadata={'input_tokens': 70, 'output_tokens': 473, 'total_tokens': 543, 'input_token_details': {'audio': 0, 'cache_read': 0}, 'output_token_details': {'audio': 0, 'reasoning': 0}})"
      ]
     },
     "execution_count": 7,
     "metadata": {},
     "output_type": "execute_result"
    }
   ],
   "source": [
    "chain.invoke({\"input\": \"I've just purchased a Raspberry Pi and I'm looking for a project to work on. Can you help me brainstorm some ideas?\"})"
   ]
  },
  {
   "cell_type": "markdown",
   "metadata": {},
   "source": [
    "The result will be an `AIMessage` object, which contains the response from the LLM.\n",
    "\n",
    "Let's enhance the chain further to get it to parse the output from the LLM and extract the text from the response. First, we define an output parser."
   ]
  },
  {
   "cell_type": "code",
   "execution_count": 8,
   "metadata": {},
   "outputs": [],
   "source": [
    "from langchain_core.output_parsers import StrOutputParser\n",
    "\n",
    "output_parser = StrOutputParser()"
   ]
  },
  {
   "cell_type": "markdown",
   "metadata": {},
   "source": [
    "Next, we redefine our chain to include the output parser. So now when we invoke the chain, it will \n",
    "\n",
    "- Take the prompt template and add the user's input\n",
    "- Send the prompt to the LLM\n",
    "- Parse the response from the LLM and extract the text"
   ]
  },
  {
   "cell_type": "code",
   "execution_count": 9,
   "metadata": {},
   "outputs": [],
   "source": [
    "chain = prompt | llm | output_parser"
   ]
  },
  {
   "cell_type": "markdown",
   "metadata": {},
   "source": [
    "Now let's invoke the chain again with the same prompt as before."
   ]
  },
  {
   "cell_type": "code",
   "execution_count": 10,
   "metadata": {},
   "outputs": [
    {
     "data": {
      "text/plain": [
       "\"Absolutely! Raspberry Pi is a versatile device that can be used for a multitude of projects. Here are a few ideas to get you started:\\n\\n1. **Home Automation System**: Use your Raspberry Pi to control smart devices throughout your home. You can set up automation for lighting, thermostats, and security cameras with software like Home Assistant or OpenHAB.\\n\\n2. **Retro Gaming Console**: Install RetroPie to transform your Raspberry Pi into a retro gaming console. You can play games from a variety of classic consoles like NES, SNES, Sega Genesis, and more.\\n\\n3. **Media Center**: Set up your Raspberry Pi as a media center using Kodi or Plex. Stream videos, music, and photos to your TV, and organize your media into a centralized hub.\\n\\n4. **Personal Web Server**: Use your Raspberry Pi as a personal web server to host websites or blogs. Install software like WordPress, Apache, or Nginx to get started.\\n\\n5. **Network Attached Storage (NAS)**: Create a low-cost NAS solution to store and share files across your home network. Software like OpenMediaVault can help you set this up.\\n\\n6. **Weather Station**: Build a weather station by connecting different sensors to your Raspberry Pi. Collect data on temperature, humidity, and atmospheric pressure, and display it in real-time on a web interface or mobile app.\\n\\n7. **Smart Mirror**: Design a smart mirror that displays the time, weather, news, and your calendar. You'll need a two-way mirror, a monitor, and some creative coding using tools like MagicMirror².\\n\\n8. **AI Assistant**: Build your own voice assistant using a combination of Raspberry Pi, a microphone, and a speaker. With open-source software like Mycroft or Jasper, you can create a customizable AI helper.\\n\\n9. **Robot Controller**: Use your Raspberry Pi to control a robot. With a camera and motors, you can create a rover that is remotely controllable or even autonomous.\\n\\n10. **Timelapse Camera**: Set up your Raspberry Pi with a camera module to take timelapse photos. Capture the changing scenery outside your window, or document the growth of a plant.\\n\\n11. **Ad Blocker**: Install Pi-hole to transform your Raspberry Pi into a network-wide ad blocker, providing all your devices with an ad-free browsing experience.\\n\\n12. **IoT Health Monitor**: Set up a health monitoring station that tracks activity, heart rate, or other health indicators. This can involve connecting various sensors and developing an interface to view the data.\\n\\nOnce you pick an idea, I can help you develop a plan or guide you through the setup process. Happy building!\""
      ]
     },
     "execution_count": 10,
     "metadata": {},
     "output_type": "execute_result"
    }
   ],
   "source": [
    "chain.invoke({\"input\": \"I've just purchased a Raspberry Pi and I'm looking for a project to work on. Can you help me brainstorm some ideas?\"})"
   ]
  },
  {
   "cell_type": "markdown",
   "metadata": {},
   "source": [
    "This time, you should only get a string containing the text from the response.\n",
    "\n",
    "We can do much more powerful things with chains than simply setting up and passing prompts to the LLM and parsing the results. We can augment the prompt with external data retrieved from a database, we could add conversation history to provide context for a chatbot, or we could even chain multiple LLMs together to create a more powerful model. We'll explore some of these ideas in future labs."
   ]
  },
  {
   "attachments": {},
   "cell_type": "markdown",
   "metadata": {},
   "source": [
    "## Summary\n",
    "\n",
    "Langchain is an example of an AI orchestrator. It provides an alternative method to the raw API or using an SDK package to access the AI models, but on top of that can provide additional integrations, deal with issues related to rate limiting of the API and provide an abstraction layer over potentially complex operations. We'll get into those more complex use cases in later labs."
   ]
  },
  {
   "attachments": {},
   "cell_type": "markdown",
   "metadata": {},
   "source": [
    "## Up Next\n",
    "\n",
    "In the next lab, we'll look at another AI Orchestrator - Semantic Kernel."
   ]
  },
  {
   "cell_type": "markdown",
   "metadata": {},
   "source": [
    "## Next Section\n",
    "\n",
    "📣 [Semantic Kernel](../04-SemanticKernel/semantickernel.ipynb)"
   ]
  }
 ],
 "metadata": {
  "kernelspec": {
   "display_name": "ibit-hackathon",
   "language": "python",
   "name": "python3"
  },
  "language_info": {
   "codemirror_mode": {
    "name": "ipython",
    "version": 3
   },
   "file_extension": ".py",
   "mimetype": "text/x-python",
   "name": "python",
   "nbconvert_exporter": "python",
   "pygments_lexer": "ipython3",
   "version": "3.13.2"
  },
  "orig_nbformat": 4
 },
 "nbformat": 4,
 "nbformat_minor": 2
}
