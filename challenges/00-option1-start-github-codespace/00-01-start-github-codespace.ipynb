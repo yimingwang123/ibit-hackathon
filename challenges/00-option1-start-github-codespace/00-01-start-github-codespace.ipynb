{
 "cells": [
  {
   "cell_type": "markdown",
   "metadata": {},
   "source": [
    "# GitHub Codespace einrichten\n",
    "\n",
    "## Codespace starten\n",
    "\n",
    "1. Gehe zum Repository: [ibit-hackathon](https://github.com/yimingwang123/ibit-hackathon)\n",
    "2. Klicke auf **\"Code\"** (grüne Schaltfläche oben rechts).\n",
    "3. Wechsle zum Reiter **\"Codespaces\"**.\n",
    "4. Klicke auf **\"Create codespace on main\"**, um eine neue Instanz zu starten.\n",
    "\n",
    "\n",
    "   ![Code-Button im Repository](./images/code-button-in-repo.png)\n",
    "\n",
    "## Codespace beenden\n",
    "\n",
    "1. Öffne das **GitHub Codespaces Dashboard** über [GitHub Codespaces](https://github.com/codespaces).\n",
    "2. Wähle den laufenden Codespace aus.\n",
    "3. Klicke auf **\"Stop codespace\"**, um ihn zu beenden.\n",
    "4. Falls der Codespace nicht mehr benötigt wird, kann er mit **\"Delete codespace\"** dauerhaft gelöscht werden.\n",
    "\n",
    "\n",
    "   ![Code-Button im Repository](./images/stop-codespace-button.png)\n",
    "\n",
    "## Alternative: Codespace über GitHub CLI starten\n",
    "\n",
    "Falls die GitHub CLI (`gh`) installiert ist, kann ein Codespace auch über die Konsole gestartet werden. Wir nennen das Codespace \"ibit-dev\":\n",
    "```sh\n",
    "gh codespace create --repo yimingwang123/ibit-hackathon --name ibit-dev\n",
    "\n",
    "```\n",
    "\n",
    "Zum Öffnen in VS Code:\n",
    "```sh\n",
    "gh codespace code -c ibit-dev\n",
    "```\n",
    "\n",
    "## Codespace neu starten\n",
    "\n",
    "Falls Änderungen an der Entwicklungsumgebung vorgenommen wurden, kann der Codespace neu gebaut werden:\n",
    "1. Öffne **VS Code** in Codespaces.\n",
    "2. Drücke **F1** und suche nach **\"Codespaces: Rebuild Container\"**.\n",
    "3. Wähle die Option aus und warte auf den Neuaufbau.\n",
    "\n",
    "Weitere Informationen zu GitHub Codespaces findest du in der [offiziellen Dokumentation](https://docs.github.com/de/codespaces).\n",
    "\n"
   ]
  }
 ],
 "metadata": {
  "kernelspec": {
   "display_name": ".venv",
   "language": "python",
   "name": "python3"
  },
  "language_info": {
   "codemirror_mode": {
    "name": "ipython",
    "version": 3
   },
   "file_extension": ".py",
   "mimetype": "text/x-python",
   "name": "python",
   "nbconvert_exporter": "python",
   "pygments_lexer": "ipython3",
   "version": "3.10.14"
  },
  "orig_nbformat": 4
 },
 "nbformat": 4,
 "nbformat_minor": 2
}
