{
 "cells": [
  {
   "attachments": {},
   "cell_type": "markdown",
   "metadata": {},
   "source": [
    "# 02-01 - Was sind Embeddings\n",
    "\n",
    "In diesem Lab werden wir untersuchen, wie wir unsere eigenen Daten in die von Azure OpenAI verwendeten Modelle einbringen können.\n",
    "\n",
    "Wir beginnen wie üblich damit, eine Verbindung zum Azure OpenAI-Dienst herzustellen.\n",
    "\n",
    "**HINWEIS**: Wie in den vorherigen Labs verwenden wir die Werte aus der Datei `.env`, die sich im Hauptverzeichnis dieses Repositorys befindet."
   ]
  },
  {
   "cell_type": "code",
   "execution_count": 2,
   "metadata": {},
   "outputs": [
    {
     "name": "stdout",
     "output_type": "stream",
     "text": [
      "Azure OpenAI-Endpunkt gefunden: https://azure-openai-ibit-hackathon.openai.azure.com/\n"
     ]
    }
   ],
   "source": [
    "import os\n",
    "from langchain.llms import AzureOpenAI\n",
    "from langchain_openai import AzureChatOpenAI\n",
    "from langchain.schema import HumanMessage\n",
    "from dotenv import load_dotenv\n",
    "\n",
    "# Laden der Umgebungsvariablen\n",
    "if load_dotenv():\n",
    "    print(\"Azure OpenAI-Endpunkt gefunden: \" + os.getenv(\"AZURE_OPENAI_ENDPOINT\"))\n",
    "else: \n",
    "    print(\"Keine .env-Datei gefunden\")\n",
    "\n",
    "# Erstellen einer Instanz von Azure OpenAI\n",
    "llm = AzureChatOpenAI(\n",
    "    azure_deployment = os.getenv(\"AZURE_OPENAI_COMPLETION_DEPLOYMENT_NAME\")\n",
    ")"
   ]
  },
  {
   "attachments": {},
   "cell_type": "markdown",
   "metadata": {},
   "source": [
    "Lassen Sie uns damit beginnen, der KI eine einfache Frage zu stellen."
   ]
  },
  {
   "cell_type": "code",
   "execution_count": 3,
   "metadata": {},
   "outputs": [
    {
     "name": "stdout",
     "output_type": "stream",
     "text": [
      "As of my last knowledge update in October 2023, **\"Deadpool 3\"** is the latest installment in the *Deadpool* film series. It is highly anticipated and has generated significant buzz among fans, particularly because it marks the character's full integration into the Marvel Cinematic Universe (MCU) after Disney's acquisition of 21st Century Fox.\n",
      "\n",
      "### Release Date\n",
      "*Deadpool 3* is currently scheduled to be released in **May 2024**, after experiencing delays due to the industry-wide WGA and SAG-AFTRA strikes. This will make it the first *Deadpool* film released under Marvel Studios and the Disney banner.\n",
      "\n",
      "### Plot Details\n",
      "While Marvel has remained tight-lipped about specific story details, here's what is known or heavily rumored about *Deadpool 3* as of October 2023:\n",
      "- The film will continue Ryan Reynolds’ portrayal of the wisecracking, fourth-wall-breaking antihero Wade Wilson/Deadpool.\n",
      "- **Hugh Jackman returns as Wolverine**, reprising his iconic role from the *X-Men* franchise. Reports indicate Wolverine will wear a version of his classic yellow and blue costume from the comics, which is a first for the live-action iteration of the character.\n",
      "- The movie will reportedly explore multiversal chaos, bringing Deadpool and Wolverine into the MCU's universe. This aligns with Marvel's current focus on the multiverse as seen in projects like *Loki*, *Doctor Strange in the Multiverse of Madness*, and *Spider-Man: No Way Home*.\n",
      "- Fan theories suggest that Deadpool 3 will deal with the aftermath of Deadpool’s antics with Cable's time-traveling device (*Deadpool 2*) and involve interactions with MCU characters, though no official cameos have been confirmed yet.\n",
      "\n",
      "### Cast\n",
      "In addition to Ryan Reynolds and Hugh Jackman, several returning actors from the previous *Deadpool* films are expected to reprise their roles, including:\n",
      "- Morena Baccarin as Vanessa\n",
      "- Stefan Kapičić as Colossus\n",
      "- Brianna Hildebrand as Negasonic Teenage Warhead\n",
      "\n",
      "It’s also rumored the film could address how the X-Men characters from Fox’s universe interact with the MCU. \n",
      "\n",
      "### Tone and Style\n",
      "True to form, *Deadpool 3* is expected to retain the franchise's trademark irreverent humor, meta-commentary, and R-rated violence. Kevin Feige, president of Marvel Studios, has confirmed the movie will be R-rated, keeping in line with the tone that made the first two films so successful.\n",
      "\n",
      "If you're looking forward to *Deadpool 3*, keep an eye out for updates, teasers, and trailers as the release date approaches—it’s shaping up to be a wild ride!\n",
      "\n",
      "Do note that details beyond October 2023 may have changed or developed further!\n"
     ]
    }
   ],
   "source": [
    "r = llm.invoke(\"Tell me about the latest Deadpool movie. When was it released? What is it about?\")\n",
    "\n",
    "# Ausgabe der Antwort\n",
    "print(r.content)"
   ]
  },
  {
   "attachments": {},
   "cell_type": "markdown",
   "metadata": {},
   "source": [
    "Was fällt Ihnen an der Antwort auf?\n",
    "\n",
    "Der neueste \"Deadpool\"-Film heisst \"Deadpool and Wolverine\". Abhängig vom Modell und der Version, die Sie verwenden, kann es sein, dass das Modell einen der vorherigen Filme als den neuesten bezeichnet oder dass es zwar weiß, dass es einen neuen Film gibt, aber denkt, dass dieser noch nicht veröffentlicht wurde.\n",
    "\n",
    "OpenAI-Modelle werden auf einer großen Menge Daten trainiert, aber dies geschieht zu einem bestimmten Zeitpunkt, der vom jeweiligen Modell abhängt. Daher haben viele Modelle keine Informationen über Ereignisse, die in sehr aktuellen Monaten oder Jahren stattgefunden haben.\n",
    "\n",
    "Um der KI zu helfen, können wir ihr zusätzliche Informationen bereitstellen. Das gleiche Vorgehen würden Sie anwenden, wenn Sie möchten, dass die KI mit Ihren firmeneigenen Daten arbeitet. Die KI weiß nichts über Informationen, die nicht öffentlich zugänglich sind. Wenn Sie also möchten, dass die KI mit diesen Informationen arbeitet, müssen Sie diese Informationen in das Modell einbringen.\n",
    "\n",
    "Das Problem ist, dass Sie das Modell dazu nicht wirklich neu trainieren können. Die Modelle sind vorab trainiert, und ein erneutes Training ist aufwendig und zeitintensiv.\n",
    "\n",
    "Es gibt jedoch Möglichkeiten, KI-Modelle trotzdem mit neuen Daten arbeiten zu lassen. Die beliebteste Methode ist die Verwendung von *Embeddings* (Einbettungen), die wir in den nächsten Abschnitten untersuchen werden."
   ]
  },
  {
   "attachments": {},
   "cell_type": "markdown",
   "metadata": {},
   "source": [
    "## Eigene Daten einbringen\n",
    "\n",
    "Langchain bietet eine Reihe nützlicher Tools, darunter solche, die den Umgang mit externen Dokumenten vereinfachen. Im folgenden Beispiel verwenden wir den `DirectoryLoader`, der mehrere Dateien aus einem Verzeichnis lesen kann, und den `UnstructuredMarkdownLoader`, der Dateien im Markdown-Format verarbeiten kann. Wir nutzen diese, um eine Reihe von Markdown-Dateien zu verarbeiten, die Details über kürzlich veröffentlichte Filme enthalten."
   ]
  },
  {
   "cell_type": "code",
   "execution_count": 5,
   "metadata": {},
   "outputs": [
    {
     "name": "stderr",
     "output_type": "stream",
     "text": [
      "  0%|          | 0/17 [00:00<?, ?it/s]"
     ]
    },
    {
     "name": "stderr",
     "output_type": "stream",
     "text": [
      "100%|██████████| 17/17 [00:02<00:00,  5.81it/s]\n"
     ]
    }
   ],
   "source": [
    "from langchain.document_loaders import DirectoryLoader, UnstructuredMarkdownLoader\n",
    "\n",
    "data_dir = \"movies\"\n",
    "\n",
    "documents = DirectoryLoader(path=data_dir, glob=\"*.md\", show_progress=True, loader_cls=UnstructuredMarkdownLoader).load()"
   ]
  },
  {
   "attachments": {},
   "cell_type": "markdown",
   "metadata": {},
   "source": [
    "Wir haben nun ein Objekt `documents`, das alle Informationen aus unseren Markdown-Dokumenten über Filme enthält.\n",
    "\n",
    "Wir können die `question_answering`-Chain verwenden, um der KI Zugriff auf unsere Dokumente zu geben und dann dieselbe Frage zu den Deadpool-Filmen erneut stellen."
   ]
  },
  {
   "cell_type": "code",
   "execution_count": 6,
   "metadata": {},
   "outputs": [
    {
     "name": "stderr",
     "output_type": "stream",
     "text": [
      "/tmp/ipykernel_252410/829329869.py:5: LangChainDeprecationWarning: This class is deprecated. See the following migration guides for replacements based on `chain_type`:\n",
      "stuff: https://python.langchain.com/docs/versions/migrating_chains/stuff_docs_chain\n",
      "map_reduce: https://python.langchain.com/docs/versions/migrating_chains/map_reduce_chain\n",
      "refine: https://python.langchain.com/docs/versions/migrating_chains/refine_chain\n",
      "map_rerank: https://python.langchain.com/docs/versions/migrating_chains/map_rerank_docs_chain\n",
      "\n",
      "See also guides on retrieval and question-answering here: https://python.langchain.com/docs/how_to/#qa-with-rag\n",
      "  chain = load_qa_chain(llm)\n"
     ]
    },
    {
     "name": "stdout",
     "output_type": "stream",
     "text": [
      "The latest *Deadpool* movie, titled **\"Deadpool & Wolverine\"**, is an action-packed, comedy-heavy entry in the superhero genre. It is set to be released on **July 24, 2024**.\n",
      "\n",
      "### Plot Overview:\n",
      "The movie follows Wade Wilson, aka Deadpool, who has left his mercenary days behind and leads a listless civilian life. However, when his homeworld faces an existential threat, he is reluctantly forced to suit up again. Teaming up with a very reluctant Wolverine (played by Hugh Jackman), Deadpool must confront a new enemy while navigating a chaotic multiverse. Along the way, the film delivers plenty of humor, epic action sequences, and nods to both characters' origins and histories.\n",
      "\n",
      "### Reception:\n",
      "Early reviews suggest that while the plot might not be the strongest aspect of the film, the comedy, action, and chemistry between Ryan Reynolds (Deadpool) and Hugh Jackman (Wolverine) are highly praised. Fans have lauded the film’s humor, nostalgic throwbacks, and the playful jabs at the superhero genre. It's also described as a love letter to fans of the characters.\n"
     ]
    }
   ],
   "source": [
    "# Frage-Antwort-Chain\n",
    "from langchain.chains.question_answering import load_qa_chain\n",
    "\n",
    "# Vorbereiten der Chain und der Abfrage\n",
    "chain = load_qa_chain(llm)\n",
    "query = \"Tell me about the latest Deadpool movie. When was it released? What is it about?\"\n",
    "\n",
    "result = chain.invoke({'input_documents': documents, 'question': query})\n",
    "\n",
    "print (result['output_text'])"
   ]
  },
  {
   "attachments": {},
   "cell_type": "markdown",
   "metadata": {},
   "source": [
    "Super! Das Modell kennt nun die richtigen Details zum neuesten Deadpool-Film.\n",
    "\n",
    "Allerdings gibt es etwas im Hintergrund zu beachten! Werfen wir einen Blick darauf, was hinter den Kulissen passiert.\n",
    "\n",
    "Wir werden zwei Dinge tun. Erstens werden wir den Parameter `verbose=True` zur Chain hinzufügen, und zweitens werden wir die Ausführung der Chain in einen Callback einbetten, um die Anzahl der verbrauchten Tokens zu erfassen."
   ]
  },
  {
   "cell_type": "code",
   "execution_count": 7,
   "metadata": {},
   "outputs": [
    {
     "name": "stdout",
     "output_type": "stream",
     "text": [
      "\n",
      "\n",
      "\u001b[1m> Entering new StuffDocumentsChain chain...\u001b[0m\n",
      "\n",
      "\n",
      "\u001b[1m> Entering new LLMChain chain...\u001b[0m\n",
      "Prompt after formatting:\n",
      "\u001b[32;1m\u001b[1;3mSystem: Use the following pieces of context to answer the user's question. \n",
      "If you don't know the answer, just say that you don't know, don't try to make up an answer.\n",
      "----------------\n",
      "iNumber Number: Jozi Gold\n",
      "\n",
      "Overview\n",
      "\n",
      "When an undercover cop is tasked with investigating a historic gold heist in Johannesburg, he’s forced to choose between his conscience and the law.\n",
      "\n",
      "Details\n",
      "\n",
      "Release Date: 2023-06-23\n",
      "\n",
      "Genres: Crime, Action, Thriller\n",
      "\n",
      "Popularity: 719.085\n",
      "\n",
      "Vote Average: 6.3\n",
      "\n",
      "Keywords:\n",
      "\n",
      "Extraction 2\n",
      "\n",
      "Overview\n",
      "\n",
      "Tasked with extracting a family who is at the mercy of a Georgian gangster, Tyler Rake infiltrates one of the world's deadliest prisons in order to save them. But when the extraction gets hot, and the gangster dies in the heat of battle, his equally ruthless brother tracks down Rake and his team to Vienna, in order to get revenge.\n",
      "\n",
      "Details\n",
      "\n",
      "Release Date: 2023-06-09\n",
      "\n",
      "Genres: Action, Thriller\n",
      "\n",
      "Popularity: 1422.453\n",
      "\n",
      "Vote Average: 7.6\n",
      "\n",
      "Keywords: mercenary, sequel, rescue mission, long take, based on graphic novel\n",
      "\n",
      "The Flash\n",
      "\n",
      "Overview\n",
      "\n",
      "When his attempt to save his family inadvertently alters the future, Barry Allen becomes trapped in a reality in which General Zod has returned and there are no Super Heroes to turn to. In order to save the world that he is in and return to the future that he knows, Barry's only hope is to race for his life. But will making the ultimate sacrifice be enough to reset the universe?\n",
      "\n",
      "Details\n",
      "\n",
      "Release Date: 2023-06-13\n",
      "\n",
      "Genres: Science Fiction, Action, Adventure\n",
      "\n",
      "Popularity: 786.283\n",
      "\n",
      "Vote Average: 6.7\n",
      "\n",
      "Keywords: secret identity, hero, superhero, based on comic, superhuman, super power, aftercreditsstinger, butterfly effect, dc extended universe (dceu), superhuman abilities, loss of mother\n",
      "\n",
      "Guy Ritchie's The Covenant\n",
      "\n",
      "Overview\n",
      "\n",
      "During the war in Afghanistan, a local interpreter risks his own life to carry an injured sergeant across miles of grueling terrain.\n",
      "\n",
      "Details\n",
      "\n",
      "Release Date: 2023-04-19\n",
      "\n",
      "Genres: War, Action, Thriller\n",
      "\n",
      "Popularity: 544.105\n",
      "\n",
      "Vote Average: 7.8\n",
      "\n",
      "Keywords: ambush, interpreter, afghanistan, afghanistan war (2001- ), rescue, war\n",
      "\n",
      "Creed III\n",
      "\n",
      "Overview\n",
      "\n",
      "After dominating the boxing world, Adonis Creed has been thriving in both his career and family life. When a childhood friend and former boxing prodigy, Damian Anderson, resurfaces after serving a long sentence in prison, he is eager to prove that he deserves his shot in the ring. The face-off between former friends is more than just a fight. To settle the score, Adonis must put his future on the line to battle Damian — a fighter who has nothing to lose.\n",
      "\n",
      "Details\n",
      "\n",
      "Release Date: 2023-03-01\n",
      "\n",
      "Genres: Drama, Action\n",
      "\n",
      "Popularity: 433.823\n",
      "\n",
      "Vote Average: 7.2\n",
      "\n",
      "Keywords: philadelphia, pennsylvania, husband wife relationship, deaf, sports, sequel, orphan, former best friend, ex-con, childhood friends, juvenile detention center, boxing, prodigy\n",
      "\n",
      "Deadpool & Wolverine\n",
      "\n",
      "Overview\n",
      "\n",
      "A listless Wade Wilson toils away in civilian life with his days as the morally flexible mercenary, Deadpool, behind him. But when his homeworld faces an existential threat, Wade must reluctantly suit-up again with an even more reluctant Wolverine.\n",
      "\n",
      "Details\n",
      "\n",
      "Release Date: 2024-07-24\n",
      "\n",
      "Genres: Action, Comedy, Science Fiction\n",
      "\n",
      "Popularity: 2617.082\n",
      "\n",
      "Vote Average: 7.728\n",
      "\n",
      "Keywords: hero, superhero, anti hero, mutant, breaking the fourth wall, mutants, superhero teamup\n",
      "\n",
      "Reviews\n",
      "\n",
      "Review by shammahrashad\n",
      "\n",
      "Rating: 6.0\n",
      "\n",
      "Theres not much of a plot and the villains weren't that great. It was a good laugh though and amazing cameos and fight scenes.\n",
      "\n",
      "Review by r96sk\n",
      "\n",
      "Rating: 9.0\n",
      "\n",
      "Its story may not be the strongest, but the comedy makes 'Deadpool & Wolverine' an excellent watch!\n",
      "\n",
      "There are some top notch gags in there, particularly to do with the recent offscreen changes for Wade Wilson's alter ego. As you'd expect with Ryan Reynolds in this role, the jokes are plentiful and there is barely any time to react to one before another appears. That can sometimes not work as well as intended, e.g. 'Deadpool 2', but here the humour is executed perfectly.\n",
      "\n",
      "Reynolds himself is quality, it is a quintessential Ryan Reynolds as Deadpool performance. It's real neat to see Hugh Jackman back as Wolverine, he does play second fiddle to the other titular character but still more than holds his own, as you'd expect. Emma Corrin, meanwhile, enters with a great showing.\n",
      "\n",
      "As noted at the top, I do think the plot couldn't been superior - but not in a negative way. What is portrayed is still entertaining to watch, it's just not necessarily on the same level as the comedic elements. A fun watch, all the same. Do I like it more than the 2016 original? I think so, would only be minorly so though.\n",
      "\n",
      "Review by Chris Sawin\n",
      "\n",
      "Rating: 8.0\n",
      "\n",
      "Deadpool & Wolverine is the best there has been since Guardians of the Galaxy Vol. 3. It’s two hours of comic book-driven fan service and delivers entertaining surprises, nostalgic throwbacks, memorable action sequences, and worthwhile performances.\n",
      "\n",
      "Full review: https://bit.ly/WadeLogan\n",
      "\n",
      "Review by Brent Marchant\n",
      "\n",
      "Rating: 6.0\n",
      "\n",
      "In moviemaking, sadly, there can be a problem with going to the well too many times, and this latest installment in one of filmdom’s better cinematic franchises verges on proving just that. This offering’s predecessors (2016, 2018) significantly distinguished themselves from the kind of fare typically found in the superhero genre with their outrageously bawdy humor, hilarious sight gags and relentlessly maverick attitude. This time out, however, director Shawn Levy’s latest effort is a decidedly hit or miss affair, with an often-incoherent script that feels like it was cobbled together from a collection of leftover parts, some of which work and some of which don’t. I suppose that’s not entirely surprising from a screenplay that was penned by four different writers, making me wonder how much consensus was in place in compiling the finished product. Moreover, this film appears to be intended to fold the Deadpool franchise into the X-Men franchise, an intriguing idea that, regrettably, is handled rather clumsily. And, if all that weren’t bad enough, this release gives short shrift to the colorful cast of supporting players that made the Deadpool films so funny, original and enjoyable, relegating them to little more than cameos in favor of walk-ons by a host of other characters (some of them remarkably obscure, I might add) in an attempt to help cement the franchise cross-pollination going on here. It makes for awkward storytelling at times, especially for viewers who might not be familiar with these lesser-known figures, some of which are drawn from source material unrelated to its big screen offerings. To the picture’s credit, it features yet another stellar turn by Ryan Reynolds as the off-color protagonist, as well as its share of hilarious bits (without a doubt the franchise’s historically strongest suit), including a number of unabashed, razor-sharp asides referencing off-screen developments related to the studios that produced these films and the actors who have appeared in them. These strengths notwithstanding, however, this is a production that has sadly watered down the elements that best made this franchise work in favor of an overarching programming agenda that simply doesn’t serve this film or the series particularly well. The creators would have served themselves and viewers better by sticking with what works and the basics of good storytelling than trying to force an issue for the sake of future productions that may or may not work over the long term. This has been a noticeable downfall in the quality of many of the most recent releases, and I’d truly hate to see this franchise befall a similar fate.\n",
      "\n",
      "Review by Sean\n",
      "\n",
      "Rating: 10.0\n",
      "\n",
      "Such a fun watch, maybe one of the best experiences I've had in a theater. I couldn't have asked for a better ending to 24 year old franchise.\n",
      "\n",
      "Review by CinemaSerf\n",
      "\n",
      "Rating: 7.0\n",
      "\n",
      "Well the \"Deadpool\" concept is now well and truly immersed in the multi-verse and I really did fear for good old \"Dead\". More of the same? Well, no actually. Ryan Reynolds has reverted more to the occasionally quite vulgar humour of the first film (2016) and allowed this trequel to focus more on the personality of this irreverent, immortal, superhero as he tries to resurrect the recently departed \"Wolverine/Logan\" (Hugh Jackman) so he can save his timeline from erasure. To do that, and thwart the comically menacing \"Paradox\" (Matthew Macfadyen), he has to face down \"Cassandra Nova\" (Emma Corrin) - who happens to be the long estranged twin sister of \"Xavier\" who presides over the void. That's a \"Mad Max\" style desert style territory where all the undesirables have been put by \"Paradox\" and his organisation over the years. Initially, there's no love lost between our two heroes. The cocky man in red lycra does not impress his new, booze-soaked and guilt-ridden buddy, but quickly they manage to align their priorities and then - well yes, you can guess the rest. Indeed, there's nothing remotely unpredictable about any of this, but what it does do is shout loudly and proudly that it knows it. It's not trying to reinvent the wheel, it's succeeding in pointing out that all of these multi-verse films that simply adjust the space/time continuum to provide a new setting for the same old stories ad characters has to stop before we (the audience) bore further of their repetitive combat cycles and nondescript plot lines. Maybe Reynolds does over-egg the smuttiness a little but there are still plenty of wry comments about the industry, product placement and the plethora of films (and actors) that have preceded it delivering same old same old. It's not forgotten to entertain us too - there are loads of action scenes and there's an amiable chemistry between two actors who are clearly on the same, suitably sarcastic, page throughout a two hours that also features a some fun cameos from the likes of Messrs. Evans, Snipes, Cavill, Favreau and Tatum to keep it moving along with an effervescence of spirit. It's a big screen essential, there's a lot of effort gone into the production that won't work so well on the telly, and I enjoyed it.\n",
      "\n",
      "Review by TheSceneSnobs\n",
      "\n",
      "Rating: 8.0\n",
      "\n",
      "Deadpool and Wolverine is a movie that I truly believe has been needed for a while. After years of lackluster installments, this film is a breath of fresh air. Ryan Reynolds, Hugh Jackman, and director Shawn Levy approached this project with care and a deep understanding of what fans want. The film feels like it was crafted by fans for fans, particularly those who have been frustrated by the recent phases.\n",
      "\n",
      "Reynolds and Levy brought on a team of writers with a strong background in comedy and storytelling. This decision pays off, as the film’s humor and narrative are both sharp and engaging. For example, the meta vibe of Deadpool, familiar from the previous two films, is ramped up significantly. The movie spares no one, making jokes about everything from Hugh Jackman’s recent divorce to Ryan Reynolds' career. However, it’s the universe that receives the most pointed and critical jokes, which will resonate with long-time fans.\n",
      "\n",
      "The chemistry between Reynolds and Jackman is electric, bringing new life to both characters. Their dynamic is both hilarious and heartfelt, making for a compelling narrative. For instance, scenes where Deadpool and Wolverine banter while taking down enemies are filled with wit and energy, showcasing their unique bond. This camaraderie extends to the film’s supporting cast, with well-timed cameos and clever nods to previous movies.\n",
      "\n",
      "The film's self-awareness and willingness to poke fun at its own franchise are refreshing. This level of meta-commentary sets the film apart from typical superhero fare.\n",
      "\n",
      "Despite its comedic approach, the film doesn’t skimp on emotional depth. The storyline is carried by genuine heart, particularly in how it addresses themes of redemption and friendship. The climax is especially impactful, ranking among the greats in the franchise.\n",
      "\n",
      "This isn't just a good sequel; it's a game-changer. The film successfully integrates Deadpool into the broader universe while maintaining his unique tone and style. It sets the stage for future installments, promising exciting developments ahead. The way the film navigates these transitions feels seamless, ensuring that Deadpool’s irreverent humor doesn’t clash with the established tone.\n",
      "\n",
      "Overall, Deadpool and Wolverine is a standout entry, offering a perfect blend of humor, action, and heart. Ryan Reynolds and Hugh Jackman deliver top-notch performances, supported by a smart script and deft direction from Shawn Levy. This film not only redeems past missteps in the franchise but also paves the way for a promising future. It’s a must-watch for any fan, filled with laughter, thrills, and touching moments that elevate it above many of its predecessors.\n",
      "\n",
      "Review by GenerationofSwine\n",
      "\n",
      "Rating: 10.0\n",
      "\n",
      "It feels a bit rushed... but then it was rushed. It feels a bit neutered, but it's now Disney and they did muzzle it.\n",
      "\n",
      "The thing is though... it's not woke, which is why you have articles criticizing it for \"Not Being Gay Enough\" and in 2024, that very literally translates to: \"They focused on a story and characters rather than a political agenda and we're mad about it.\" Which, in turn, translates to \"Actually entertaining.\"\n",
      "\n",
      "It's amazing how articles complaining about a movie not being Gay enough can guarantee you that the movie is going to be good.\n",
      "\n",
      "Only.... it's meh. I mean, when you compare it to most of the movies this year it's pretty epic. When you compare it to most of the post 2016 movies this is one of the greatest things ever made... but when you compare it to the other Deadpool movies it's rushed.\n",
      "\n",
      "But... who cares, it literally doesn't have a point other than entertaining you, and that is really all that matters and all that I ask for.\n",
      "\n",
      "Is it a cash grab? Yes, and I will GLADLY give them my money for another movie that just wants to entertain. And if they make another movie that wants to entertain and not push an agenda, I will gladly give them MORE of my money... because at the end of the day, entertainment has been in a decade long drought brought to you by political lecturing and nerd domains have been intentionally attacking fans rather than making movies, like this, that make fans want to give them their money.\n",
      "\n",
      "So when a movie like this comes along, it is a wonderful thing.\n",
      "\n",
      "Review by JPV852\n",
      "\n",
      "Rating: 7.0\n",
      "\n",
      "Satisfying and 100% fan-service. Hugh Jackman still is awesome as Wolverine and gives it his all, along with Ryan Reynolds, both showing passion for the characters. That said, much like Deadpool 2, I'm not sure if I have much desire to revisit anytime soon. 3.5/5\n",
      "\n",
      "Review by Pringo\n",
      "\n",
      "Rating: 10.0\n",
      "\n",
      "I just watched Deadpool & Wolverine, and wow, it was an absolute blast! Ryan Reynolds and Hugh Jackman have incredible chemistry that makes the whole movie work. Deadpool's irreverent humor and Wolverine's gruff seriousness balance each other perfectly. The film is packed with hilarious jokes, epic action sequences, and so many Easter eggs that comic book fans will be thrilled.\n",
      "\n",
      "The opening sequence had me hooked right away, with a mix of intense fighting and Deadpool's signature humor. The constant fourth-wall breaks were spot-on and kept the laughs coming. It's a fantastic tribute to both characters and their histories, with plenty of nods to past films and comics.\n",
      "\n",
      "If you're a fan of either character, this movie is a must-see. It's not just a fun ride; it's a love letter to the fans. The pacing is perfect, and the two hours flew by. Whether you're a casual viewer or a hardcore fan, Deadpool & Wolverine delivers on all fronts. Don't miss it!\n",
      "\n",
      "Review by DonGable\n",
      "\n",
      "Rating: 4.0\n",
      "\n",
      "For devout fans only.\n",
      "\n",
      "Here is a test for franchise films: Remove the IP and characters to see if the story, character development, etc. stands on its own without using the IP as a crutch. If you remove the IP in this case, you have absolutely nothing.\n",
      "\n",
      "If you've seen a lot of previous films in this universe, you will be treated with an abundance of fan service. Admittedly, I have not watched a lot of these films. I have, however, watched the first two Deadpool entries. I enjoyed them at the time, especially the first one.\n",
      "\n",
      "In this third entry, you will find a lot of cameos which are absolutely pointless, except for people to chug memberberries, as they do absolutely nothing with these characters. It doesn't even properly show the backstory of Wolverine. This film is an almost non-stop barrage of bickering and snarky jokes, but it's never given any time at all to breathe. The few moments where it actually tries to convey emotion, it never truly lands, as all it wants to do is tell jokes. Did I laugh here and there? Sure. But I can count it on one hand.\n",
      "\n",
      "The villain and plot quite forgettable, and you never truly feel that something's at stake, as the threat is mainly conveyed as a progress bar on a screen...\n",
      "\n",
      "Even though some people might enjoy Deadpool taking potshots, Disney knows exactly what they're doing, and they will be laughing all the way to the bank. Corporate brand maintenance is all it is.\n",
      "\n",
      "Review by aGoryLouie\n",
      "\n",
      "Rating: 8.0\n",
      "\n",
      "the definition of fun\n",
      "\n",
      "Review by davidrobitaille\n",
      "\n",
      "Rating: 10.0\n",
      "\n",
      "I went to see Deadpool & Wolverine last evening and boy did it feel refreshing to see Ryan Reynolds making all of these funny jokes on screen as Deadpool. There were a lot of mentions of comic books, jokes about production companies & about production crew/cast (extras, etc). As someone who's passionate about this industry and is very active in the business, this film is a big success in my opinion. I loved that we got to see Jon Favreau as Happy Hogan in the intro of the film, just sad we didn't get a little Tony Stark (RDJ) appearance, but hey, it's not his movie after all (RIP Iron Man).\n",
      "\n",
      "Review by tmdb51616167\n",
      "\n",
      "Rating: 9.0\n",
      "\n",
      "Finally, the moment I have been eagerly waiting for has arrived - the new film featuring Deadpool and Wolverine! I am thrilled to share my thoughts on this without revealing any spoilers, so brace yourself for a fairly tame review to keep the surprise intact for everyone.\n",
      "\n",
      "They are back in its element with this movie, as it takes a playful jab at itself. Deadpool boldly declares that the Multiverse is a mess and proposes putting an end to it - a refreshing take on the superhero genre.\n",
      "\n",
      "The dance sequence is a hilarious throwback to the 90s, adding a touch of nostalgia and charm to the film. And yes, there is plenty of colorful language, including an abundance of the infamous F word - but then again, what else would you expect from Deadpool?\n",
      "\n",
      "Prepare to be amazed by some incredible cameos that will leave you jumping out of your seat with excitement, especially if you have a soft spot for certain characters from the past. This movie is an absolute thrill ride that pays homage to the Fox universe and its beloved characters.\n",
      "\n",
      "Without giving too much away, there is a surprising appearance by a fan-favorite character who never made it to the superhero league, and the moment is truly jaw-dropping. The storyline may seem chaotic, but that's all part of the Deadpool charm.\n",
      "\n",
      "While the villain could have been utilized more effectively given their power, the relationship between Deadpool and Wolverine is beautifully portrayed. The film does a commendable job of explaining the backstory and the humor is on point, with Deadpool's witty jabs and references adding to the entertainment.\n",
      "\n",
      "If you're a fan of Deadpool and his legacy, this movie is a must-watch that will blow your mind. Just be warned, there is a fair amount of profanity, so consider this if you're planning to bring along younger viewers.\n",
      "\n",
      "Overall, this movie was a blast and one of the most enjoyable experiences in recent memory. From the creative storytelling to the hilarious antics, it's a wild ride that you won't want to miss. And don't forget to stick around for the mid-credits and end-credits scenes for an extra dose of fun and closure to the film. Enjoy the laugh-filled ride!\n",
      "\n",
      "Review by albuainain\n",
      "\n",
      "Rating: 7.0\n",
      "\n",
      "Not funny as Deadpool 1 & 2, I was expecting something smashing due to the reviews I have read and people hype in social media. The fight scenes saved the movie.\n",
      "\n",
      "Review by immortal101\n",
      "\n",
      "Rating: None\n",
      "\n",
      "I personally enjoyed it. It was a fresh splash of the recent flops of movies. The plot was a little disorganized, but overall great film. The nostalgia and love letter to Foxfilms was a nice touch.\n",
      "\n",
      "Indiana Jones and the Dial of Destiny\n",
      "\n",
      "Overview\n",
      "\n",
      "Finding himself in a new era, approaching retirement, Indy wrestles with fitting into a world that seems to have outgrown him. But as the tentacles of an all-too-familiar evil return in the form of an old rival, Indy must don his hat and pick up his whip once more to make sure an ancient and powerful artifact doesn't fall into the wrong hands.\n",
      "\n",
      "Details\n",
      "\n",
      "Release Date: 2023-06-28\n",
      "\n",
      "Genres: Adventure, Action, Fantasy\n",
      "\n",
      "Popularity: 740.388\n",
      "\n",
      "Vote Average: 6.5\n",
      "\n",
      "Keywords: feminism, sequel, flashback, prologue, knife fight, archaeologist, adventurer, 1960s, relic hunter\n",
      "\n",
      "Knights of the Zodiac\n",
      "\n",
      "Overview\n",
      "\n",
      "When a headstrong street orphan, Seiya, in search of his abducted sister unwittingly taps into hidden powers, he discovers he might be the only person alive who can protect a reincarnated goddess, sent to watch over humanity. Can he let his past go and embrace his destiny to become a Knight of the Zodiac?\n",
      "\n",
      "Details\n",
      "\n",
      "Release Date: 2023-04-27\n",
      "\n",
      "Genres: Fantasy, Action, Adventure\n",
      "\n",
      "Popularity: 3355.755\n",
      "\n",
      "Vote Average: 6.5\n",
      "\n",
      "Keywords: superhero, based on manga, live action anime\n",
      "\n",
      "Fast X\n",
      "\n",
      "Overview\n",
      "\n",
      "Over many missions and against impossible odds, Dom Toretto and his family have outsmarted, out-nerved and outdriven every foe in their path. Now, they confront the most lethal opponent they've ever faced: A terrifying threat emerging from the shadows of the past who's fueled by blood revenge, and who is determined to shatter this family and destroy everything—and everyone—that Dom loves, forever.\n",
      "\n",
      "Details\n",
      "\n",
      "Release Date: 2023-05-17\n",
      "\n",
      "Genres: Action, Crime, Thriller\n",
      "\n",
      "Popularity: 3283.417\n",
      "\n",
      "Vote Average: 7.3\n",
      "\n",
      "Keywords: sequel, revenge, racing, family, cars\n",
      "\n",
      "Ambush\n",
      "\n",
      "Overview\n",
      "\n",
      "When a small outpost is ambushed, a US Army squad must take the battle below ground on a high-stakes mission in a new type of warfare the likes of which they have never seen.\n",
      "\n",
      "Details\n",
      "\n",
      "Release Date: 2023-02-24\n",
      "\n",
      "Genres: Action, War, Thriller\n",
      "\n",
      "Popularity: 386.559\n",
      "\n",
      "Vote Average: 5.8\n",
      "\n",
      "Keywords:\n",
      "\n",
      "Los bastardos\n",
      "\n",
      "Overview\n",
      "\n",
      "Details\n",
      "\n",
      "Release Date: 2023-03-30\n",
      "\n",
      "Genres: Action, Thriller, Crime, Drama\n",
      "\n",
      "Popularity: 431.075\n",
      "\n",
      "Vote Average: 6.1\n",
      "\n",
      "Keywords:\n",
      "\n",
      "Sisu\n",
      "\n",
      "Overview\n",
      "\n",
      "Deep in the wilderness of Lapland, Aatami Korpi is searching for gold but after he stumbles upon Nazi patrol, a breathtaking and gold-hungry chase through the destroyed and mined Lapland wilderness begins.\n",
      "\n",
      "Details\n",
      "\n",
      "Release Date: 2023-01-27\n",
      "\n",
      "Genres: Action, War\n",
      "\n",
      "Popularity: 520.792\n",
      "\n",
      "Vote Average: 7.5\n",
      "\n",
      "Keywords: world war ii, nordic mythology, lapland, finnish mythology\n",
      "\n",
      "Transformers: Rise of the Beasts\n",
      "\n",
      "Overview\n",
      "\n",
      "When a new threat capable of destroying the entire planet emerges, Optimus Prime and the Autobots must team up with a powerful faction known as the Maximals. With the fate of humanity hanging in the balance, humans Noah and Elena will do whatever it takes to help the Transformers as they engage in the ultimate battle to save Earth.\n",
      "\n",
      "Details\n",
      "\n",
      "Release Date: 2023-06-06\n",
      "\n",
      "Genres: Action, Adventure, Science Fiction\n",
      "\n",
      "Popularity: 1301.343\n",
      "\n",
      "Vote Average: 7.3\n",
      "\n",
      "Keywords: peru, alien, end of the world, based on cartoon, based on toy, robot, duringcreditsstinger, 1990s, brother brother relationship\n",
      "\n",
      "Confidential Informant\n",
      "\n",
      "Overview\n",
      "\n",
      "During a crack epidemic two narcotics agents hunting for a cop killer. Hoping for leads, Moran and Thorton pay off a junkie informant. To provide for his wife and son, Moran involves the stool pigeon in a deadly scheme. This causes the partners to come under the scrutiny of a suspicious internal affairs agent.\n",
      "\n",
      "Details\n",
      "\n",
      "Release Date: 2023-06-27\n",
      "\n",
      "Genres: Mystery, Thriller, Action\n",
      "\n",
      "Popularity: 408.062\n",
      "\n",
      "Vote Average: 6.4\n",
      "\n",
      "Keywords: gritty, crime\n",
      "\n",
      "John Wick: Chapter 4\n",
      "\n",
      "Overview\n",
      "\n",
      "With the price on his head ever increasing, John Wick uncovers a path to defeating The High Table. But before he can earn his freedom, Wick must face off against a new enemy with powerful alliances across the globe and forces that turn old friends into foes.\n",
      "\n",
      "Details\n",
      "\n",
      "Release Date: 2023-03-22\n",
      "\n",
      "Genres: Action, Thriller, Crime\n",
      "\n",
      "Popularity: 1437.077\n",
      "\n",
      "Vote Average: 7.9\n",
      "\n",
      "Keywords: new york city, martial arts, hitman, sequel, organized crime, osaka, japan, aftercreditsstinger, hunted, professional assassin, neo-noir, berlin\n",
      "\n",
      "The Wrath of Becky\n",
      "\n",
      "Overview\n",
      "\n",
      "Two years after she escaped a violent attack on her family, 16-year-old Becky attempts to rebuild her life in the care of an older woman -- a kindred spirit named Elena. However, when a violent group known as the Noble Men break into their home, attack them and take their beloved dog, Becky must return to her old ways to protect herself and her loved ones.\n",
      "\n",
      "Details\n",
      "\n",
      "Release Date: 2023-05-26\n",
      "\n",
      "Genres: Action, Horror, Thriller\n",
      "\n",
      "Popularity: 759.396\n",
      "\n",
      "Vote Average: 6.8\n",
      "\n",
      "Keywords: machete, sequel, revenge, murder, gore, diner, dog, blood, terrorists\n",
      "\n",
      "Black Clover: Sword of the Wizard King\n",
      "\n",
      "Overview\n",
      "\n",
      "As a lionhearted boy who can’t wield magic strives for the title of Wizard King, four banished Wizard Kings of yore return to crush the Clover Kingdom.\n",
      "\n",
      "Details\n",
      "\n",
      "Release Date: 2023-06-16\n",
      "\n",
      "Genres: Animation, Fantasy, Action, Adventure\n",
      "\n",
      "Popularity: 336.12\n",
      "\n",
      "Vote Average: 8.4\n",
      "\n",
      "Keywords: magic, demon, wizard, shounen, anime\n",
      "Human: Tell me about the latest Deadpool movie. When was it released? What is it about?\u001b[0m\n",
      "\n",
      "\u001b[1m> Finished chain.\u001b[0m\n",
      "\n",
      "\u001b[1m> Finished chain.\u001b[0m\n",
      "Gesamtanzahl verwendeter Tokens: 5972\n"
     ]
    }
   ],
   "source": [
    "# Unterstützung für Callbacks\n",
    "from langchain.callbacks import get_openai_callback\n",
    "\n",
    "# Vorbereiten der Chain und der Abfrage\n",
    "chain = load_qa_chain(llm, verbose=True)\n",
    "query = \"Tell me about the latest Deadpool movie. When was it released? What is it about?\"\n",
    "\n",
    "# Ausführen der Chain unter Verwendung des Callbacks, um die Anzahl der verwendeten Tokens zu erfassen\n",
    "with get_openai_callback() as callback:\n",
    "    chain.invoke({'input_documents': documents, 'question': query})\n",
    "    total_tokens = callback.total_tokens\n",
    "\n",
    "print(f\"Gesamtanzahl verwendeter Tokens: {total_tokens}\")"
   ]
  },
  {
   "attachments": {},
   "cell_type": "markdown",
   "metadata": {},
   "source": [
    "In der Ausgabe des letzten Codeabschnitts sollten Sie viele Informationen sehen. Am Ende sollte die Anzahl der verwendeten Tokens angezeigt werden. Sie werden möglicherweise überrascht sein, dass die Abfrage je nach verwendetem Modell zwischen 5000 und 6000 Tokens in Anspruch nehmen kann. Das ist eine Menge!\n",
    "\n",
    "Mit der Option `verbose=True` wird in der restlichen Ausgabe auch das Prompt angezeigt, das für die Abfrage zusammengestellt wurde. Wenn Sie durch die Ausgabe scrollen, werden Sie feststellen, dass das Prompt **alle** Informationen aus unseren Dokumenten enthält – daher werden so viele Tokens verbraucht.\n",
    "\n",
    "Wie wir bereits besprochen haben, haben KI-Modelle eine maximale Anzahl von Tokens, die verwendet werden können, und ein Preismodell, das auf der Anzahl der verbrauchten Tokens basiert. In diesem Beispiel sind die Dokumente relativ klein und es gibt nur 20 davon, aber wenn wir mit größeren Dokumenten und mehr davon arbeiten wollten, würde diese Methode schnell kostspielig werden und schließlich die Token-Grenze erreichen."
   ]
  },
  {
   "attachments": {},
   "cell_type": "markdown",
   "metadata": {},
   "source": [
    "## Embeddings\n",
    "\n",
    "Die Lösung für den Umgang mit großen Datenmengen aus externen Quellen besteht in der Verwendung von *Embeddings*. OpenAI stellt Embedding-Modelle zur Verfügung, mit denen menschenlesbare Informationen nach Bedeutung und Intention analysiert werden können. Die Ausgabe eines Embedding-Modells sind numerische Daten, sogenannte *Vektoren*. Diese ermöglichen es Computern, ähnliche Informationen zu gruppieren. Die Vektoren werden dann in einem *Vektorstore* gespeichert. Wenn Sie eine Frage stellen möchten, wird der Abfragetext erneut mithilfe eines Embedding-Modells in Vektoren umgewandelt. Diese Vektor-Daten, die Ihre Abfrage repräsentieren, können dann in der Datenbank durchsucht werden. Die gefundenen ähnlichen Vektoren sind vermutlich eine gute Antwort auf Ihre Frage.\n",
    "\n",
    "Um zu verhindern, dass ein Prompt mit einer großen Anzahl an Tokens überlastet wird, senden wir nicht mehr alle unsere Dokumente an die KI, sondern führen zuerst eine Vektorsuche durch, um eine relevante Teilmenge der Dokumente zu finden. Nur diese relevante Teilmenge wird dann in das Prompt eingebunden."
   ]
  },
  {
   "attachments": {},
   "cell_type": "markdown",
   "metadata": {},
   "source": [
    "Beginnen wir mit der Initialisierung einer Instanz eines Embedding-Modells. Sie werden feststellen, dass dies ähnlich ist, wie wenn wir eine unserer Modelldepoyments für Anfragen initialisieren, nur dass wir in diesem Fall ein Embedding-Modell angeben. Typischerweise wurde hierfür `text-embedding-ada-002` verwendet, aber inzwischen gibt es neuere Alternativen."
   ]
  },
  {
   "cell_type": "code",
   "execution_count": 8,
   "metadata": {},
   "outputs": [],
   "source": [
    "from langchain_openai import AzureOpenAIEmbeddings\n",
    "\n",
    "embeddings_model = AzureOpenAIEmbeddings(    \n",
    "    azure_deployment = os.getenv(\"AZURE_OPENAI_EMBEDDING_DEPLOYMENT_NAME\"),\n",
    "    openai_api_version = os.getenv(\"OPENAI_EMBEDDING_API_VERSION\"),\n",
    "    model= os.getenv(\"AZURE_OPENAI_EMBEDDING_MODEL\")\n",
    ")"
   ]
  },
  {
   "attachments": {},
   "cell_type": "markdown",
   "metadata": {},
   "source": [
    "Jetzt, wo wir ein Modell zur Erstellung von Embeddings initialisiert haben, können wir beginnen, unsere Dokumente einzubetten.\n",
    "\n",
    "Wie im vorherigen Beispiel verwenden wir den in Langchain integrierten Loader, um die Dokumente aus einem Verzeichnis zu laden."
   ]
  },
  {
   "cell_type": "code",
   "execution_count": 9,
   "metadata": {},
   "outputs": [
    {
     "name": "stderr",
     "output_type": "stream",
     "text": [
      "100%|██████████| 17/17 [00:00<00:00, 124.78it/s]\n"
     ]
    }
   ],
   "source": [
    "documents = DirectoryLoader(path=data_dir, glob=\"*.md\", show_progress=True, loader_cls=UnstructuredMarkdownLoader).load()"
   ]
  },
  {
   "attachments": {},
   "cell_type": "markdown",
   "metadata": {},
   "source": [
    "Der nächste Schritt ist die Verwendung eines *Splitters*. Ein Splitter ermöglicht es uns, längere Dokumente in kleinere Teile zu zerlegen, damit wir nicht riskieren, das Token-Limit zu überschreiten, wenn wir unsere Daten an das Embedding-Modell senden."
   ]
  },
  {
   "cell_type": "code",
   "execution_count": 10,
   "metadata": {},
   "outputs": [
    {
     "name": "stderr",
     "output_type": "stream",
     "text": [
      "Created a chunk of size 2658, which is longer than the specified 1000\n",
      "Created a chunk of size 2255, which is longer than the specified 1000\n"
     ]
    }
   ],
   "source": [
    "from langchain.text_splitter import CharacterTextSplitter\n",
    "text_splitter = CharacterTextSplitter(chunk_size=1000, chunk_overlap=0)\n",
    "document_chunks = text_splitter.split_documents(documents)"
   ]
  },
  {
   "attachments": {},
   "cell_type": "markdown",
   "metadata": {},
   "source": [
    "Im nächsten Schritt werden die aufgeteilten Dokumente in Vektoren konvertiert, indem wir die Daten durch ein Embedding-Modell schicken. Die resultierenden Vektoren werden in einer Vektor-Datenbank gespeichert. In diesem Beispiel verwenden wir die Datenbank **Qdrant** (ausgesprochen „Quadrant“). Wir initialisieren sie mit der Option `location=\":memory:\"`, damit die Datenbank im Speicher und nicht auf der Festplatte gespeichert wird."
   ]
  },
  {
   "cell_type": "code",
   "execution_count": 11,
   "metadata": {},
   "outputs": [],
   "source": [
    "from langchain.vectorstores import Qdrant\n",
    "\n",
    "qdrant = Qdrant.from_documents(\n",
    "    document_chunks,\n",
    "    embeddings_model,\n",
    "    location=\":memory:\",\n",
    "    collection_name=\"movies\",\n",
    ")"
   ]
  },
  {
   "attachments": {},
   "cell_type": "markdown",
   "metadata": {},
   "source": [
    "Der obige Codeabschnitt kümmert sich um die Initialisierung der Qdrant-Datenbank, das Durchführen der Dokumente durch das Embedding-Modell und das Speichern der resultierenden Vektoren in der Datenbank.\n",
    "\n",
    "Als Nächstes definieren wir einen *Retriever*. In Langchain ist ein Retriever ein Interface, das Suchergebnisse aus dem Vektorspeicher zurückgibt. Wir erstellen also einen Retriever für unsere Qdrant-Datenbank."
   ]
  },
  {
   "cell_type": "code",
   "execution_count": 12,
   "metadata": {},
   "outputs": [],
   "source": [
    "retriever = qdrant.as_retriever()"
   ]
  },
  {
   "attachments": {},
   "cell_type": "markdown",
   "metadata": {},
   "source": [
    "Als Nächstes definieren wir eine `RetrievalQA`-Chain. Diese kümmert sich um den Prozess, eine Frage zu beantworten, indem zuerst in der Vektor-Datenbank gesucht und anschließend die Ergebnisse an unser KI-Modell übergeben werden."
   ]
  },
  {
   "cell_type": "code",
   "execution_count": 13,
   "metadata": {},
   "outputs": [],
   "source": [
    "from langchain.chains import RetrievalQA\n",
    "qa = RetrievalQA.from_chain_type(llm=llm, chain_type=\"stuff\", retriever=retriever)"
   ]
  },
  {
   "attachments": {},
   "cell_type": "markdown",
   "metadata": {},
   "source": [
    "Jetzt führen wir unsere Abfrage erneut aus – mit einer kleinen Änderung.\n",
    "\n",
    "Möglicherweise denken Sie: „Es ist nicht überraschend, dass die KI jetzt über den neuesten Deadpool-Film Bescheid weiß, schließlich haben wir sie darüber informiert!“ Also versuchen wir zu zeigen, dass die KI tatsächlich ein wenig nachdenken und Schlüsse ziehen kann.\n",
    "\n",
    "Falls Sie kein Fan dieser Filme sind: Deadpool entstammt den Marvel-Comics. Alle Filme, die aus Marvel-Comics hervorgehen, werden üblicherweise als Teil des Marvel Cinematic Universe betrachtet (oft MCU genannt). Wir haben in unseren Daten weder Marvel noch MCU erwähnt. Wenn wir die Frage also ein wenig anpassen und nach dem MCU statt nach Deadpool fragen, sollte die KI durch Nachdenken erkennen, was gemeint ist."
   ]
  },
  {
   "cell_type": "code",
   "execution_count": 14,
   "metadata": {},
   "outputs": [
    {
     "name": "stdout",
     "output_type": "stream",
     "text": [
      "The latest Marvel Cinematic Universe-related film is **\"Deadpool & Wolverine\"**, which was released on **July 24, 2024**. It's not directly part of the main MCU timeline but ties into the shared multiverse concept, blending the humor and edginess of Deadpool with the gritty nature of Wolverine.\n",
      "\n",
      "### Plot:\n",
      "The film follows a seemingly listless **Wade Wilson (Deadpool)** living a mundane civilian life, having left behind his days as a morally flexible mercenary. However, when his world faces an existential threat, he reluctantly suits up again and teams up with an equally reluctant **Logan (Wolverine)**. The story is packed with action, comedy, meta-humor, fourth-wall-breaking moments, and nostalgic references to past Fox/Marvel films, delivering a funny and chaotic ride.\n",
      "\n",
      "It plays with familiar superhero tropes while also addressing the disorganized state of the multiverse, something Deadpool humorously critiques. Fans also loved the array of cameos and fight scenes, highlighting its connection to legacy characters.\n",
      "\n",
      "If you're a fan of witty humor, ridiculous antics, and superhero team-ups, this self-aware film is a must-watch!\n"
     ]
    }
   ],
   "source": [
    "query = \"Tell me about the latest MCU movie. When was it released? What is it about?\"\n",
    "result = qa.invoke(query)\n",
    "print(result['result'])"
   ]
  },
  {
   "attachments": {},
   "cell_type": "markdown",
   "metadata": {},
   "source": [
    "Wenn alles geklappt hat, sollte die KI geantwortet haben, dass der neueste MCU-Film \"Deadpool & Wolverine\" ist, der im Juli 2024 veröffentlicht wurde.\n",
    "\n",
    "Wir bekommen also die erwartete Antwort, doch schauen wir uns nun den Hauptgrund an, weshalb wir diesen ganzen Aufwand betreiben. Wurde die Anzahl der verwendeten Tokens verringert? Nutzen wir wieder unsere Callback-Technik, um das herauszufinden."
   ]
  },
  {
   "cell_type": "code",
   "execution_count": 15,
   "metadata": {},
   "outputs": [
    {
     "name": "stdout",
     "output_type": "stream",
     "text": [
      "Gesamtanzahl verwendeter Tokens: 1037\n"
     ]
    }
   ],
   "source": [
    "from langchain.callbacks import get_openai_callback\n",
    "\n",
    "with get_openai_callback() as callback:\n",
    "    qa.invoke(query)\n",
    "    total_tokens = callback.total_tokens\n",
    "\n",
    "print(f\"Gesamtanzahl verwendeter Tokens: {total_tokens}\")"
   ]
  },
  {
   "attachments": {},
   "cell_type": "markdown",
   "metadata": {},
   "source": [
    "Die genaue Anzahl der Tokens kann variieren, aber es sollte offensichtlich sein, dass bei dieser Abfrage nun deutlich weniger Tokens verbraucht werden, oft um rund 2.000 weniger.\n",
    "\n",
    "KI-Orchestrierungsbibliotheken wie Langchain und Semantic Kernel können den Prozess des Einbettens, Vektorisierens und Suchens stark vereinfachen. Im vorherigen Abschnitt haben wir den Prozess des Dokument-Splittings, Einbettens, Vektorisierens, Speicherns von Vektoren in einer Datenbank und Erstellen eines Retrievers Schritt für Schritt durchlaufen. Im nächsten Abschnitt verwenden wir erneut den `DirectoryLoader` von Langchain, um unsere Markdown-Dokumente zu laden und zu verarbeiten. Diesmal nutzen wir jedoch einen `VectorstoreIndexCreator`. Sie werden sehen, dass nur wenige Parameter nötig sind – das zu verwendende Embedding-Modell und die Quelldaten (`loader`). Hinter den Kulissen führt der `VectorstoreIndexCreator` allerdings sämtliche Schritte aus, die wir manuell in den vorherigen Abschnitten ausgeführt haben."
   ]
  },
  {
   "cell_type": "code",
   "execution_count": 16,
   "metadata": {},
   "outputs": [
    {
     "name": "stderr",
     "output_type": "stream",
     "text": [
      "/home/yimiwang/miniconda3/envs/ibit-hackathon/lib/python3.13/site-packages/langchain/indexes/vectorstore.py:171: UserWarning: Using InMemoryVectorStore as the default vectorstore.This memory store won't persist data. You should explicitlyspecify a vectorstore when using VectorstoreIndexCreator\n",
      "  warnings.warn(\n",
      "100%|██████████| 17/17 [00:00<00:00, 143.75it/s]\n"
     ]
    }
   ],
   "source": [
    "from langchain.indexes import VectorstoreIndexCreator\n",
    "\n",
    "loader = DirectoryLoader(path=data_dir, glob=\"*.md\", show_progress=True, loader_cls=UnstructuredMarkdownLoader)\n",
    "\n",
    "index = VectorstoreIndexCreator(\n",
    "    embedding=embeddings_model\n",
    "    ).from_loaders([loader])"
   ]
  },
  {
   "attachments": {},
   "cell_type": "markdown",
   "metadata": {},
   "source": [
    "Um nun eine Abfrage gegen unsere Daten zu starten, müssen wir nur das Prompt angeben und dann den oben erstellten Index aufrufen, dem wir das Modell (`llm`) und die Frage übergeben."
   ]
  },
  {
   "cell_type": "code",
   "execution_count": 17,
   "metadata": {},
   "outputs": [
    {
     "data": {
      "text/plain": [
       "'The latest Deadpool movie, titled *Deadpool & Wolverine*, was released on **July 24, 2024**. It combines the irreverent humor of Deadpool with Wolverine\\'s gritty persona, creating a unique superhero team-up.\\n\\nThe story follows Wade Wilson (Deadpool), who has been living a quiet civilian life after giving up his morally flexible mercenary ways. However, when his homeworld faces an existential threat, he reluctantly takes up the mantle of Deadpool once again. Adding to the mix is Wolverine, who is also reluctant to join forces. Together, they must confront the hilariously menacing villain \"Paradox\" (played by Matthew Macfadyen) and the powerful \"Cassandra Nova\" (Emma Corrin), Xavier\\'s long-estranged twin sister, to save their timeline from erasure.\\n\\nWhile the plot has been criticized for being a bit disorganized and lacking strong villains, the film is praised for its laugh-out-loud humor, creative storytelling, amazing cameos, and fight scenes. It also features plenty of references to comic books and meta jokes, making it a delight for fans of the franchise.'"
      ]
     },
     "execution_count": 17,
     "metadata": {},
     "output_type": "execute_result"
    }
   ],
   "source": [
    "query = \"Tell me about the latest Deadpool movie. When was it released? What is it about?\"\n",
    "index.query(llm=llm, question=query)"
   ]
  },
  {
   "attachments": {},
   "cell_type": "markdown",
   "metadata": {},
   "source": [
    "Sie sehen, dies ist eine sehr einfache Möglichkeit, Embeddings und Vektoren in einer KI-Anwendung einzusetzen und eignet sich hervorragend, um schnell zu starten.\n",
    "\n",
    "Wir können erneut die Callback-Methode nutzen, um sicherzustellen, dass weiterhin eine geringere Anzahl an Tokens verbraucht wird."
   ]
  },
  {
   "cell_type": "code",
   "execution_count": 18,
   "metadata": {},
   "outputs": [
    {
     "name": "stdout",
     "output_type": "stream",
     "text": [
      "Gesamtanzahl verwendeter Tokens: 1069\n"
     ]
    }
   ],
   "source": [
    "# Ausführen der Chain, um die Anzahl der verwendeten Tokens zu erfassen\n",
    "with get_openai_callback() as callback:\n",
    "    index.query(llm=llm, question=query)\n",
    "    total_tokens = callback.total_tokens\n",
    "\n",
    "print(f\"Gesamtanzahl verwendeter Tokens: {total_tokens}\")"
   ]
  }
 ],
 "metadata": {
  "kernelspec": {
   "display_name": "ibit-hackathon",
   "language": "python",
   "name": "python3"
  },
  "language_info": {
   "codemirror_mode": {
    "name": "ipython",
    "version": 3
   },
   "file_extension": ".py",
   "mimetype": "text/x-python",
   "name": "python",
   "nbconvert_exporter": "python",
   "pygments_lexer": "ipython3",
   "version": "3.13.2"
  },
  "orig_nbformat": 4
 },
 "nbformat": 4,
 "nbformat_minor": 2
}
