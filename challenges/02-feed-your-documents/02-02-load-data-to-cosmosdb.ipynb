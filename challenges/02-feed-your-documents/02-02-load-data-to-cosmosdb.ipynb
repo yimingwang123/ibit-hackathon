{
  "cells": [
    {
      "cell_type": "markdown",
      "metadata": {},
      "source": [
        "# 02-02 - Azure Cosmos DB in deiner Resource Group erstellen\n",
        "\n",
        "## Überblick\n",
        "In diesem Notebook erfährst du, wie du **Azure Cosmos DB** für NoSQL erstellst und konfigurierst – ideal für Test- oder Hackathon-Umgebungen. Wir gehen folgende Punkte durch:\n",
        "1. **Erstellung einer neuen Cosmos DB-Instanz (NoSQL)** über das **Azure Portal**.\n",
        "2. **Optionale CLI-Schritte** für Netzwerkzugang und lokale Authentifizierung (Primär-/Sekundärschlüssel).\n",
        "3. **Datenbank und Container** im Data Explorer anlegen.\n",
        "4. **.env-Konfiguration** mit Cosmos DB URL, Key, etc.\n",
        "5. **Beispiel:** Daten (Filmliste) aus CSV laden, Embeddings generieren und anschließend in Cosmos DB hochladen.\n"
      ]
    },
    {
      "cell_type": "markdown",
      "metadata": {},
      "source": [
        "## 1) Neue Azure Cosmos DB-Instanz erstellen\n",
        "\n",
        "In dieser Anleitung zeigen wir dir Schritt für Schritt, wie du eine neue Azure Cosmos DB-Instanz in deiner Resource Group erstellst – unter Nutzung der **Azure Cosmos DB für NoSQL**.\n",
        "\n",
        "### Eine neue Azure Cosmos DB-Instanz erstellen\n",
        "Öffne das **Azure Portal** und suche im **Marketplace** nach **Cosmos DB**. Wähle den entsprechenden Eintrag aus.\n",
        "\n",
        "![CosmosDB suchen](images/find-cosmosdb.png)\n",
        "\n",
        "### NoSQL als API-Typ wählen\n",
        "Im Schritt „Empfohlene APIs“ wähle **Azure Cosmos DB für NoSQL**.\n",
        "\n",
        "#### ❓ Was ist NoSQL?\n",
        "NoSQL-Datenbanken sind flexible, schemafreie Datenbanken, die besonders gut für skalierbare Anwendungen geeignet sind. Im Gegensatz zu relationalen SQL-Datenbanken benötigen NoSQL-DBs keine festen Tabellenstrukturen und sind so optimal für dynamische Anwendungen.\n",
        "\n",
        "### Einrichten der Instanz\n",
        "- **Account-Name**: Wähle einen **eindeutigen Namen** für deine Cosmos DB Instanz.\n",
        "- **Region**: Wähle z. B. **Switzerland North** als Standort, falls gewünscht.\n",
        "\n",
        "![CosmosDB erstellen](images/create-cosmosdb.png)\n",
        "\n",
        "### Availability Zones deaktivieren\n",
        "Setze **Availability Zones** auf **Deaktiviert**, da wir hier nur **Nicht-Produktionsdaten** speichern. Für produktive Umgebungen sollte man **Aktiviert** wählen.\n",
        "\n",
        "### Kapazitätsmodus: Serverless\n",
        "Wähle **Serverless** als Kapazitätsmodus.\n",
        "\n",
        "#### ❓ Warum nicht „Provisioned Throughput“?\n",
        "- Für Test- oder Hackathon-Umgebungen sind die Nutzungszeiten unregelmäßig.\n",
        "- „Serverless“ kostet nur bei tatsächlicher Nutzung, anstatt kontinuierliche Kapazität zu reservieren.\n",
        "\n",
        "### Netzwerkkonfiguration\n",
        "Im **Netzwerk-Tab**: \"Datenverkehr von allen Netzwerken zulassen\", wenn jeder Teilnehmer Zugriff haben soll.\n",
        "\n",
        "### Service erstellen\n",
        "Lasse die restlichen Einstellungen unverändert und erstelle die Cosmos DB Instanz. Nach ein paar Minuten ist sie einsatzbereit!\n"
      ]
    },
    {
      "cell_type": "markdown",
      "metadata": {},
      "source": [
        "## 2) Anmeldung bei Azure in der Konsole (optional)\n",
        "\n",
        "Um sich bei Azure über die Konsole anzumelden, verwende:\n",
        "```sh\n",
        "az login\n",
        "```\n",
        "Falls du mehrere Mandanten (Tenants) hast und dich gezielt bei einem bestimmten anmelden möchtest:\n",
        "```sh\n",
        "az login --tenant <TENANT_ID>\n",
        "```\n",
        "\n",
        "Beispiel:\n",
        "```sh\n",
        "az login --tenant 119cbc86-5275-4878-8321-4d8da34a0dc2\n",
        "```\n",
        "Dadurch wird sichergestellt, dass du dich im gewünschten Azure Active Directory (AAD) befindest."
      ]
    },
    {
      "cell_type": "markdown",
      "metadata": {},
      "source": [
        "## 3) Öffentlichen Netzwerkzugang aktivieren & Zugriff mit Primär-/Sekundärschlüssel ermöglichen\n",
        "\n",
        "Wir setzen voraus, dass deine Cosmos DB schon existiert, jedoch standardmäßig kein öffentlicher Zugriff möglich ist.\n",
        "\n",
        "```sh\n",
        "az cosmosdb update \\\n",
        "    --name \"<COSMOSDB_NAME>\" \\\n",
        "    --resource-group \"<RESOURCE_GROUP>\" \\\n",
        "    --public-network-access ENABLED\n",
        "```\n",
        "\n",
        "Zusätzlich prüfst du, ob `disableLocalAuth` auf `false` steht:\n",
        "```sh\n",
        "az cosmosdb show \\\n",
        "    --name \"<COSMOSDB_NAME>\" \\\n",
        "    --resource-group \"<RESOURCE_GROUP>\" \\\n",
        "    --query \"disableLocalAuth\"\n",
        "```\n",
        "Sobald es `false` ist, kannst du den Primär-/Sekundärschlüssel (Keys) verwenden, um Zugriff zu erhalten."
      ]
    },
    {
      "cell_type": "markdown",
      "metadata": {},
      "source": [
        "## 4) Neue Datenbank und Container erstellen\n",
        "\n",
        "### Data Explorer (Portal)\n",
        "1. Navigiere im Azure-Portal zur CosmosDB-Instanz.\n",
        "2. Klicke auf **Data Explorer**.\n",
        "3. **Neuer Container**\n",
        "   - **Datenbank-ID**: Name der neuen DB\n",
        "   - **Container-ID**: Name des Containers\n",
        "   - **Partition Key**: z. B. `/id`\n",
        "   - **Unique Key**: optional, z. B. `/id`\n",
        "\n",
        "![Neue Datenbank und Container erstellen](images/new-container.png)\n",
        "\n",
        "### Verbindung per .env\n",
        "1. Öffne die Cosmos DB-Übersicht → **Keys**-Tab\n",
        "   ![Primärschlüssel](images/key-and-url.png)\n",
        "2. Notiere den **Primärschlüssel** und die **URI**.\n",
        "3. Setze sie in deiner `.env`:\n",
        "   ```bash\n",
        "   COSMOSDB_URL=\"<URI_AUS_AZURE_PORTAL>\"\n",
        "   COSMOSDB_KEY=\"<PRIMÄRSCHLÜSSEL_AUS_AZURE_PORTAL>\"\n",
        "   COSMOSDB_NAME=\"<NAME_DER_ERSTELLTEN_DB>\"\n",
        "   COSMOSDB_CONTAINER_NAME=\"<NAME_DES_CONTAINERS>\"\n",
        "   ```"
      ]
    },
    {
      "cell_type": "markdown",
      "metadata": {},
      "source": [
        "## 5) Beispiel: Cosmos DB befüllen\n",
        "\n",
        "Wir verbinden uns programmgesteuert mit unserer Cosmos DB und erstellen – falls nicht vorhanden – die Datenbank und den Container. Anschließend laden wir Daten (z. B. Filmdaten) aus einer CSV-Datei, generieren Embeddings via Azure OpenAI und speichern alles in unserem Cosmos DB Container."
      ]
    },
    {
      "cell_type": "markdown",
      "metadata": {},
      "source": [
        "### 5.1) Verbindungsaufbau mit Cosmos DB"
      ]
    },
    {
      "cell_type": "code",
      "metadata": {},
      "source": [
        "# Import der benötigten Bibliotheken\n",
        "from azure.cosmos import CosmosClient, PartitionKey\n",
        "import os\n",
        "from dotenv import load_dotenv\n",
        "\n",
        "# Laden der Umgebungsvariablen\n",
        "load_dotenv()\n",
        "\n",
        "COSMOS_DB_URL = os.getenv(\"COSMOSDB_URL\")\n",
        "COSMOS_DB_KEY = os.getenv(\"COSMOSDB_KEY\")\n",
        "DATABASE_NAME = os.getenv(\"COSMOSDB_NAME\")\n",
        "CONTAINER_NAME = os.getenv(\"COSMOSDB_CONTAINER_NAME\")\n",
        "\n",
        "# CosmosClient erstellen\n",
        "client = CosmosClient(COSMOS_DB_URL, COSMOS_DB_KEY)\n",
        "database = client.create_database_if_not_exists(DATABASE_NAME)\n",
        "container = database.create_container_if_not_exists(\n",
        "    id=CONTAINER_NAME,\n",
        "    partition_key=PartitionKey(path=\"/id\")\n",
        ")\n",
        "\n",
        "print(\"CosmosDB connection successful and container initialized!\")"
      ],
      "execution_count": null,
      "outputs": []
    },
    {
      "cell_type": "markdown",
      "metadata": {},
      "source": [
        "### 5.2) Embeddings via Azure OpenAI"
      ]
    },
    {
      "cell_type": "code",
      "metadata": {},
      "source": [
        "from langchain_openai import AzureOpenAIEmbeddings\n",
        "\n",
        "azure_openai_embeddings = AzureOpenAIEmbeddings(\n",
        "    azure_deployment=os.getenv(\"AZURE_OPENAI_EMBEDDING_DEPLOYMENT_NAME\")\n",
        ")\n",
        "\n",
        "def generate_embedding(content: str):\n",
        "    try:\n",
        "        return azure_openai_embeddings.embed_query(content)\n",
        "    except Exception as e:\n",
        "        print(f\"Fehler beim Erzeugen des Embeddings: {e}\")\n",
        "        return []"
      ],
      "execution_count": null,
      "outputs": []
    },
    {
      "cell_type": "markdown",
      "metadata": {},
      "source": [
        "### 5.3) CSV-Daten laden (z. B. Filmliste) und parsieren\n",
        "\n",
        "Wir laden mit der `CSVLoader`-Klasse (aus `langchain.document_loaders`) eine CSV-Datei (`movies.csv`). Anschließend reduzieren wir die Liste auf 50 Einträge, erzeugen jeweils ein Embedding und parsen den Inhalt in ein Dictionary."
      ]
    },
    {
      "cell_type": "code",
      "metadata": {},
      "source": [
        "from langchain.document_loaders.csv_loader import CSVLoader\n",
        "\n",
        "loader = CSVLoader(\n",
        "    file_path='./movies.csv',\n",
        "    source_column='original_title',\n",
        "    encoding='utf-8',\n",
        "    csv_args={\n",
        "        'delimiter': ',',\n",
        "        'fieldnames': [\n",
        "            'id', 'original_language', 'original_title', 'popularity',\n",
        "            'release_date', 'genre',\n",
        "            'overview', 'revenue', 'runtime', 'tagline'\n",
        "        ]\n",
        "    }\n",
        ")\n",
        "data = loader.load()\n",
        "# Optional: Anzahl Datensätze beschränken\n",
        "data = data[1:51]\n",
        "print(f\"Loaded {len(data)} movies.\")\n",
        "\n",
        "def parse_movie(movie, vector):\n",
        "    try:\n",
        "        content = movie.page_content\n",
        "        fields = dict(line.split(\": \", 1) for line in content.split(\"\\n\") if \": \" in line)\n",
        "\n",
        "        return {\n",
        "            \"id\": int(float(fields.get(\"id\", \"0\"))),\n",
        "            \"original_language\": fields.get(\"original_language\", \"\").strip(),\n",
        "            \"original_title\": fields.get(\"original_title\", \"\").strip(),\n",
        "            \"popularity\": fields.get(\"popularity\", \"0\"),\n",
        "            \"release_date\": fields.get(\"release_date\", \"\").strip(),\n",
        "            \"vote_average\": fields.get(\"vote_average\", \"0\"),\n",
        "            \"vote_count\": fields.get(\"vote_count\", \"0\"),\n",
        "            \"genre\": fields.get(\"genre\", \"[]\"),\n",
        "            \"overview\": fields.get(\"overview\", \"\").strip(),\n",
        "            \"revenue\": fields.get(\"revenue\", \"0\"),\n",
        "            \"runtime\": fields.get(\"runtime\", \"0\"),\n",
        "            \"tagline\": fields.get(\"tagline\", \"\").strip(),\n",
        "            \"vector\": vector\n",
        "        }\n",
        "    except Exception as e:\n",
        "        print(f\"Fehler beim Parsen: {e}\")\n",
        "        return {}\n",
        "\n",
        "parsed_movies = []\n",
        "for m in data:\n",
        "    vec = generate_embedding(m.page_content)\n",
        "    parsed_movies.append(parse_movie(m, vec))\n",
        "\n",
        "print(\"Erstes Beispiel:\", parsed_movies[0])"
      ],
      "execution_count": null,
      "outputs": []
    },
    {
      "cell_type": "markdown",
      "metadata": {},
      "source": [
        "### 5.4) Items in den Cosmos DB Container hochladen\n",
        "\n",
        "Wir durchlaufen unsere vorbereiteten Filmdaten und erstellen für jedes Objekt einen Upsert in Cosmos DB. Dabei muss die ID als String vorliegen. Anschließend können wir im Data Explorer des Azure-Portals unsere Daten sehen."
      ]
    },
    {
      "cell_type": "code",
      "metadata": {},
      "source": [
        "for item in parsed_movies:\n",
        "    item[\"id\"] = str(item[\"id\"])\n",
        "    try:\n",
        "        container.upsert_item(item)\n",
        "        print(\"Uploaded:\", item[\"original_title\"])\n",
        "    except Exception as e:\n",
        "        print(f\"Fehler beim Hochladen von {item['original_title']}: {e}\")\n",
        "\n",
        "print(f\"Successfully uploaded {len(parsed_movies)} movies into CosmosDB! 🚀\")"
      ],
      "execution_count": null,
      "outputs": []
    }
  ],
  "metadata": {
    "kernelspec": {
      "display_name": "Python 3",
      "language": "python",
      "name": "python3"
    },
    "language_info": {
      "codemirror_mode": {
        "name": "ipython",
        "version": 3
      },
      "file_extension": ".py",
      "mimetype": "text/x-python",
      "name": "python",
      "nbconvert_exporter": "python",
      "pygments_lexer": "ipython3",
      "version": "3.9"
    }
  },
  "nbformat": 4,
  "nbformat_minor": 2
}
