{
    "cells": [
        {
            "cell_type": "markdown",
            "metadata": {},
            "source": [
                "# Python-Module\n",
                "\n",
                "Einige Python-Module sind notwendig, um die Labore in diesem Repository zu nutzen. Die Modulnamen sind in der Datei `requirements.txt` aufgelistet, die sich im Hauptverzeichnis dieses Repositories befindet.\n",
                "\n",
                "Führe den folgenden Befehl aus, um die benötigten Pakete zu installieren.\n",
                "\n",
                "> **HINWEIS:** Falls du die Labore in GitHub Codespaces oder einem Dev-Container ausführst, sollten diese Anforderungen bereits während der Container-Einrichtung installiert worden sein. Du kannst den folgenden Befehl jedoch erneut ausführen, um sicherzustellen, dass alles installiert ist!"
            ]
        },
        {
            "cell_type": "code",
            "execution_count": null,
            "metadata": {},
            "outputs": [],
            "source": [
                "%pip install -r ../../../requirements.txt"
            ]
        },
        {
            "cell_type": "markdown",
            "metadata": {},
            "source": [
                "Falls oben keine Fehler auftreten, kannst du mit den restlichen Laboren fortfahren."
            ]
        }
    ],
    "metadata": {
        "kernelspec": {
            "display_name": ".venv",
            "language": "python",
            "name": "python3"
        },
        "language_info": {
            "codemirror_mode": {
                "name": "ipython",
                "version": 3
            },
            "file_extension": ".py",
            "mimetype": "text/x-python",
            "name": "python",
            "nbconvert_exporter": "python",
            "pygments_lexer": "ipython3",
            "version": "3.10.14"
        },
        "orig_nbformat": 4
    },
    "nbformat": 4,
    "nbformat_minor": 2
}
