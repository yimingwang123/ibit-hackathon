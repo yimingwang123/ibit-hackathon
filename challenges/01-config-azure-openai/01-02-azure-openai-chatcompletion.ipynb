{
    "cells": [
        {
            "attachments": {},
            "cell_type": "markdown",
            "metadata": {},
            "source": [
                "# 01-02 - Verbindung mit der Azure OpenAI API\n",
                "\n",
                "In diesem Lab werden wir einen einfachen Aufruf der Azure OpenAI API durchführen. \n",
                "\n",
                "## Einrichtung\n",
                "\n",
                "Zunächst müssen wir Werte aus der `.env`-Datei abrufen, die wir für Aufrufe der Azure OpenAI API verwenden werden."
            ]
        },
        {
            "cell_type": "code",
            "execution_count": null,
            "metadata": {},
            "outputs": [],
            "source": [
                "import json\n",
                "import requests\n",
                "import os\n",
                "from dotenv import load_dotenv\n",
                "\n",
                "# Laden der Umgebungsvariablen\n",
                "if load_dotenv():\n",
                "    print(\"Gefundener Azure OpenAI API Basis-Endpunkt: \" + os.getenv(\"AZURE_OPENAI_ENDPOINT\"))\n",
                "else: \n",
                "    print(\"Azure OpenAI API Basis-Endpunkt nicht gefunden. Haben Sie die .env-Datei konfiguriert?\")\n",
                "    \n",
                "API_KEY = os.getenv(\"AZURE_OPENAI_API_KEY\")\n",
                "API_VERSION = os.getenv(\"AZURE_OPENAI_API_VERSION\")\n",
                "RESOURCE_ENDPOINT = os.getenv(\"AZURE_OPENAI_ENDPOINT\")"
            ]
        },
        {
            "attachments": {},
            "cell_type": "markdown",
            "metadata": {},
            "source": [
                "## Einen Prompt mit der Azure OpenAI API senden\n",
                "\n",
                "Nun rufen wir die Azure OpenAI API mit einem Prompt auf. Dazu benötigen wir die `id` der Azure OpenAI-Bereitstellung, die unser Completion-Modell enthält. Diese sollte bereits in der `.env`-Datei eingerichtet sein."
            ]
        },
        {
            "cell_type": "code",
            "execution_count": null,
            "metadata": {},
            "outputs": [],
            "source": [
                "DEPLOYMENT_ID = os.getenv(\"AZURE_OPENAI_COMPLETION_DEPLOYMENT_NAME\")"
            ]
        },
        {
            "attachments": {},
            "cell_type": "markdown",
            "metadata": {},
            "source": [
                "Wir werden eine URL konstruieren, um zu sehen, wie sie aussieht."
            ]
        },
        {
            "cell_type": "code",
            "execution_count": null,
            "metadata": {},
            "outputs": [],
            "source": [
                "url = RESOURCE_ENDPOINT + \"/openai/deployments/\" + DEPLOYMENT_ID + \"/chat/completions?api-version=\" + API_VERSION\n",
                "\n",
                "print(url)"
            ]
        },
        {
            "attachments": {},
            "cell_type": "markdown",
            "metadata": {},
            "source": [
                "Sie werden die vollständige URL sehen, die wir aufrufen werden. Diese URL nutzt die angegebene Bereitstellung, um die **Chat Completions** API aufzurufen.\n",
                "\n",
                "Als Nächstes rufen wir die Azure OpenAI API mit der obigen URL auf. Wir übergeben den API-Schlüssel im HTTP-Header. Zudem senden wir eine JSON-formatierte Anfrage, die den *Prompt* enthält, mit dem wir eine Antwort vom OpenAI-Modell erhalten möchten. In diesem Fall ist unser Prompt \"Es war einmal\", was das Modell dazu veranlassen sollte, eine Geschichte zu generieren."
            ]
        },
        {
            "cell_type": "code",
            "execution_count": null,
            "metadata": {},
            "outputs": [],
            "source": [
                "r = requests.post(url, headers={\"api-key\": API_KEY}, json={\"messages\":[{\"role\": \"assistant\", \"content\": \"Hallo, was kannst du alles machen?\"}]})\n",
                "\n",
                "print(json.dumps(r.json(), indent=2))"
            ]
        },
        {
            "attachments": {},
            "cell_type": "markdown",
            "metadata": {},
            "source": [
                "Das Ergebnis des API-Aufrufs wird JSON-Daten enthalten, ähnlich dem folgenden Beispiel. Beachten Sie, dass die Antwort bearbeitet wurde, um sie leichter lesbar zu machen.\n",
                "\n",
                "```\n",
                "{\n",
                "  \"choices\": [\n",
                "    {\n",
                "      \"content_filter_results\": {\n",
                "        \"hate\": {\n",
                "          \"filtered\": false,\n",
                "          \"severity\": \"safe\"\n",
                "        },\n",
                "        \"protected_material_code\": {\n",
                "          \"filtered\": false,\n",
                "          \"detected\": false\n",
                "        },\n",
                "        \"protected_material_text\": {\n",
                "          \"filtered\": false,\n",
                "          \"detected\": false\n",
                "        },\n",
                "        \"self_harm\": {\n",
                "          \"filtered\": false,\n",
                "          \"severity\": \"safe\"\n",
                "        },\n",
                "        \"sexual\": {\n",
                "          \"filtered\": false,\n",
                "          \"severity\": \"safe\"\n",
                "        },\n",
                "        \"violence\": {\n",
                "          \"filtered\": false,\n",
                "          \"severity\": \"safe\"\n",
                "        }\n",
                "      },\n",
                "      \"finish_reason\": \"stop\",\n",
                "      \"index\": 0,\n",
                "      \"logprobs\": null,\n",
                "      \"message\": {\n",
                "        \"content\": \"Hallo! Ich kann dir bei vielen Dingen helfen. Hier sind einige Beispiele daf\\u00fcr, was ich tun kann:\\n\\n1. **Fragen beantworten:** Ich kann Informationen zu einer Vielzahl von Themen bereitstellen.\\n2. **Texte schreiben:** Ich helfe beim Verfassen von Texten, Artikeln, Aufs\\u00e4tzen, kreativen Geschichten und mehr.\\n3. **Erkl\\u00e4rungen bieten:** Ich erkl\\u00e4re komplizierte Konzepte einfach und verst\\u00e4ndlich.\\n4. **Rechnen:** Ich l\\u00f6se mathematische Probleme und helfe bei Gleichungen oder Kalkulationen.\\n5. **Programmieren:** Ich unterst\\u00fctze dich beim Schreiben und Verstehen von Code in verschiedenen Programmiersprachen.\\n6. **Tools und Tipps bereitstellen:** Ich biete Tipps f\\u00fcr den Alltag, Zeitmanagement, Gesundheit und vieles mehr.\\n7. **\\u00dcbersetzungen:** Ich \\u00fcbersetze Texte zwischen vielen verschiedenen Sprachen.\\n8. **Bildung und Lernen:** Ich helfe bei Hausaufgaben, Studium oder dem Lernen neuer Themen.\\n9. **Beratung:** Ich kann Ratschl\\u00e4ge zu allgemeinen Themen geben, z. B. pers\\u00f6nliche Entwicklung oder technische Problemsuche.\\n10. **Personalisierte Ideen:** Ob kreative Projekte, Namen, Geschenkideen oder Pl\\u00e4ne \\u2013 ich bin dabei!\\n\\nSag mir einfach, wobei du Unterst\\u00fctzung m\\u00f6chtest. \\ud83d\\ude0a\",\n",
                "        \"refusal\": null,\n",
                "        \"role\": \"assistant\"\n",
                "      }\n",
                "    }\n",
                "  ],\n",
                "  \"created\": 1739879169,\n",
                "  \"id\": \"chatcmpl-B2GLBlahuw7QfFpNBPVnOIW6AkQ52\",\n",
                "  \"model\": \"gpt-4o-2024-11-20\",\n",
                "  \"object\": \"chat.completion\",\n",
                "  \"prompt_filter_results\": [\n",
                "    {\n",
                "      \"prompt_index\": 0,\n",
                "      \"content_filter_results\": {}\n",
                "    }\n",
                "  ],\n",
                "  \"system_fingerprint\": \"fp_f3927aa00d\",\n",
                "  \"usage\": {\n",
                "    \"completion_tokens\": 266,\n",
                "    \"completion_tokens_details\": {\n",
                "      \"accepted_prediction_tokens\": 0,\n",
                "      \"audio_tokens\": 0,\n",
                "      \"reasoning_tokens\": 0,\n",
                "      \"rejected_prediction_tokens\": 0\n",
                "    },\n",
                "    \"prompt_tokens\": 15,\n",
                "    \"prompt_tokens_details\": {\n",
                "      \"audio_tokens\": 0,\n",
                "      \"cached_tokens\": 0\n",
                "    },\n",
                "    \"total_tokens\": 281\n",
                "  }\n",
                "}\n",
                "```\n",
                "\n",
                "### Erklärung der relevanten Daten\n",
                "\n",
                "Schlüssel | Beschreibung\n",
                "--- | ---\n",
                "`model` | Das Modell, das zur Generierung der Antwort verwendet wurde\n",
                "`content` | Die vom OpenAI-Modell generierte Antwort\n",
                "`finish_reason` | Der Grund, warum das Modell die Generierung beendet hat (`stop` bedeutet, dass es die Antwort vollständig generiert hat)\n",
                "`completion_tokens` | Anzahl der Token, die für die Antwort verwendet wurden\n",
                "`prompt_tokens` | Anzahl der Token, die vom Prompt verbraucht wurden\n",
                "`total_tokens` | Gesamtanzahl der verbrauchten Token (`prompt_tokens` + `completion_tokens`)"
            ]
        },
        {
            "attachments": {},
            "cell_type": "markdown",
            "metadata": {},
            "source": [
                "## Zusammenfassung\n",
                "\n",
                "In diesem Lab haben wir die Azure OpenAI API direkt verwendet, um einen Prompt an ein OpenAI-Modell zu senden."
            ]
        }
    ],
    "metadata": {
        "kernelspec": {
            "display_name": "ibit-hackathon",
            "language": "python",
            "name": "python3"
        },
        "language_info": {
            "codemirror_mode": {
                "name": "ipython",
                "version": 3
            },
            "file_extension": ".py",
            "mimetype": "text/x-python",
            "name": "python",
            "nbconvert_exporter": "python",
            "pygments_lexer": "ipython3",
            "version": "3.13.2"
        },
        "orig_nbformat": 4
    },
    "nbformat": 4,
    "nbformat_minor": 2
}
