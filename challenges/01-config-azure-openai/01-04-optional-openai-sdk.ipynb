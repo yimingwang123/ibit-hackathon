{
  "cells": [
    {
      "attachments": {},
      "cell_type": "markdown",
      "metadata": {},
      "source": [
        "# 01-04 - Verwendung der OpenAI-Bibliothek\n",
        "\n",
        "Im [ersten](../01-AzureOpenAIAPI/azureopenaiapi.ipynb) Lab haben wir durchgespielt, wie man die Azure OpenAI API direkt aufruft, um eine Eingabeaufforderung zur Vervollständigung einzureichen. Eine einfachere Möglichkeit, mit einer API zu arbeiten, ist die Verwendung einer *Bibliothek*. Eine Bibliothek ist eine Sammlung von Paketen und Modulen, die es ermöglichen, wiederverwendbaren Code mit der Community zu teilen.\n",
        "\n",
        "In diesem Lab werden wir die OpenAI Python-Bibliothek verwenden, um die gleichen Operationen auszuführen, die wir im ersten Lab durchgeführt haben."
      ]
    },
    {
      "attachments": {},
      "cell_type": "markdown",
      "metadata": {},
      "source": [
        "Zuerst verwenden wir die `import`-Anweisung, um unserer Anwendung mitzuteilen, dass wir die OpenAI-Bibliothek in unserem Code verwenden werden."
      ]
    },
    {
      "cell_type": "code",
      "execution_count": null,
      "metadata": {},
      "outputs": [],
      "source": [
        "import openai"
      ]
    },
    {
      "attachments": {},
      "cell_type": "markdown",
      "metadata": {},
      "source": [
        "Als nächstes bringen wir die Werte aus unserer `.env`-Datei ein."
      ]
    },
    {
      "cell_type": "code",
      "execution_count": null,
      "metadata": {},
      "outputs": [],
      "source": [
        "import os\n",
        "from dotenv import load_dotenv\n",
        "\n",
        "# Umgebungsvariablen laden\n",
        "if load_dotenv():\n",
        "    print(\"Gefundener Azure OpenAI API Basis-Endpunkt: \" + os.getenv(\"AZURE_OPENAI_ENDPOINT\"))\n",
        "else: \n",
        "    print(\"Azure OpenAI API Basis-Endpunkt nicht gefunden. Haben Sie die .env-Datei konfiguriert?\")"
      ]
    },
    {
      "cell_type": "markdown",
      "metadata": {},
      "source": [
        "Wir erstellen ein neues `AzureOpenAI`-Objekt und übergeben den API-Schlüssel, die API-Version und die zu verwendende Endpunkt-URL."
      ]
    },
    {
      "cell_type": "code",
      "execution_count": null,
      "metadata": {},
      "outputs": [],
      "source": [
        "from openai import AzureOpenAI\n",
        "\n",
        "client = AzureOpenAI(\n",
        "    azure_endpoint = os.getenv(\"AZURE_OPENAI_ENDPOINT\"),\n",
        "    api_key = os.getenv(\"AZURE_OPENAI_API_KEY\"),\n",
        "    api_version = os.getenv(\"AZURE_OPENAI_API_VERSION\")\n",
        ")"
      ]
    },
    {
      "attachments": {},
      "cell_type": "markdown",
      "metadata": {},
      "source": [
        "## Senden einer Eingabeaufforderung an Azure OpenAI mit der OpenAI-Bibliothek\n",
        "\n",
        "Nachdem wir eine Azure OpenAI-Instanz definiert haben, versuchen wir eine Chat Completion. Wir rufen die Methode `chat.completions.create()` auf. Beachten Sie, dass wir für den `model`-Wert tatsächlich die ID unserer Azure OpenAI-`deployment` übergeben. Wir übergeben auch die gewünschte `prompt` als `content` des `messages`-Parameters."
      ]
    },
    {
      "cell_type": "code",
      "execution_count": null,
      "metadata": {},
      "outputs": [],
      "source": [
        "response = client.chat.completions.create(\n",
        "    model = os.getenv(\"AZURE_OPENAI_COMPLETION_DEPLOYMENT_NAME\"),\n",
        "    messages = [{\"role\" : \"assistant\", \"content\" : \"Die eine Sache, die ich mehr als alles andere liebe, ist \"}],\n",
        ")\n",
        "\n",
        "print(response)"
      ]
    },
    {
      "attachments": {},
      "cell_type": "markdown",
      "metadata": {},
      "source": [
        "Die obige Antwort sollte ähnliche JSON-Daten enthalten wie beim direkten API-Aufruf in der vorherigen Übung, mit Details zum aufgerufenen Modell, der generierten Antwort und der Token-Nutzung.\n",
        "\n",
        "Wir können die strukturierte Antwort der API verwenden, um nur den generierten Antworttext zu extrahieren."
      ]
    },
    {
      "cell_type": "code",
      "execution_count": null,
      "metadata": {},
      "outputs": [],
      "source": [
        "print(response.choices[0].message.content)"
      ]
    },
    {
      "attachments": {},
      "cell_type": "markdown",
      "metadata": {},
      "source": [
        "## Zusammenfassung\n",
        "\n",
        "Die OpenAI-Bibliothek bietet eine prägnantere Möglichkeit, mit der OpenAI API zu arbeiten. Sobald wir die Anfangsparameter festgelegt haben, müssen wir sie nicht jedes Mal senden, wie es bei einem direkten API-Aufruf erforderlich ist. Es ist auch einfacher, Informationen wie Eingabeaufforderungen zur Anfrage hinzuzufügen, da wir diese Werte als Parameter an die OpenAI-Bibliotheksmethoden übergeben können, anstatt JSON-Objekte im Anforderungstext zu senden.\n",
        "\n",
        "Weitere Details zur Completions API finden Sie in der Referenzdokumentation:\n",
        "\n",
        "https://platform.openai.com/docs/api-reference/chat/create"
      ]
    },
    {
      "attachments": {},
      "cell_type": "markdown",
      "metadata": {},
      "source": [
        "## Als Nächstes\n",
        "\n",
        "Im nächsten Lab werden wir uns mit AI-Orchestratoren befassen. Während die OpenAI-Bibliothek die Arbeit mit der OpenAI API vereinfacht, heben Orchestratoren dies auf die nächste Stufe!"
      ]
    }
  ],
  "metadata": {
    "kernelspec": {
      "display_name": "Python 3",
      "language": "python",
      "name": "python3"
    },
    "language_info": {
      "codemirror_mode": {
        "name": "ipython",
        "version": 3
      },
      "file_extension": ".py",
      "mimetype": "text/x-python",
      "name": "python",
      "nbconvert_exporter": "python",
      "pygments_lexer": "ipython3",
      "version": "3.10.14"
    },
    "orig_nbformat": 4
  },
  "nbformat": 4,
  "nbformat_minor": 2
}
