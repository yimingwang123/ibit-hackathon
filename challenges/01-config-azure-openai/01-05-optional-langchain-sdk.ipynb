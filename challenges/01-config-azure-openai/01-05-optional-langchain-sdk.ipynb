{
    "cells": [
        {
            "attachments": {},
            "cell_type": "markdown",
            "metadata": {},
            "source": [
                "# 01-05 - Langchain\n",
                "\n",
                "In diesem Lab werden wir [Langchain](https://python.langchain.com/docs/get_started/introduction) vorstellen, ein Framework zur Entwicklung von Anwendungen, die auf Sprachmodellen basieren.\n",
                "\n",
                "Langchain unterstützt Python sowie Javascript/Typescript. In diesem Lab verwenden wir Python."
            ]
        },
        {
            "attachments": {},
            "cell_type": "markdown",
            "metadata": {},
            "source": [
                "Wir beginnen mit dem Import der `AzureOpenAI`-spezifischen Komponenten aus dem `langchain`-Paket, einschließlich Modelle und Schemata zur Interaktion mit der API."
            ]
        },
        {
            "cell_type": "code",
            "execution_count": null,
            "metadata": {},
            "outputs": [],
            "source": [
                "from langchain_openai import AzureChatOpenAI"
            ]
        },
        {
            "attachments": {},
            "cell_type": "markdown",
            "metadata": {},
            "source": [
                "Wie in allen anderen Labs müssen wir unseren API-Schlüssel und die Endpunktdetails angeben. Dazu laden wir sie aus unserer `.env`-Datei."
            ]
        },
        {
            "cell_type": "code",
            "execution_count": null,
            "metadata": {},
            "outputs": [],
            "source": [
                "import os\n",
                "import openai\n",
                "from dotenv import load_dotenv\n",
                "\n",
                "if load_dotenv():\n",
                "    print(\"Gefundener Azure OpenAI Endpunkt: \" + os.getenv(\"AZURE_OPENAI_ENDPOINT\"))\n",
                "else: \n",
                "    print(\"Keine .env-Datei gefunden\")"
            ]
        },
        {
            "attachments": {},
            "cell_type": "markdown",
            "metadata": {},
            "source": [
                "Als nächstes konfigurieren wir Langchain, indem wir den Azure OpenAI Deployment-Namen angeben. Langchain ruft automatisch die Details für den Azure OpenAI Endpunkt und die Version aus den oben gesetzten Umgebungsvariablen ab."
            ]
        },
        {
            "cell_type": "code",
            "execution_count": null,
            "metadata": {},
            "outputs": [],
            "source": [
                "# Erstelle eine Instanz von Azure OpenAI\n",
                "llm = AzureChatOpenAI(\n",
                "    azure_deployment=os.getenv(\"AZURE_OPENAI_COMPLETION_DEPLOYMENT_NAME\")\n",
                ")"
            ]
        },
        {
            "attachments": {},
            "cell_type": "markdown",
            "metadata": {},
            "source": [
                "## Eine Anfrage an Azure OpenAI mit Langchain senden\n",
                "\n",
                "Wir sind jetzt bereit, eine Anfrage an Azure OpenAI zu senden. Dazu rufen wir die `llm`-Instanz auf und übergeben die Eingabeaufforderung."
            ]
        },
        {
            "cell_type": "code",
            "execution_count": null,
            "metadata": {},
            "outputs": [],
            "source": [
                "r = llm.invoke(\"Welche Dinge kann ich mit einem Raspberry Pi bauen?\")\n",
                "\n",
                "# Die Antwort ausgeben\n",
                "print(r.content)"
            ]
        },
        {
            "cell_type": "markdown",
            "metadata": {},
            "source": [
                "Im Vergleich zur Verwendung der OpenAI Python-Bibliothek, wie wir es im vorherigen Lab getan haben, vereinfacht Langchain den Prozess der Interaktion mit dem LLM weiter, indem es ihn auf einen einzigen `llm.invoke`-Aufruf reduziert."
            ]
        },
        {
            "attachments": {},
            "cell_type": "markdown",
            "metadata": {},
            "source": [
                "## Verwendung von Templates und Chains\n",
                "\n",
                "Wir haben gesehen, dass wir Langchain zur Interaktion mit dem LLM nutzen können und dass es einfacher zu bedienen ist als die OpenAI Python-Bibliothek. Aber das ist nur der Anfang der Vorteile von Langchain. Die meisten OpenAI-Modelle sind für die Interaktion über eine Chat-Oberfläche ausgelegt, bei der ein System-Prompt den Kontext der Konversation definiert.\n",
                "\n",
                "Damit du nicht bei jeder Anfrage die System-Nachricht neu definieren musst, bietet Langchain die Möglichkeit von Templates. Templates erlauben es, eine System-Nachricht einmal zu definieren und dann für mehrere Interaktionen wiederzuverwenden."
            ]
        },
        {
            "cell_type": "code",
            "execution_count": null,
            "metadata": {},
            "outputs": [],
            "source": [
                "from langchain_core.prompts import ChatPromptTemplate\n",
                "prompt = ChatPromptTemplate.from_messages([\n",
                "    (\"system\", \"Du bist ein Chatbot, der Menschen hilft, Ideen für ihr nächstes Projekt zu generieren. Du kannst ihnen beim Brainstorming helfen, einen Plan erstellen oder sogar Unterstützung beim Projekt bieten.\"),\n",
                "    (\"user\", \"{input}\")\n",
                "])"
            ]
        },
        {
            "cell_type": "markdown",
            "metadata": {},
            "source": [
                "Oben haben wir eine \"system\"-Nachricht definiert, die dem LLM beschreibt, wie es reagieren soll, sowie einen `{input}`-Platzhalter für die Benutzereingabe.\n",
                "\n",
                "Nun definieren wir eine Chain, die eine Sequenz von Operationen beschreibt. In diesem Fall wird die definierte Eingabeaufforderung verarbeitet und an das LLM gesendet."
            ]
        },
        {
            "cell_type": "code",
            "execution_count": null,
            "metadata": {},
            "outputs": [],
            "source": [
                "chain = prompt | llm"
            ]
        },
        {
            "cell_type": "markdown",
            "metadata": {},
            "source": [
                "Jetzt können wir die Chain aufrufen, indem wir die Benutzereingabe als Parameter übergeben. Diese ersetzt den `{input}`-Platzhalter in der Eingabeaufforderung."
            ]
        },
        {
            "cell_type": "code",
            "execution_count": null,
            "metadata": {},
            "outputs": [],
            "source": [
                "chain.invoke({\"input\": \"Ich habe gerade einen Raspberry Pi gekauft und suche nach einem Projekt. Kannst du mir Ideen geben?\"})"
            ]
        }
    ],
    "metadata": {
        "kernelspec": {
            "display_name": "Python 3",
            "language": "python",
            "name": "python3"
        },
        "language_info": {
            "codemirror_mode": {
                "name": "ipython",
                "version": 3
            },
            "file_extension": ".py",
            "mimetype": "text/x-python",
            "name": "python",
            "nbconvert_exporter": "python",
            "pygments_lexer": "ipython3",
            "version": "3.10.14"
        },
        "orig_nbformat": 4
    },
    "nbformat": 4,
    "nbformat_minor": 2
}
